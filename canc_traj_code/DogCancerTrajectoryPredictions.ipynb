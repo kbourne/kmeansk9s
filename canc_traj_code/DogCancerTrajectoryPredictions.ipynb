{
 "cells": [
  {
   "cell_type": "markdown",
   "metadata": {
    "jp-MarkdownHeadingCollapsed": true,
    "tags": []
   },
   "source": [
    "# Applying Advanced Machine Learning Algorithms to Dog Disease Predictions"
   ]
  },
  {
   "cell_type": "code",
   "execution_count": null,
   "metadata": {
    "executionInfo": {
     "elapsed": 14,
     "status": "ok",
     "timestamp": 1658173527721,
     "user": {
      "displayName": "Keith Bourne",
      "userId": "06063145071346277193"
     },
     "user_tz": 240
    },
    "id": "15Gusdbpz4CD"
   },
   "outputs": [],
   "source": [
    "# VERSION SET UP\n",
    "# need to set some versions\n",
    "import sys \n",
    "!pip install imblearn\n",
    "\n",
    "# For Google Colab:\n",
    "# Mounting drive to access datafile\n",
    "# from google.colab import drive\n",
    "# drive.mount('/content/drive')\n",
    "\n",
    "# for Google Workbook:\n",
    "!{sys.executable} -m pip install --user pandas==1.1.5\n",
    "!{sys.executable} -m pip install --user tensorflow==1.13.1 # 1.15.0 # paper said us 1.10.0, but it doesn't exist???\n",
    "!{sys.executable} -m pip install --user numpy==1.19.5  # this one breaks on the tensor to numpy issue: 1.16.0 # tested with 1.16.0 # paper said us 1.15.3, but too many dependency conflicts\n",
    "!{sys.executable} -m pip install --user hmmlearn\n",
    "\n",
    "\n",
    "# for other environments:\n",
    "# !{sys.executable} -m pip install pandas==1.1.5\n",
    "# !{sys.executable} -m pip install tensorflow==1.13.1 # 1.15.0 # paper said us 1.10.0, but it doesn't exist???\n",
    "# !{sys.executable} -m pip install numpy==1.19.5  # this one breaks on the tensor to numpy issue: 1.16.0 # tested with 1.16.0 # paper said us 1.15.3, but too many dependency conflicts\n",
    "# !{sys.executable} -m pip install hmmlearn\n",
    "\n",
    "# may have to restart kernel after running these to get access to them"
   ]
  },
  {
   "cell_type": "code",
   "execution_count": 2,
   "metadata": {
    "executionInfo": {
     "elapsed": 5747,
     "status": "ok",
     "timestamp": 1658173533456,
     "user": {
      "displayName": "Keith Bourne",
      "userId": "06063145071346277193"
     },
     "user_tz": 240
    },
    "id": "0cYlZWW10eni"
   },
   "outputs": [],
   "source": [
    "#Importing/installing modules\n",
    "from __future__ import absolute_import, division, print_function\n",
    "\n",
    "import collections\n",
    "import hashlib\n",
    "import numbers\n",
    "import itertools\n",
    "import functools\n",
    "import inspect\n",
    "import pickle\n",
    "\n",
    "import pandas as pd\n",
    "import numpy as np\n",
    "\n",
    "from matplotlib import pyplot as plt\n",
    "get_ipython().magic('matplotlib inline')\n",
    "\n",
    "import warnings\n",
    "warnings.filterwarnings(\"ignore\")\n",
    "\n",
    "import os\n",
    "from pathlib import Path\n",
    "import shutil\n",
    "\n",
    "import tensorflow as tf\n",
    "from tensorflow.contrib.rnn import PhasedLSTMCell, MultiRNNCell, BasicRNNCell\n",
    "from tensorflow.python.ops import rnn_cell, rnn\n",
    "from tensorflow.python.eager import context\n",
    "from tensorflow.python.framework import constant_op, dtypes, ops, tensor_shape, tensor_util   \n",
    "from tensorflow.python.layers import base as base_layer\n",
    "from tensorflow.python.ops import * \n",
    "from tensorflow.python.platform import tf_logging as logging\n",
    "from tensorflow.python.training import checkpointable\n",
    "from tensorflow.python.util import nest\n",
    "from tensorflow.python.util.tf_export import tf_export\n",
    "\n",
    "from sklearn.model_selection import *\n",
    "from sklearn.metrics import *\n",
    "from sklearn.preprocessing import StandardScaler, MinMaxScaler\n",
    "# from sklearn.metrics import accuracy_score\n",
    "# from sklearn.metrics import mean_absolute_error\n",
    "from sklearn.manifold import TSNE\n",
    "from sklearn.decomposition import PCA\n",
    "from sklearn.mixture import GaussianMixture\n",
    "from scipy.stats import multivariate_normal\n",
    "from hmmlearn import hmm\n",
    "\n",
    "# pipelines\n",
    "from imblearn.pipeline import Pipeline\n",
    "from sklearn.pipeline import Pipeline\n",
    "from sklearn import set_config # used to display pipeline diagram\n",
    "\n",
    "# Model Code\n",
    "from timegan import timegan, discriminative_score_metrics,  predictive_score_metrics, doggo_data_timeGANs, prep_synth_data, oversamp_minority_data\n",
    "from assm import attentive_state_space_model, generate_doggo_trajectory, generate_doggo_trajectory_syn, generate_doggo_trajectory_comb, HMM\n",
    "\n",
    "# Evaluation\n",
    "from metrics import PCA_Analysis, tSNE_Analysis\n",
    "\n",
    "# Data Processing\n",
    "from data_proc import doggo_data_loading\n",
    "import time\n",
    "\n",
    "os.environ['TF_CPP_MIN_LOG_LEVEL'] = '3' "
   ]
  },
  {
   "cell_type": "code",
   "execution_count": 3,
   "metadata": {
    "colab": {
     "base_uri": "https://localhost:8080/"
    },
    "executionInfo": {
     "elapsed": 32,
     "status": "ok",
     "timestamp": 1658173533459,
     "user": {
      "displayName": "Keith Bourne",
      "userId": "06063145071346277193"
     },
     "user_tz": 240
    },
    "id": "Ob2ZnGMk0e02",
    "outputId": "5a580db7-8449-48d5-a786-561a2fdb84a5"
   },
   "outputs": [
    {
     "name": "stdout",
     "output_type": "stream",
     "text": [
      "Python: sys.version_info(major=3, minor=7, micro=12, releaselevel='final', serial=0) \n",
      "\n",
      "Pandas version correct True\n",
      "Numpy version correct True\n",
      "TensorFlow version correct True\n",
      "\n",
      "Versions all correct\n"
     ]
    }
   ],
   "source": [
    "# version checks\n",
    "# Python version\n",
    "# Python version - should be 3.6 or could have issues\n",
    "print('Python:',sys.version_info, '\\n')\n",
    "\n",
    "pd_check = pd.__version__=='1.1.5'\n",
    "np_check = np.__version__=='1.19.5'\n",
    "tf_check = tf.__version__=='1.13.1'\n",
    "print('Pandas version correct', pd_check)\n",
    "print('Numpy version correct', np_check)\n",
    "print('TensorFlow version correct', tf_check)\n",
    "if(pd_check == True and np_check == True and tf_check == True):\n",
    "    print(\"\\nVersions all correct\")\n",
    "else:\n",
    "    print(\"\"\"\n",
    "    A key version of these libraries is set to the wrong version.\n",
    "    Run the appropriate VERSION SET UP settings above and then restart kernel.\n",
    "            \"\"\")\n",
    "\n"
   ]
  },
  {
   "cell_type": "code",
   "execution_count": 4,
   "metadata": {},
   "outputs": [
    {
     "name": "stdout",
     "output_type": "stream",
     "text": [
      "feature size:  42\n",
      "Joined SIZE:  (49425, 47)\n",
      "doggo_data_timeGANs dataframe shape post:  (49425, 42)\n",
      "Elapsed time to pull up data: 10.423 seconds\n"
     ]
    }
   ],
   "source": [
    "seqlen = 4\n",
    "\n",
    "start_time = time.time()\n",
    "\n",
    "gan_df, gan_feat_list = doggo_data_loading(seq_length=seqlen, apply_seq_length=True)\n",
    "dataX = doggo_data_timeGANs(gan_df, seq_length=seqlen)\n",
    "\n",
    "elapsed_time = time.time() - start_time\n",
    "print(f\"Elapsed time to pull up data: {elapsed_time:.3f} seconds\")"
   ]
  },
  {
   "cell_type": "markdown",
   "metadata": {
    "id": "Jak2yik4AjIA",
    "tags": []
   },
   "source": [
    "# Time-series Generative Adversarial Networks"
   ]
  },
  {
   "cell_type": "code",
   "execution_count": 5,
   "metadata": {
    "colab": {
     "base_uri": "https://localhost:8080/"
    },
    "executionInfo": {
     "elapsed": 77,
     "status": "ok",
     "timestamp": 1658173555356,
     "user": {
      "displayName": "Keith Bourne",
      "userId": "06063145071346277193"
     },
     "user_tz": 240
    },
    "id": "6PbQ6Te60fY7",
    "outputId": "abad8387-4e31-4e6a-cc95-fdd21aeba306"
   },
   "outputs": [
    {
     "name": "stdout",
     "output_type": "stream",
     "text": [
      "Parameters are {'hidden_dim': 168, 'num_layers': 3, 'iterations': 10000, 'batch_size': 128, 'module_name': 'gru', 'z_dim': 42}\n"
     ]
    }
   ],
   "source": [
    "## Main Parameters\n",
    "# Experiments iterations\n",
    "Iteration = 2 # started with: 1\n",
    "Sub_Iteration = 3 # started with: 2\n",
    "\n",
    "## Newtork Parameters\n",
    "parameters = dict()\n",
    "\n",
    "parameters['hidden_dim'] = len(dataX[0][0,:]) * 4\n",
    "parameters['num_layers'] = 3 # started with: 2 (has to be at least 2!)\n",
    "parameters['iterations'] = 10000 # started with: 1000, low as 10\n",
    "parameters['batch_size'] = 128 # started with: 64, low as 2\n",
    "parameters['module_name'] = 'gru'   # Other options: 'lstm' or 'lstmLN'\n",
    "parameters['z_dim'] = len(dataX[0][0,:]) \n",
    "\n",
    "print('Parameters are ' + str(parameters))\n",
    "\n",
    "## Experiments\n",
    "# Output Initialization\n",
    "Discriminative_Score = list()\n",
    "Predictive_Score = list()"
   ]
  },
  {
   "cell_type": "code",
   "execution_count": 6,
   "metadata": {
    "colab": {
     "base_uri": "https://localhost:8080/"
    },
    "executionInfo": {
     "elapsed": 146248,
     "status": "ok",
     "timestamp": 1658173701545,
     "user": {
      "displayName": "Keith Bourne",
      "userId": "06063145071346277193"
     },
     "user_tz": 240
    },
    "id": "WxK7L4c30fbK",
    "outputId": "b985614f-c032-4ee0-ad2c-e1e3f83f3f34"
   },
   "outputs": [
    {
     "name": "stdout",
     "output_type": "stream",
     "text": [
      "Start iterations\n",
      "WARNING:tensorflow:From /home/jupyter/timegan.py:67: GRUCell.__init__ (from tensorflow.python.ops.rnn_cell_impl) is deprecated and will be removed in a future version.\n",
      "Instructions for updating:\n",
      "This class is equivalent as tf.keras.layers.GRUCell, and will be replaced by that in Tensorflow 2.0.\n",
      "WARNING:tensorflow:From /home/jupyter/timegan.py:83: MultiRNNCell.__init__ (from tensorflow.python.ops.rnn_cell_impl) is deprecated and will be removed in a future version.\n",
      "Instructions for updating:\n",
      "This class is equivalent as tf.keras.layers.StackedRNNCells, and will be replaced by that in Tensorflow 2.0.\n",
      "WARNING:tensorflow:From /home/jupyter/timegan.py:85: dynamic_rnn (from tensorflow.python.ops.rnn) is deprecated and will be removed in a future version.\n",
      "Instructions for updating:\n",
      "Please use `keras.layers.RNN(cell)`, which is equivalent to this API\n",
      "WARNING:tensorflow:From /home/jupyter/.local/lib/python3.7/site-packages/tensorflow/python/ops/rnn.py:626: to_int32 (from tensorflow.python.ops.math_ops) is deprecated and will be removed in a future version.\n",
      "Instructions for updating:\n",
      "Use tf.cast instead.\n",
      "WARNING:tensorflow:From /home/jupyter/.local/lib/python3.7/site-packages/tensorflow/python/ops/tensor_array_ops.py:162: colocate_with (from tensorflow.python.framework.ops) is deprecated and will be removed in a future version.\n",
      "Instructions for updating:\n",
      "Colocations handled automatically by placer.\n",
      "WARNING:tensorflow:From /home/jupyter/.local/lib/python3.7/site-packages/tensorflow/python/ops/losses/losses_impl.py:209: to_float (from tensorflow.python.ops.math_ops) is deprecated and will be removed in a future version.\n",
      "Instructions for updating:\n",
      "Use tf.cast instead.\n",
      "Start Embedding Network Training\n",
      "step: 0, e_loss: 0.4172\n",
      "step: 1000, e_loss: 0.2605\n",
      "step: 2000, e_loss: 0.246\n",
      "step: 3000, e_loss: 0.2265\n",
      "step: 4000, e_loss: 0.2016\n",
      "step: 5000, e_loss: 0.1869\n",
      "step: 6000, e_loss: 0.1559\n",
      "step: 7000, e_loss: 0.1374\n",
      "step: 8000, e_loss: 0.1177\n",
      "step: 9000, e_loss: 0.0973\n",
      "Finish Embedding Network Training\n",
      "Start Training with Supervised Loss Only\n",
      "step: 0, s_loss: 0.3086\n",
      "step: 1000, s_loss: 0.0305\n",
      "step: 2000, s_loss: 0.0242\n",
      "step: 3000, s_loss: 0.0207\n",
      "step: 4000, s_loss: 0.0184\n",
      "step: 5000, s_loss: 0.0167\n",
      "step: 6000, s_loss: 0.0156\n",
      "step: 7000, s_loss: 0.0148\n",
      "step: 8000, s_loss: 0.0143\n",
      "step: 9000, s_loss: 0.014\n",
      "Finish Training with Supervised Loss Only\n",
      "Start Joint Training\n",
      "step: 0, d_loss: 2.0593, g_loss_u: 0.7102, g_loss_s: 0.0666, g_loss_v: 0.5076, e_loss_t0: 0.1529\n",
      "step: 1000, d_loss: 1.4148, g_loss_u: 1.9403, g_loss_s: 0.0315, g_loss_v: 0.0593, e_loss_t0: 0.0663\n",
      "step: 2000, d_loss: 1.6154, g_loss_u: 1.5411, g_loss_s: 0.0273, g_loss_v: 0.0942, e_loss_t0: 0.0449\n",
      "step: 3000, d_loss: 1.5502, g_loss_u: 1.209, g_loss_s: 0.0265, g_loss_v: 0.0671, e_loss_t0: 0.0421\n",
      "step: 4000, d_loss: 1.4892, g_loss_u: 1.3291, g_loss_s: 0.0292, g_loss_v: 0.0566, e_loss_t0: 0.0356\n",
      "step: 5000, d_loss: 1.3139, g_loss_u: 1.541, g_loss_s: 0.0275, g_loss_v: 0.0742, e_loss_t0: 0.0413\n",
      "step: 6000, d_loss: 1.4783, g_loss_u: 1.899, g_loss_s: 0.0288, g_loss_v: 0.0655, e_loss_t0: 0.0277\n",
      "step: 7000, d_loss: 1.4971, g_loss_u: 1.692, g_loss_s: 0.0288, g_loss_v: 0.0788, e_loss_t0: 0.0298\n",
      "step: 8000, d_loss: 1.2776, g_loss_u: 1.6699, g_loss_s: 0.0258, g_loss_v: 0.0619, e_loss_t0: 0.0215\n",
      "step: 9000, d_loss: 1.3159, g_loss_u: 1.461, g_loss_s: 0.0299, g_loss_v: 0.0688, e_loss_t0: 0.0183\n",
      "Finish Joint Training\n",
      "Finish Synthetic Data Generation\n",
      "Elapsed time to Finish Synthetic Data Generation: 5048.935 seconds\n",
      "WARNING:tensorflow:From /home/jupyter/timegan.py:405: all_variables (from tensorflow.python.ops.variables) is deprecated and will be removed after 2017-03-02.\n",
      "Instructions for updating:\n",
      "Please use tf.global_variables instead.\n",
      "[step: 0] loss - d loss: 1.3773000240325928\n",
      "[step: 500] loss - d loss: 0.10000000149011612\n",
      "[step: 1000] loss - d loss: 0.03269999846816063\n",
      "[step: 1500] loss - d loss: 0.002899999963119626\n",
      "[step: 0] loss - d loss: 1.419700026512146\n",
      "[step: 500] loss - d loss: 0.08299999684095383\n",
      "[step: 1000] loss - d loss: 0.01640000008046627\n",
      "[step: 1500] loss - d loss: 0.007300000172108412\n",
      "[step: 0] loss - d loss: 1.4071999788284302\n",
      "[step: 500] loss - d loss: 0.10999999940395355\n",
      "[step: 1000] loss - d loss: 0.013199999928474426\n",
      "[step: 1500] loss - d loss: 0.0052999998442828655\n",
      "Elapsed time to pull up Discriminative Score: 5093.862 seconds\n",
      "min data solvency check predictive score metrics: <function predictive_score_metrics at 0x7fc93941f680>\n",
      "[step: 0] loss - d loss: 0.741889476776123\n",
      "[step: 500] loss - d loss: 0.20663978159427643\n",
      "[step: 1000] loss - d loss: 0.2179449498653412\n",
      "[step: 1500] loss - d loss: 0.30854496359825134\n",
      "[step: 2000] loss - d loss: 0.2383275032043457\n",
      "[step: 2500] loss - d loss: 0.30430248379707336\n",
      "[step: 3000] loss - d loss: 0.28089144825935364\n",
      "[step: 3500] loss - d loss: 0.22405356168746948\n",
      "[step: 4000] loss - d loss: 0.3576310873031616\n",
      "[step: 4500] loss - d loss: 0.3324154019355774\n",
      "min data solvency check predictive score metrics: <function predictive_score_metrics at 0x7fc93941f680>\n",
      "[step: 0] loss - d loss: 0.6805145144462585\n",
      "[step: 500] loss - d loss: 0.24879710376262665\n",
      "[step: 1000] loss - d loss: 0.3170173466205597\n",
      "[step: 1500] loss - d loss: 0.29325756430625916\n",
      "[step: 2000] loss - d loss: 0.2063976675271988\n",
      "[step: 2500] loss - d loss: 0.2253885567188263\n",
      "[step: 3000] loss - d loss: 0.2891366481781006\n",
      "[step: 3500] loss - d loss: 0.23388031125068665\n",
      "[step: 4000] loss - d loss: 0.27312999963760376\n",
      "[step: 4500] loss - d loss: 0.327261358499527\n",
      "min data solvency check predictive score metrics: <function predictive_score_metrics at 0x7fc93941f680>\n",
      "[step: 0] loss - d loss: 0.7175653576850891\n",
      "[step: 500] loss - d loss: 0.16703292727470398\n",
      "[step: 1000] loss - d loss: 0.27202939987182617\n",
      "[step: 1500] loss - d loss: 0.22737634181976318\n",
      "[step: 2000] loss - d loss: 0.3281767666339874\n",
      "[step: 2500] loss - d loss: 0.26343879103660583\n",
      "[step: 3000] loss - d loss: 0.2733130156993866\n",
      "[step: 3500] loss - d loss: 0.256904661655426\n",
      "[step: 4000] loss - d loss: 0.3064310848712921\n",
      "[step: 4500] loss - d loss: 0.2611512839794159\n",
      "Elapsed time to pull up Predictive Performance: 5202.537 seconds\n",
      "Start Embedding Network Training\n",
      "step: 0, e_loss: 0.4215\n",
      "step: 1000, e_loss: 0.2509\n",
      "step: 2000, e_loss: 0.23\n",
      "step: 3000, e_loss: 0.1987\n",
      "step: 4000, e_loss: 0.1794\n",
      "step: 5000, e_loss: 0.1479\n",
      "step: 6000, e_loss: 0.1339\n",
      "step: 7000, e_loss: 0.1107\n",
      "step: 8000, e_loss: 0.0995\n",
      "step: 9000, e_loss: 0.0907\n",
      "Finish Embedding Network Training\n",
      "Start Training with Supervised Loss Only\n",
      "step: 0, s_loss: 0.3355\n",
      "step: 1000, s_loss: 0.0288\n",
      "step: 2000, s_loss: 0.0219\n",
      "step: 3000, s_loss: 0.02\n",
      "step: 4000, s_loss: 0.0175\n",
      "step: 5000, s_loss: 0.0166\n",
      "step: 6000, s_loss: 0.0154\n",
      "step: 7000, s_loss: 0.0142\n",
      "step: 8000, s_loss: 0.0139\n",
      "step: 9000, s_loss: 0.0136\n",
      "Finish Training with Supervised Loss Only\n",
      "Start Joint Training\n",
      "step: 0, d_loss: 2.0823, g_loss_u: 0.6927, g_loss_s: 0.0753, g_loss_v: 0.5125, e_loss_t0: 0.1559\n",
      "step: 1000, d_loss: 1.2061, g_loss_u: 1.4719, g_loss_s: 0.0325, g_loss_v: 0.0617, e_loss_t0: 0.0619\n",
      "step: 2000, d_loss: 1.4912, g_loss_u: 1.4797, g_loss_s: 0.0293, g_loss_v: 0.06, e_loss_t0: 0.0506\n",
      "step: 3000, d_loss: 1.4023, g_loss_u: 1.2712, g_loss_s: 0.0291, g_loss_v: 0.054, e_loss_t0: 0.0447\n",
      "step: 4000, d_loss: 1.6337, g_loss_u: 1.857, g_loss_s: 0.0297, g_loss_v: 0.0653, e_loss_t0: 0.0741\n",
      "step: 5000, d_loss: 1.4925, g_loss_u: 1.4699, g_loss_s: 0.0289, g_loss_v: 0.0724, e_loss_t0: 0.0308\n",
      "step: 6000, d_loss: 1.2611, g_loss_u: 1.2724, g_loss_s: 0.0277, g_loss_v: 0.0583, e_loss_t0: 0.0318\n",
      "step: 7000, d_loss: 1.2616, g_loss_u: 1.4639, g_loss_s: 0.0295, g_loss_v: 0.0527, e_loss_t0: 0.0282\n",
      "step: 8000, d_loss: 1.4129, g_loss_u: 1.3927, g_loss_s: 0.026, g_loss_v: 0.0523, e_loss_t0: 0.0234\n",
      "step: 9000, d_loss: 1.2521, g_loss_u: 1.5532, g_loss_s: 0.0302, g_loss_v: 0.0593, e_loss_t0: 0.0247\n",
      "Finish Joint Training\n",
      "Finish Synthetic Data Generation\n",
      "Elapsed time to Finish Synthetic Data Generation: 10245.156 seconds\n",
      "[step: 0] loss - d loss: 1.4395999908447266\n",
      "[step: 500] loss - d loss: 0.3855000138282776\n",
      "[step: 1000] loss - d loss: 0.1599999964237213\n",
      "[step: 1500] loss - d loss: 0.08079999685287476\n",
      "[step: 0] loss - d loss: 1.3841999769210815\n",
      "[step: 500] loss - d loss: 0.33410000801086426\n",
      "[step: 1000] loss - d loss: 0.18410000205039978\n",
      "[step: 1500] loss - d loss: 0.20829999446868896\n",
      "[step: 0] loss - d loss: 1.4242000579833984\n",
      "[step: 500] loss - d loss: 0.4041999876499176\n",
      "[step: 1000] loss - d loss: 0.1988999992609024\n",
      "[step: 1500] loss - d loss: 0.16210000216960907\n",
      "Elapsed time to pull up Discriminative Score: 10287.296 seconds\n",
      "min data solvency check predictive score metrics: <function predictive_score_metrics at 0x7fc93941f680>\n",
      "[step: 0] loss - d loss: 0.727186381816864\n",
      "[step: 500] loss - d loss: 0.3011644184589386\n",
      "[step: 1000] loss - d loss: 0.1959591805934906\n",
      "[step: 1500] loss - d loss: 0.29051676392555237\n",
      "[step: 2000] loss - d loss: 0.25416529178619385\n",
      "[step: 2500] loss - d loss: 0.27766886353492737\n",
      "[step: 3000] loss - d loss: 0.252388596534729\n",
      "[step: 3500] loss - d loss: 0.23685438930988312\n",
      "[step: 4000] loss - d loss: 0.3021588921546936\n",
      "[step: 4500] loss - d loss: 0.3214031755924225\n",
      "min data solvency check predictive score metrics: <function predictive_score_metrics at 0x7fc93941f680>\n",
      "[step: 0] loss - d loss: 0.7353910207748413\n",
      "[step: 500] loss - d loss: 0.33406585454940796\n",
      "[step: 1000] loss - d loss: 0.3026549220085144\n",
      "[step: 1500] loss - d loss: 0.2734958827495575\n",
      "[step: 2000] loss - d loss: 0.19570386409759521\n",
      "[step: 2500] loss - d loss: 0.25099802017211914\n",
      "[step: 3000] loss - d loss: 0.24124675989151\n",
      "[step: 3500] loss - d loss: 0.2009975016117096\n",
      "[step: 4000] loss - d loss: 0.3237282931804657\n",
      "[step: 4500] loss - d loss: 0.2592296302318573\n",
      "min data solvency check predictive score metrics: <function predictive_score_metrics at 0x7fc93941f680>\n",
      "[step: 0] loss - d loss: 0.686440110206604\n",
      "[step: 500] loss - d loss: 0.2638181149959564\n",
      "[step: 1000] loss - d loss: 0.30870696902275085\n",
      "[step: 1500] loss - d loss: 0.31272992491722107\n",
      "[step: 2000] loss - d loss: 0.273861289024353\n",
      "[step: 2500] loss - d loss: 0.26999998092651367\n",
      "[step: 3000] loss - d loss: 0.30380913615226746\n",
      "[step: 3500] loss - d loss: 0.2991655170917511\n",
      "[step: 4000] loss - d loss: 0.3072458505630493\n",
      "[step: 4500] loss - d loss: 0.25534290075302124\n",
      "Elapsed time to pull up Predictive Performance: 10395.709 seconds\n",
      "Finish TimeGAN iterations\n",
      "Elapsed time FINAL: 10395.710 seconds\n"
     ]
    }
   ],
   "source": [
    "# Run TimeGANs model\n",
    "print('Start iterations') \n",
    "start_time = time.time()\n",
    "\n",
    "# Each Iteration\n",
    "for it in range(Iteration):\n",
    "\n",
    "    # Synthetic Data Generation\n",
    "    dataX_hat = timegan(dataX, parameters)   \n",
    "\n",
    "    print('Finish Synthetic Data Generation')\n",
    "    elapsed_time = time.time() - start_time\n",
    "    print(f\"Elapsed time to Finish Synthetic Data Generation: {elapsed_time:.3f} seconds\")\n",
    "\n",
    "    ## Performance Metrics\n",
    "    \n",
    "    # 1. Discriminative Score\n",
    "    Acc = list()\n",
    "    for tt in range(Sub_Iteration):\n",
    "        Temp_Disc = discriminative_score_metrics (dataX, dataX_hat)\n",
    "        Acc.append(Temp_Disc)\n",
    "    \n",
    "    elapsed_time = time.time() - start_time\n",
    "    print(f\"Elapsed time to pull up Discriminative Score: {elapsed_time:.3f} seconds\")\n",
    "    \n",
    "    Discriminative_Score.append(np.mean(Acc))\n",
    "    \n",
    "    # 2. Predictive Performance\n",
    "    MAE_All = list()\n",
    "    for tt in range(Sub_Iteration):\n",
    "        # print(f'min data solvency check predictive score metrics length: {len(predictive_score_metrics(dataX_min, dataX_hat_min))}')\n",
    "        print(f'min data solvency check predictive score metrics: {predictive_score_metrics}')\n",
    "        MAE_All.append(predictive_score_metrics (dataX, dataX_hat))\n",
    "    \n",
    "    elapsed_time = time.time() - start_time\n",
    "    print(f\"Elapsed time to pull up Predictive Performance: {elapsed_time:.3f} seconds\")\n",
    "        \n",
    "    Predictive_Score.append(np.mean(MAE_All))    \n",
    "    \n",
    "print('Finish TimeGAN iterations')\n",
    "elapsed_time = time.time() - start_time\n",
    "print(f\"Elapsed time FINAL: {elapsed_time:.3f} seconds\")"
   ]
  },
  {
   "cell_type": "code",
   "execution_count": 7,
   "metadata": {
    "colab": {
     "base_uri": "https://localhost:8080/",
     "height": 295
    },
    "executionInfo": {
     "elapsed": 553,
     "status": "ok",
     "timestamp": 1658173702091,
     "user": {
      "displayName": "Keith Bourne",
      "userId": "06063145071346277193"
     },
     "user_tz": 240
    },
    "id": "GvnYgEHG0fda",
    "outputId": "ce076b96-f0b8-4cf8-d5c1-9fb5df550a01"
   },
   "outputs": [
    {
     "data": {
      "image/png": "[encoded data removed]",
      "text/plain": [
       "<Figure size 432x288 with 1 Axes>"
      ]
     },
     "metadata": {
      "needs_background": "light"
     },
     "output_type": "display_data"
    }
   ],
   "source": [
    "PCA_Analysis (dataX, dataX_hat)"
   ]
  },
  {
   "cell_type": "code",
   "execution_count": 8,
   "metadata": {
    "colab": {
     "base_uri": "https://localhost:8080/",
     "height": 443
    },
    "executionInfo": {
     "elapsed": 5418,
     "status": "ok",
     "timestamp": 1658173707504,
     "user": {
      "displayName": "Keith Bourne",
      "userId": "06063145071346277193"
     },
     "user_tz": 240
    },
    "id": "j_Sm91MJ0ffm",
    "outputId": "e5f2e790-30da-4baf-8ab4-7d57b1a10962"
   },
   "outputs": [
    {
     "name": "stdout",
     "output_type": "stream",
     "text": [
      "[t-SNE] Computing 121 nearest neighbors...\n",
      "[t-SNE] Indexed 2000 samples in 0.002s...\n",
      "[t-SNE] Computed neighbors for 2000 samples in 0.068s...\n",
      "[t-SNE] Computed conditional probabilities for sample 1000 / 2000\n",
      "[t-SNE] Computed conditional probabilities for sample 2000 / 2000\n",
      "[t-SNE] Mean sigma: 0.014420\n",
      "[t-SNE] KL divergence after 250 iterations with early exaggeration: 64.729492\n",
      "[t-SNE] KL divergence after 300 iterations: 1.045999\n"
     ]
    },
    {
     "data": {
      "image/png": "[encoded data removed]",
      "text/plain": [
       "<Figure size 432x288 with 1 Axes>"
      ]
     },
     "metadata": {
      "needs_background": "light"
     },
     "output_type": "display_data"
    }
   ],
   "source": [
    "tSNE_Analysis (dataX, dataX_hat)"
   ]
  },
  {
   "cell_type": "code",
   "execution_count": 9,
   "metadata": {
    "colab": {
     "base_uri": "https://localhost:8080/"
    },
    "executionInfo": {
     "elapsed": 29,
     "status": "ok",
     "timestamp": 1658173707506,
     "user": {
      "displayName": "Keith Bourne",
      "userId": "06063145071346277193"
     },
     "user_tz": 240
    },
    "id": "vQtf-pNk0fh6",
    "outputId": "aff848a2-8f4e-4153-f0f8-9bcd88bc3047"
   },
   "outputs": [
    {
     "name": "stdout",
     "output_type": "stream",
     "text": [
      "Discriminative Score - Mean: 0.4924, Std: 0.0052\n",
      "Predictive Score - Mean: 0.0839, Std: 0.0\n"
     ]
    }
   ],
   "source": [
    "# Print Results\n",
    "print('Discriminative Score - Mean: ' + str(np.round(np.mean(Discriminative_Score),4)) + ', Std: ' + str(np.round(np.std(Discriminative_Score),4)))\n",
    "print('Predictive Score - Mean: ' + str(np.round(np.mean(Predictive_Score),4)) + ', Std: ' + str(np.round(np.std(Predictive_Score),4)))"
   ]
  },
  {
   "cell_type": "markdown",
   "metadata": {
    "id": "WbhvPyExByO4",
    "jp-MarkdownHeadingCollapsed": true,
    "tags": []
   },
   "source": [
    "# DISEASE TRAJECTORY STATE PREDICTIONS"
   ]
  },
  {
   "cell_type": "code",
   "execution_count": 35,
   "metadata": {
    "colab": {
     "base_uri": "https://localhost:8080/"
    },
    "executionInfo": {
     "elapsed": 14372,
     "status": "ok",
     "timestamp": 1658174078173,
     "user": {
      "displayName": "Keith Bourne",
      "userId": "06063145071346277193"
     },
     "user_tz": 240
    },
    "id": "pPhe9fnR0fmh",
    "outputId": "9fcb4200-6d65-475b-aeac-f1c2edf06531"
   },
   "outputs": [
    {
     "name": "stdout",
     "output_type": "stream",
     "text": [
      "feature size:  42\n",
      "Joined SIZE:  (49425, 47)\n",
      "Elapsed time to pull up data: 10.110 seconds\n",
      "Elapsed time to massage data: 14.536 seconds\n"
     ]
    }
   ],
   "source": [
    "## Data Loading\n",
    "seqlen = 4\n",
    "\n",
    "start_time = time.time()\n",
    "\n",
    "# generate the data\n",
    "assm_df, assm_feat_list = doggo_data_loading(seq_length=seqlen, apply_seq_length=True) \n",
    "feat_num = len(assm_feat_list)\n",
    "\n",
    "elapsed_time = time.time() - start_time\n",
    "print(f\"Elapsed time to pull up data: {elapsed_time:.3f} seconds\")\n",
    "\n",
    "X_observations, true_states = generate_doggo_trajectory(assm_df[0:17000], feats=assm_feat_list)\n",
    "elapsed_time = time.time() - start_time\n",
    "print(f\"Elapsed time to massage data: {elapsed_time:.3f} seconds\")\n"
   ]
  },
  {
   "cell_type": "code",
   "execution_count": 11,
   "metadata": {
    "colab": {
     "base_uri": "https://localhost:8080/"
    },
    "executionInfo": {
     "elapsed": 65,
     "status": "ok",
     "timestamp": 1658174078176,
     "user": {
      "displayName": "Keith Bourne",
      "userId": "06063145071346277193"
     },
     "user_tz": 240
    },
    "id": "r6V_R3f50foc",
    "outputId": "f24c45bf-f362-4077-ab07-ee356ebe0c93"
   },
   "outputs": [
    {
     "data": {
      "text/plain": [
       "[0.0, 0.0, 1.0, 1.0, 1.0, 1.0]"
      ]
     },
     "execution_count": 11,
     "metadata": {},
     "output_type": "execute_result"
    }
   ],
   "source": [
    "trajectory_index = 1\n",
    "\n",
    "true_states[trajectory_index]"
   ]
  },
  {
   "cell_type": "code",
   "execution_count": 12,
   "metadata": {
    "colab": {
     "base_uri": "https://localhost:8080/",
     "height": 297
    },
    "executionInfo": {
     "elapsed": 330,
     "status": "ok",
     "timestamp": 1658174078452,
     "user": {
      "displayName": "Keith Bourne",
      "userId": "06063145071346277193"
     },
     "user_tz": 240
    },
    "id": "GA0DL-2Q0fq9",
    "outputId": "88aa1787-688e-4290-8aa0-f736b706b3b6"
   },
   "outputs": [
    {
     "data": {
      "image/png": "[encoded data removed]",
      "text/plain": [
       "<Figure size 432x288 with 2 Axes>"
      ]
     },
     "metadata": {
      "needs_background": "light"
     },
     "output_type": "display_data"
    }
   ],
   "source": [
    "# Visualizing the hidden state data trajectories\n",
    "fig, ax1 = plt.subplots()\n",
    "\n",
    "t = list(range(len(true_states[trajectory_index])))\n",
    "\n",
    "color = 'tab:red'\n",
    "ax1.set_xlabel('Time step')\n",
    "ax1.set_ylabel('Observations', color=color)\n",
    "ax1.plot(t, X_observations[trajectory_index], color=color, linewidth=5, alpha=0.2)\n",
    "ax1.tick_params(axis='y', labelcolor=color)\n",
    "\n",
    "ax2 = ax1.twinx()  \n",
    "\n",
    "color = 'tab:blue'\n",
    "ax2.set_ylabel('Hidden states', color=color)  \n",
    "ax2.step(t, true_states[trajectory_index], color=color, linewidth=5)\n",
    "ax2.tick_params(axis='y', labelcolor=color)\n",
    "ax2.set_yticks([0, 1, 2])\n",
    "\n",
    "fig.tight_layout()  \n",
    "plt.show()"
   ]
  },
  {
   "cell_type": "code",
   "execution_count": 13,
   "metadata": {
    "colab": {
     "base_uri": "https://localhost:8080/"
    },
    "executionInfo": {
     "elapsed": 36,
     "status": "ok",
     "timestamp": 1658174078454,
     "user": {
      "displayName": "Keith Bourne",
      "userId": "06063145071346277193"
     },
     "user_tz": 240
    },
    "id": "NQyfa8pR0ftM",
    "outputId": "30f42697-5acc-4c65-c77f-bc25f9503121"
   },
   "outputs": [
    {
     "name": "stdout",
     "output_type": "stream",
     "text": [
      "WARNING:tensorflow:From /home/jupyter/assm.py:337: BasicRNNCell.__init__ (from tensorflow.python.ops.rnn_cell_impl) is deprecated and will be removed in a future version.\n",
      "Instructions for updating:\n",
      "This class is equivalent as tf.keras.layers.SimpleRNNCell, and will be replaced by that in Tensorflow 2.0.\n",
      "WARNING:tensorflow:From /home/jupyter/assm.py:338: LSTMCell.__init__ (from tensorflow.python.ops.rnn_cell_impl) is deprecated and will be removed in a future version.\n",
      "Instructions for updating:\n",
      "This class is equivalent as tf.keras.layers.LSTMCell, and will be replaced by that in Tensorflow 2.0.\n"
     ]
    }
   ],
   "source": [
    "model = attentive_state_space_model(num_states=4,\n",
    "                              maximum_seq_length=30, \n",
    "                              input_dim=feat_num, # 6, # started with: 6. tried 10, but broke, but that was original, adjust for how many features used in data\n",
    "                              rnn_type='LSTM',\n",
    "                              latent=True,\n",
    "                              generative=True,\n",
    "                              num_iterations=50,   # started with: 5\n",
    "                              num_epochs=3, # 3,  # started with: 2\n",
    "                              batch_size=100, # 100,  # started with: 10\n",
    "                              learning_rate=5*1e-4, \n",
    "                              num_rnn_hidden=100, # 100,  # started with: 5\n",
    "                              num_rnn_layers=1,\n",
    "                              dropout_keep_prob=None,\n",
    "                              num_out_hidden=100,  # started with: 5\n",
    "                              num_out_layers=1)"
   ]
  },
  {
   "cell_type": "code",
   "execution_count": 14,
   "metadata": {
    "colab": {
     "base_uri": "https://localhost:8080/"
    },
    "executionInfo": {
     "elapsed": 9984,
     "status": "ok",
     "timestamp": 1658174088423,
     "user": {
      "displayName": "Keith Bourne",
      "userId": "06063145071346277193"
     },
     "user_tz": 240
    },
    "id": "8LJrRCZi0fvs",
    "outputId": "1189719e-5692-465a-9db1-3eb2a2a6892d"
   },
   "outputs": [
    {
     "name": "stdout",
     "output_type": "stream",
     "text": [
      "TensorFlow version : >= 1.0\n",
      "---------------------------\n",
      "WARNING:tensorflow:From /home/jupyter/.local/lib/python3.7/site-packages/tensorflow/contrib/legacy_seq2seq/python/ops/seq2seq.py:186: static_rnn (from tensorflow.python.ops.rnn) is deprecated and will be removed in a future version.\n",
      "Instructions for updating:\n",
      "Please use `keras.layers.RNN(cell, unroll=True)`, which is equivalent to this API\n",
      "Epoch 0 \t----- \tBatch 0 \t----- \tLog-Likelihood -1.066476e+11\n",
      "Epoch 0 \t----- \tBatch 1 \t----- \tLog-Likelihood -1.146160e+11\n",
      "Epoch 0 \t----- \tBatch 2 \t----- \tLog-Likelihood -1.089387e+11\n",
      "Epoch 0 \t----- \tBatch 3 \t----- \tLog-Likelihood -1.225972e+11\n",
      "Epoch 0 \t----- \tBatch 4 \t----- \tLog-Likelihood -1.094825e+11\n",
      "Epoch 0 \t----- \tBatch 5 \t----- \tLog-Likelihood -1.186691e+11\n",
      "Epoch 0 \t----- \tBatch 6 \t----- \tLog-Likelihood -1.126389e+11\n",
      "Epoch 0 \t----- \tBatch 7 \t----- \tLog-Likelihood -1.094905e+11\n",
      "Epoch 0 \t----- \tBatch 8 \t----- \tLog-Likelihood -1.105401e+11\n",
      "Epoch 0 \t----- \tBatch 9 \t----- \tLog-Likelihood -1.021359e+11\n",
      "Epoch 0 \t----- \tBatch 10 \t----- \tLog-Likelihood -1.089099e+11\n",
      "Epoch 0 \t----- \tBatch 11 \t----- \tLog-Likelihood -1.103685e+11\n",
      "Epoch 0 \t----- \tBatch 12 \t----- \tLog-Likelihood -1.069167e+11\n",
      "Epoch 0 \t----- \tBatch 13 \t----- \tLog-Likelihood -1.075942e+11\n",
      "Epoch 0 \t----- \tBatch 14 \t----- \tLog-Likelihood -1.094276e+11\n",
      "Epoch 0 \t----- \tBatch 15 \t----- \tLog-Likelihood -9.694281e+10\n",
      "Epoch 0 \t----- \tBatch 16 \t----- \tLog-Likelihood -9.209859e+10\n",
      "Epoch 0 \t----- \tBatch 17 \t----- \tLog-Likelihood -1.085284e+11\n",
      "Epoch 0 \t----- \tBatch 18 \t----- \tLog-Likelihood -9.805293e+10\n",
      "Epoch 0 \t----- \tBatch 19 \t----- \tLog-Likelihood -1.032998e+11\n",
      "Epoch 0 \t----- \tBatch 20 \t----- \tLog-Likelihood -9.453721e+10\n",
      "Epoch 0 \t----- \tBatch 21 \t----- \tLog-Likelihood -9.457009e+10\n",
      "Epoch 0 \t----- \tBatch 22 \t----- \tLog-Likelihood -9.277254e+10\n",
      "Epoch 0 \t----- \tBatch 23 \t----- \tLog-Likelihood -9.237176e+10\n",
      "Epoch 0 \t----- \tBatch 24 \t----- \tLog-Likelihood -9.366869e+10\n",
      "Epoch 0 \t----- \tBatch 25 \t----- \tLog-Likelihood -9.207070e+10\n",
      "Epoch 0 \t----- \tBatch 26 \t----- \tLog-Likelihood -9.269606e+10\n",
      "Epoch 0 \t----- \tBatch 27 \t----- \tLog-Likelihood -9.290207e+10\n",
      "Epoch 0 \t----- \tBatch 28 \t----- \tLog-Likelihood -9.292328e+10\n",
      "Epoch 0 \t----- \tBatch 29 \t----- \tLog-Likelihood -9.636947e+10\n",
      "Epoch 0 \t----- \tBatch 30 \t----- \tLog-Likelihood -9.530101e+10\n",
      "Epoch 0 \t----- \tBatch 31 \t----- \tLog-Likelihood -8.391550e+10\n",
      "Epoch 0 \t----- \tBatch 32 \t----- \tLog-Likelihood -8.564648e+10\n",
      "Epoch 0 \t----- \tBatch 33 \t----- \tLog-Likelihood -8.689104e+10\n",
      "Epoch 0 \t----- \tBatch 34 \t----- \tLog-Likelihood -8.565539e+10\n",
      "Epoch 0 \t----- \tBatch 35 \t----- \tLog-Likelihood -8.868433e+10\n",
      "Epoch 0 \t----- \tBatch 36 \t----- \tLog-Likelihood -8.752817e+10\n",
      "Epoch 0 \t----- \tBatch 37 \t----- \tLog-Likelihood -7.830204e+10\n",
      "Epoch 0 \t----- \tBatch 38 \t----- \tLog-Likelihood -8.839937e+10\n",
      "Epoch 0 \t----- \tBatch 39 \t----- \tLog-Likelihood -8.275181e+10\n",
      "Epoch 0 \t----- \tBatch 40 \t----- \tLog-Likelihood -8.889074e+10\n",
      "Epoch 0 \t----- \tBatch 41 \t----- \tLog-Likelihood -8.144722e+10\n",
      "Epoch 0 \t----- \tBatch 42 \t----- \tLog-Likelihood -8.273843e+10\n",
      "Epoch 0 \t----- \tBatch 43 \t----- \tLog-Likelihood -7.892517e+10\n",
      "Epoch 0 \t----- \tBatch 44 \t----- \tLog-Likelihood -7.241693e+10\n",
      "Epoch 0 \t----- \tBatch 45 \t----- \tLog-Likelihood -7.703866e+10\n",
      "Epoch 0 \t----- \tBatch 46 \t----- \tLog-Likelihood -7.034855e+10\n",
      "Epoch 0 \t----- \tBatch 47 \t----- \tLog-Likelihood -7.603768e+10\n",
      "Epoch 0 \t----- \tBatch 48 \t----- \tLog-Likelihood -7.404979e+10\n",
      "Epoch 0 \t----- \tBatch 49 \t----- \tLog-Likelihood -8.002774e+10\n",
      "Epoch 1 \t----- \tBatch 0 \t----- \tLog-Likelihood -7.001005e+10\n",
      "Epoch 1 \t----- \tBatch 1 \t----- \tLog-Likelihood -7.188187e+10\n",
      "Epoch 1 \t----- \tBatch 2 \t----- \tLog-Likelihood -7.002144e+10\n",
      "Epoch 1 \t----- \tBatch 3 \t----- \tLog-Likelihood -6.732584e+10\n",
      "Epoch 1 \t----- \tBatch 4 \t----- \tLog-Likelihood -7.155310e+10\n",
      "Epoch 1 \t----- \tBatch 5 \t----- \tLog-Likelihood -6.963731e+10\n",
      "Epoch 1 \t----- \tBatch 6 \t----- \tLog-Likelihood -6.826672e+10\n",
      "Epoch 1 \t----- \tBatch 7 \t----- \tLog-Likelihood -6.994853e+10\n",
      "Epoch 1 \t----- \tBatch 8 \t----- \tLog-Likelihood -6.963928e+10\n",
      "Epoch 1 \t----- \tBatch 9 \t----- \tLog-Likelihood -6.653744e+10\n",
      "Epoch 1 \t----- \tBatch 10 \t----- \tLog-Likelihood -6.612344e+10\n",
      "Epoch 1 \t----- \tBatch 11 \t----- \tLog-Likelihood -7.081466e+10\n",
      "Epoch 1 \t----- \tBatch 12 \t----- \tLog-Likelihood -6.549516e+10\n",
      "Epoch 1 \t----- \tBatch 13 \t----- \tLog-Likelihood -6.760986e+10\n",
      "Epoch 1 \t----- \tBatch 14 \t----- \tLog-Likelihood -6.479090e+10\n",
      "Epoch 1 \t----- \tBatch 15 \t----- \tLog-Likelihood -6.211802e+10\n",
      "Epoch 1 \t----- \tBatch 16 \t----- \tLog-Likelihood -6.140878e+10\n",
      "Epoch 1 \t----- \tBatch 17 \t----- \tLog-Likelihood -6.472622e+10\n",
      "Epoch 1 \t----- \tBatch 18 \t----- \tLog-Likelihood -6.156542e+10\n",
      "Epoch 1 \t----- \tBatch 19 \t----- \tLog-Likelihood -5.691526e+10\n",
      "Epoch 1 \t----- \tBatch 20 \t----- \tLog-Likelihood -5.816968e+10\n",
      "Epoch 1 \t----- \tBatch 21 \t----- \tLog-Likelihood -5.503076e+10\n",
      "Epoch 1 \t----- \tBatch 22 \t----- \tLog-Likelihood -5.775495e+10\n",
      "Epoch 1 \t----- \tBatch 23 \t----- \tLog-Likelihood -5.370160e+10\n",
      "Epoch 1 \t----- \tBatch 24 \t----- \tLog-Likelihood -5.738411e+10\n",
      "Epoch 1 \t----- \tBatch 25 \t----- \tLog-Likelihood -5.671614e+10\n",
      "Epoch 1 \t----- \tBatch 26 \t----- \tLog-Likelihood -6.032478e+10\n",
      "Epoch 1 \t----- \tBatch 27 \t----- \tLog-Likelihood -5.455060e+10\n",
      "Epoch 1 \t----- \tBatch 28 \t----- \tLog-Likelihood -5.345211e+10\n",
      "Epoch 1 \t----- \tBatch 29 \t----- \tLog-Likelihood -5.639298e+10\n",
      "Epoch 1 \t----- \tBatch 30 \t----- \tLog-Likelihood -5.159676e+10\n",
      "Epoch 1 \t----- \tBatch 31 \t----- \tLog-Likelihood -5.410055e+10\n",
      "Epoch 1 \t----- \tBatch 32 \t----- \tLog-Likelihood -5.056255e+10\n",
      "Epoch 1 \t----- \tBatch 33 \t----- \tLog-Likelihood -5.187823e+10\n",
      "Epoch 1 \t----- \tBatch 34 \t----- \tLog-Likelihood -4.639207e+10\n",
      "Epoch 1 \t----- \tBatch 35 \t----- \tLog-Likelihood -4.402713e+10\n",
      "Epoch 1 \t----- \tBatch 36 \t----- \tLog-Likelihood -4.836232e+10\n",
      "Epoch 1 \t----- \tBatch 37 \t----- \tLog-Likelihood -4.950164e+10\n",
      "Epoch 1 \t----- \tBatch 38 \t----- \tLog-Likelihood -5.363885e+10\n",
      "Epoch 1 \t----- \tBatch 39 \t----- \tLog-Likelihood -4.590713e+10\n",
      "Epoch 1 \t----- \tBatch 40 \t----- \tLog-Likelihood -5.044850e+10\n",
      "Epoch 1 \t----- \tBatch 41 \t----- \tLog-Likelihood -4.708534e+10\n",
      "Epoch 1 \t----- \tBatch 42 \t----- \tLog-Likelihood -4.705623e+10\n",
      "Epoch 1 \t----- \tBatch 43 \t----- \tLog-Likelihood -4.460958e+10\n",
      "Epoch 1 \t----- \tBatch 44 \t----- \tLog-Likelihood -4.591480e+10\n",
      "Epoch 1 \t----- \tBatch 45 \t----- \tLog-Likelihood -5.027026e+10\n",
      "Epoch 1 \t----- \tBatch 46 \t----- \tLog-Likelihood -4.666088e+10\n",
      "Epoch 1 \t----- \tBatch 47 \t----- \tLog-Likelihood -4.621564e+10\n",
      "Epoch 1 \t----- \tBatch 48 \t----- \tLog-Likelihood -4.332307e+10\n",
      "Epoch 1 \t----- \tBatch 49 \t----- \tLog-Likelihood -4.889693e+10\n",
      "Epoch 2 \t----- \tBatch 0 \t----- \tLog-Likelihood -4.296236e+10\n",
      "Epoch 2 \t----- \tBatch 1 \t----- \tLog-Likelihood -3.960330e+10\n",
      "Epoch 2 \t----- \tBatch 2 \t----- \tLog-Likelihood -3.736161e+10\n",
      "Epoch 2 \t----- \tBatch 3 \t----- \tLog-Likelihood -4.266180e+10\n",
      "Epoch 2 \t----- \tBatch 4 \t----- \tLog-Likelihood -4.114005e+10\n",
      "Epoch 2 \t----- \tBatch 5 \t----- \tLog-Likelihood -4.016197e+10\n",
      "Epoch 2 \t----- \tBatch 6 \t----- \tLog-Likelihood -4.020797e+10\n",
      "Epoch 2 \t----- \tBatch 7 \t----- \tLog-Likelihood -4.383277e+10\n",
      "Epoch 2 \t----- \tBatch 8 \t----- \tLog-Likelihood -3.883644e+10\n",
      "Epoch 2 \t----- \tBatch 9 \t----- \tLog-Likelihood -3.833313e+10\n",
      "Epoch 2 \t----- \tBatch 10 \t----- \tLog-Likelihood -3.604968e+10\n",
      "Epoch 2 \t----- \tBatch 11 \t----- \tLog-Likelihood -3.869963e+10\n",
      "Epoch 2 \t----- \tBatch 12 \t----- \tLog-Likelihood -3.769576e+10\n",
      "Epoch 2 \t----- \tBatch 13 \t----- \tLog-Likelihood -3.874253e+10\n",
      "Epoch 2 \t----- \tBatch 14 \t----- \tLog-Likelihood -4.047015e+10\n",
      "Epoch 2 \t----- \tBatch 15 \t----- \tLog-Likelihood -3.825895e+10\n",
      "Epoch 2 \t----- \tBatch 16 \t----- \tLog-Likelihood -3.651501e+10\n",
      "Epoch 2 \t----- \tBatch 17 \t----- \tLog-Likelihood -3.806281e+10\n",
      "Epoch 2 \t----- \tBatch 18 \t----- \tLog-Likelihood -3.829122e+10\n",
      "Epoch 2 \t----- \tBatch 19 \t----- \tLog-Likelihood -3.468058e+10\n",
      "Epoch 2 \t----- \tBatch 20 \t----- \tLog-Likelihood -3.771253e+10\n",
      "Epoch 2 \t----- \tBatch 21 \t----- \tLog-Likelihood -3.995644e+10\n",
      "Epoch 2 \t----- \tBatch 22 \t----- \tLog-Likelihood -3.766704e+10\n",
      "Epoch 2 \t----- \tBatch 23 \t----- \tLog-Likelihood -3.234639e+10\n",
      "Epoch 2 \t----- \tBatch 24 \t----- \tLog-Likelihood -3.977878e+10\n",
      "Epoch 2 \t----- \tBatch 25 \t----- \tLog-Likelihood -4.100403e+10\n",
      "Epoch 2 \t----- \tBatch 26 \t----- \tLog-Likelihood -3.227955e+10\n",
      "Epoch 2 \t----- \tBatch 27 \t----- \tLog-Likelihood -3.617949e+10\n",
      "Epoch 2 \t----- \tBatch 28 \t----- \tLog-Likelihood -3.256186e+10\n",
      "Epoch 2 \t----- \tBatch 29 \t----- \tLog-Likelihood -3.064639e+10\n",
      "Epoch 2 \t----- \tBatch 30 \t----- \tLog-Likelihood -3.535076e+10\n",
      "Epoch 2 \t----- \tBatch 31 \t----- \tLog-Likelihood -3.586508e+10\n",
      "Epoch 2 \t----- \tBatch 32 \t----- \tLog-Likelihood -3.173670e+10\n",
      "Epoch 2 \t----- \tBatch 33 \t----- \tLog-Likelihood -3.221806e+10\n",
      "Epoch 2 \t----- \tBatch 34 \t----- \tLog-Likelihood -3.348112e+10\n",
      "Epoch 2 \t----- \tBatch 35 \t----- \tLog-Likelihood -3.468244e+10\n",
      "Epoch 2 \t----- \tBatch 36 \t----- \tLog-Likelihood -3.264714e+10\n",
      "Epoch 2 \t----- \tBatch 37 \t----- \tLog-Likelihood -3.418949e+10\n",
      "Epoch 2 \t----- \tBatch 38 \t----- \tLog-Likelihood -3.202077e+10\n",
      "Epoch 2 \t----- \tBatch 39 \t----- \tLog-Likelihood -3.062006e+10\n",
      "Epoch 2 \t----- \tBatch 40 \t----- \tLog-Likelihood -3.209819e+10\n",
      "Epoch 2 \t----- \tBatch 41 \t----- \tLog-Likelihood -3.213986e+10\n",
      "Epoch 2 \t----- \tBatch 42 \t----- \tLog-Likelihood -3.168032e+10\n",
      "Epoch 2 \t----- \tBatch 43 \t----- \tLog-Likelihood -3.111232e+10\n",
      "Epoch 2 \t----- \tBatch 44 \t----- \tLog-Likelihood -3.238737e+10\n",
      "Epoch 2 \t----- \tBatch 45 \t----- \tLog-Likelihood -3.002024e+10\n",
      "Epoch 2 \t----- \tBatch 46 \t----- \tLog-Likelihood -3.221480e+10\n",
      "Epoch 2 \t----- \tBatch 47 \t----- \tLog-Likelihood -3.119143e+10\n",
      "Epoch 2 \t----- \tBatch 48 \t----- \tLog-Likelihood -2.721293e+10\n",
      "Epoch 2 \t----- \tBatch 49 \t----- \tLog-Likelihood -2.838402e+10\n",
      "WARNING:tensorflow:From /home/jupyter/assm.py:712: simple_save (from tensorflow.python.saved_model.simple_save) is deprecated and will be removed in a future version.\n",
      "Instructions for updating:\n",
      "This function will only be available through the v1 compatibility library as tf.compat.v1.saved_model.simple_save.\n",
      "WARNING:tensorflow:From /home/jupyter/.local/lib/python3.7/site-packages/tensorflow/python/saved_model/signature_def_utils_impl.py:205: build_tensor_info (from tensorflow.python.saved_model.utils_impl) is deprecated and will be removed in a future version.\n",
      "Instructions for updating:\n",
      "This function will only be available through the v1 compatibility library as tf.compat.v1.saved_model.utils.build_tensor_info or tf.compat.v1.saved_model.build_tensor_info.\n",
      "INFO:tensorflow:Assets added to graph.\n",
      "INFO:tensorflow:No assets to write.\n",
      "INFO:tensorflow:SavedModel written to: attentive_state_space/saved_model.pb\n",
      "Elapsed time to run ASSM model: 298.428 seconds\n"
     ]
    }
   ],
   "source": [
    "start_time = time.time()\n",
    "\n",
    "model.fit(X_observations)\n",
    "\n",
    "elapsed_time = time.time() - start_time\n",
    "print(f\"Elapsed time to run ASSM model: {elapsed_time:.3f} seconds\")"
   ]
  },
  {
   "cell_type": "code",
   "execution_count": 15,
   "metadata": {
    "colab": {
     "base_uri": "https://localhost:8080/"
    },
    "executionInfo": {
     "elapsed": 43,
     "status": "ok",
     "timestamp": 1658174088424,
     "user": {
      "displayName": "Keith Bourne",
      "userId": "06063145071346277193"
     },
     "user_tz": 240
    },
    "id": "j0Rse2d4FMib",
    "outputId": "cad5635a-9fbf-4883-e8e4-414c6ca7f489"
   },
   "outputs": [
    {
     "data": {
      "text/plain": [
       "array([0.98833394, 0.01166606])"
      ]
     },
     "execution_count": 15,
     "metadata": {},
     "output_type": "execute_result"
    }
   ],
   "source": [
    "model.initial_probabilities"
   ]
  },
  {
   "cell_type": "code",
   "execution_count": 16,
   "metadata": {
    "colab": {
     "base_uri": "https://localhost:8080/"
    },
    "executionInfo": {
     "elapsed": 41,
     "status": "ok",
     "timestamp": 1658174088425,
     "user": {
      "displayName": "Keith Bourne",
      "userId": "06063145071346277193"
     },
     "user_tz": 240
    },
    "id": "wQYzVfgpFMm0",
    "outputId": "7ba639e7-4c52-4310-c87d-0947a71900ac"
   },
   "outputs": [
    {
     "data": {
      "text/plain": [
       "array([[1., 0.],\n",
       "       [0., 1.]])"
      ]
     },
     "execution_count": 16,
     "metadata": {},
     "output_type": "execute_result"
    }
   ],
   "source": [
    "model.transition_matrix"
   ]
  },
  {
   "cell_type": "code",
   "execution_count": 17,
   "metadata": {
    "colab": {
     "base_uri": "https://localhost:8080/"
    },
    "executionInfo": {
     "elapsed": 35,
     "status": "ok",
     "timestamp": 1658174088425,
     "user": {
      "displayName": "Keith Bourne",
      "userId": "06063145071346277193"
     },
     "user_tz": 240
    },
    "id": "j4PB6HPJFMq8",
    "outputId": "2a0c6796-cd8b-4c4f-d1a5-9d57c51134cf"
   },
   "outputs": [
    {
     "data": {
      "text/plain": [
       "array([[2.41592762e+00, 2.24352332e+00],\n",
       "       [3.61883221e-02, 0.00000000e+00],\n",
       "       [2.22409380e+00, 2.27461140e+00],\n",
       "       [2.16260937e+00, 2.15025907e+00],\n",
       "       [9.91012440e-02, 0.00000000e+00],\n",
       "       [1.14481281e+00, 1.76683938e+00],\n",
       "       [1.56704958e+00, 1.75647668e+00],\n",
       "       [6.36390691e-01, 7.30569948e-01],\n",
       "       [9.41670139e-01, 5.23316062e-01],\n",
       "       [8.41795131e-01, 6.16580311e-01],\n",
       "       [2.80078567e+00, 2.49222798e+00],\n",
       "       [2.71692161e+00, 2.38860104e+00],\n",
       "       [2.17731087e+00, 2.53886010e+00],\n",
       "       [2.34736028e+00, 2.34196891e+00],\n",
       "       [1.51050533e+00, 1.58549223e+00],\n",
       "       [1.04910422e+00, 1.47668394e+00],\n",
       "       [1.63889054e+00, 1.86010363e+00],\n",
       "       [2.01059461e-01, 1.08808290e-01],\n",
       "       [1.49360157e+00, 2.00000000e+00],\n",
       "       [1.03449002e+01, 9.37867042e+00],\n",
       "       [9.60895185e-01, 1.00000000e+00],\n",
       "       [2.00523778e-01, 2.43523316e-01],\n",
       "       [1.48193560e+00, 1.42487047e+00],\n",
       "       [5.16254985e+00, 4.72020725e+00],\n",
       "       [9.20183322e-01, 9.11917098e-01],\n",
       "       [9.76906137e-01, 1.00000000e+00],\n",
       "       [9.62561752e-01, 9.63730570e-01],\n",
       "       [1.38557229e+00, 1.35233161e+00],\n",
       "       [2.36991846e+00, 2.36787565e+00],\n",
       "       [1.52252842e-01, 3.47150259e-01],\n",
       "       [1.16540682e-01, 3.21243523e-01],\n",
       "       [3.95512172e-01, 2.07253886e-01],\n",
       "       [1.86476995e-01, 4.19689119e-01],\n",
       "       [1.94393191e+00, 1.81347150e+00],\n",
       "       [9.39110767e-01, 6.32124352e-01],\n",
       "       [8.43699780e-01, 9.11917098e-01],\n",
       "       [7.95607404e-01, 8.65284974e-01],\n",
       "       [3.72418308e-01, 3.26424870e-01],\n",
       "       [1.21817808e+02, 9.99000000e+02],\n",
       "       [9.58276293e-02, 1.50259067e-01],\n",
       "       [1.13969407e+00, 1.10880829e+00],\n",
       "       [8.93399202e-02, 1.55440415e-02]])"
      ]
     },
     "execution_count": 17,
     "metadata": {},
     "output_type": "execute_result"
    }
   ],
   "source": [
    "model.state_means.T "
   ]
  },
  {
   "cell_type": "code",
   "execution_count": 18,
   "metadata": {
    "colab": {
     "base_uri": "https://localhost:8080/"
    },
    "executionInfo": {
     "elapsed": 32,
     "status": "ok",
     "timestamp": 1658174088426,
     "user": {
      "displayName": "Keith Bourne",
      "userId": "06063145071346277193"
     },
     "user_tz": 240
    },
    "id": "Fo1EHwwlFQf0",
    "outputId": "3ed353bf-e967-4437-8559-3275f3437dfb"
   },
   "outputs": [
    {
     "data": {
      "text/plain": [
       "array([[[ 1.04788492e+00,  2.32198086e-02, -1.94569817e-01, ...,\n",
       "          4.12811895e-03,  8.08391572e-03,  3.25392916e-02],\n",
       "        [ 2.32198086e-02,  3.48797275e-02, -1.80043050e-03, ...,\n",
       "          9.96178881e-04,  7.80108374e-03,  2.36184325e-03],\n",
       "        [-1.94569817e-01, -1.80043050e-03,  1.11298754e+00, ...,\n",
       "          2.08445316e-02, -2.97292767e-03, -8.23550977e-03],\n",
       "        ...,\n",
       "        [ 4.12811895e-03,  9.96178881e-04,  2.08445316e-02, ...,\n",
       "          8.66456948e-02, -8.27774893e-04, -2.87915695e-04],\n",
       "        [ 8.08391572e-03,  7.80108374e-03, -2.97292767e-03, ...,\n",
       "         -8.27774893e-04,  2.15532101e-01,  6.68526916e-03],\n",
       "        [ 3.25392916e-02,  2.36184325e-03, -8.23550977e-03, ...,\n",
       "         -2.87915695e-04,  6.68526916e-03,  8.13592989e-02]],\n",
       "\n",
       "       [[ 1.19976475e+00,  0.00000000e+00,  1.45560955e-01, ...,\n",
       "         -6.24983221e-02, -3.68600499e-02, -1.41480308e-02],\n",
       "        [ 0.00000000e+00,  1.00000000e-06,  0.00000000e+00, ...,\n",
       "          0.00000000e+00,  0.00000000e+00,  0.00000000e+00],\n",
       "        [ 1.45560955e-01,  0.00000000e+00,  4.27180253e-01, ...,\n",
       "         -5.68068941e-02,  1.20808612e-03,  1.12754705e-02],\n",
       "        ...,\n",
       "        [-6.24983221e-02,  0.00000000e+00, -5.68068941e-02, ...,\n",
       "          1.27682280e-01, -5.98673790e-03, -2.33563317e-03],\n",
       "        [-3.68600499e-02,  0.00000000e+00,  1.20808612e-03, ...,\n",
       "         -5.98673790e-03,  1.79871601e-01,  8.67137373e-03],\n",
       "        [-1.41480308e-02,  0.00000000e+00,  1.12754705e-02, ...,\n",
       "         -2.33563317e-03,  8.67137373e-03,  1.53034242e-02]]])"
      ]
     },
     "execution_count": 18,
     "metadata": {},
     "output_type": "execute_result"
    }
   ],
   "source": [
    "model.state_covars"
   ]
  },
  {
   "cell_type": "code",
   "execution_count": 19,
   "metadata": {
    "colab": {
     "base_uri": "https://localhost:8080/"
    },
    "executionInfo": {
     "elapsed": 26,
     "status": "ok",
     "timestamp": 1658174088426,
     "user": {
      "displayName": "Keith Bourne",
      "userId": "06063145071346277193"
     },
     "user_tz": 240
    },
    "id": "npzEhTWyFSsw",
    "outputId": "7ab28357-f012-4995-950f-b7563a6e3b68"
   },
   "outputs": [
    {
     "data": {
      "text/plain": [
       "array([[ 4.  ,  0.  ,  1.  ,  0.  ,  0.  ,  0.  ,  0.  ,  0.  ,  2.  ,\n",
       "         0.  ,  2.  ,  1.  ,  2.  ,  2.  ,  0.  ,  0.  ,  0.  ,  1.  ,\n",
       "         1.  , 15.25,  1.  ,  0.  ,  1.  ,  2.  ,  1.  ,  1.  ,  1.  ,\n",
       "         2.  ,  3.  ,  0.  ,  0.  ,  1.  ,  0.  ,  2.  ,  0.  ,  1.  ,\n",
       "         1.  ,  0.  , 47.  ,  0.  ,  1.  ,  0.  ],\n",
       "       [ 4.  ,  0.  ,  1.  ,  0.  ,  0.  ,  0.  ,  0.  ,  0.  ,  2.  ,\n",
       "         0.  ,  2.  ,  1.  ,  2.  ,  2.  ,  0.  ,  0.  ,  0.  ,  1.  ,\n",
       "         1.  , 15.25,  1.  ,  0.  ,  1.  ,  2.  ,  1.  ,  1.  ,  1.  ,\n",
       "         2.  ,  3.  ,  0.  ,  0.  ,  1.  ,  0.  ,  2.  ,  0.  ,  1.  ,\n",
       "         1.  ,  1.  , 47.  ,  0.  ,  1.  ,  0.  ],\n",
       "       [ 4.  ,  0.  ,  1.  ,  0.  ,  0.  ,  0.  ,  0.  ,  0.  ,  2.  ,\n",
       "         0.  ,  2.  ,  1.  ,  2.  ,  2.  ,  0.  ,  0.  ,  0.  ,  1.  ,\n",
       "         1.  , 15.25,  1.  ,  0.  ,  1.  ,  2.  ,  1.  ,  1.  ,  1.  ,\n",
       "         2.  ,  3.  ,  0.  ,  0.  ,  1.  ,  0.  ,  2.  ,  0.  ,  1.  ,\n",
       "         1.  ,  0.  , 47.  ,  0.  ,  1.  ,  0.  ],\n",
       "       [ 4.  ,  0.  ,  1.  ,  0.  ,  0.  ,  0.  ,  0.  ,  0.  ,  2.  ,\n",
       "         0.  ,  2.  ,  1.  ,  2.  ,  2.  ,  0.  ,  0.  ,  0.  ,  1.  ,\n",
       "         1.  , 15.25,  1.  ,  0.  ,  1.  ,  2.  ,  1.  ,  1.  ,  1.  ,\n",
       "         2.  ,  3.  ,  0.  ,  0.  ,  1.  ,  0.  ,  2.  ,  0.  ,  1.  ,\n",
       "         1.  ,  0.  , 47.  ,  0.  ,  1.  ,  0.  ],\n",
       "       [ 4.  ,  0.  ,  1.  ,  0.  ,  0.  ,  0.  ,  0.  ,  0.  ,  2.  ,\n",
       "         0.  ,  2.  ,  1.  ,  2.  ,  2.  ,  0.  ,  0.  ,  0.  ,  1.  ,\n",
       "         1.  , 15.25,  1.  ,  0.  ,  1.  ,  2.  ,  1.  ,  1.  ,  1.  ,\n",
       "         2.  ,  3.  ,  0.  ,  0.  ,  1.  ,  0.  ,  2.  ,  0.  ,  1.  ,\n",
       "         1.  ,  1.  , 47.  ,  0.  ,  1.  ,  0.  ]])"
      ]
     },
     "execution_count": 19,
     "metadata": {},
     "output_type": "execute_result"
    }
   ],
   "source": [
    "X_observations[3]"
   ]
  },
  {
   "cell_type": "code",
   "execution_count": 20,
   "metadata": {
    "colab": {
     "base_uri": "https://localhost:8080/"
    },
    "executionInfo": {
     "elapsed": 2950,
     "status": "ok",
     "timestamp": 1658174091356,
     "user": {
      "displayName": "Keith Bourne",
      "userId": "06063145071346277193"
     },
     "user_tz": 240
    },
    "id": "SkA_UV-lFWa6",
    "outputId": "267bc8bb-403e-4c78-eee8-014f728521ed"
   },
   "outputs": [
    {
     "name": "stdout",
     "output_type": "stream",
     "text": [
      "WARNING:tensorflow:From /home/jupyter/.local/lib/python3.7/site-packages/tensorflow/python/training/saver.py:1266: checkpoint_exists (from tensorflow.python.training.checkpoint_management) is deprecated and will be removed in a future version.\n",
      "Instructions for updating:\n",
      "Use standard file APIs to check for files with this prefix.\n",
      "INFO:tensorflow:Restoring parameters from ./mlaimRNN_model\n",
      "Elapsed time to make predictions: 2.860 seconds\n"
     ]
    }
   ],
   "source": [
    "start_time = time.time()\n",
    "\n",
    "predict_idx = 0\n",
    "state_inference, expected_observations, attention = model.predict([X_observations[predict_idx]])\n",
    "\n",
    "elapsed_time = time.time() - start_time\n",
    "print(f\"Elapsed time to make predictions: {elapsed_time:.3f} seconds\")"
   ]
  },
  {
   "cell_type": "code",
   "execution_count": 21,
   "metadata": {
    "colab": {
     "base_uri": "https://localhost:8080/"
    },
    "executionInfo": {
     "elapsed": 13,
     "status": "ok",
     "timestamp": 1658174091359,
     "user": {
      "displayName": "Keith Bourne",
      "userId": "06063145071346277193"
     },
     "user_tz": 240
    },
    "id": "tLp1haN6FXYZ",
    "outputId": "4f450be9-b4ef-429c-b986-8abb34149ed3"
   },
   "outputs": [
    {
     "data": {
      "text/plain": [
       "array([0, 0, 0, 0, 0])"
      ]
     },
     "execution_count": 21,
     "metadata": {},
     "output_type": "execute_result"
    }
   ],
   "source": [
    "np.argmax(state_inference[predict_idx], axis=1)"
   ]
  },
  {
   "cell_type": "code",
   "execution_count": 22,
   "metadata": {
    "colab": {
     "base_uri": "https://localhost:8080/",
     "height": 297
    },
    "executionInfo": {
     "elapsed": 12,
     "status": "ok",
     "timestamp": 1658174091360,
     "user": {
      "displayName": "Keith Bourne",
      "userId": "06063145071346277193"
     },
     "user_tz": 240
    },
    "id": "8f8EQN92FZoD",
    "outputId": "5d81a881-a451-4f6e-8cc1-21b7ee1e37be"
   },
   "outputs": [
    {
     "data": {
      "image/png": "[encoded data removed]",
      "text/plain": [
       "<Figure size 432x288 with 2 Axes>"
      ]
     },
     "metadata": {
      "needs_background": "light"
     },
     "output_type": "display_data"
    }
   ],
   "source": [
    "fig, ax1 = plt.subplots()\n",
    "\n",
    "trajectory_index = 0\n",
    "\n",
    "t = list(range(len(true_states[trajectory_index])))\n",
    "\n",
    "color = 'tab:red'\n",
    "ax1.set_xlabel('time (s)')\n",
    "ax1.set_ylabel('MAP state estimate', color=color)\n",
    "ax1.plot(t, np.argmax(state_inference[trajectory_index], axis=1), color=color, linewidth=5)\n",
    "ax1.tick_params(axis='y', labelcolor=color)\n",
    "ax1.set_yticks([0, 1, 2])\n",
    "\n",
    "ax2 = ax1.twinx()  \n",
    "\n",
    "color = 'tab:blue'\n",
    "ax2.set_ylabel('True states', color=color)  \n",
    "ax2.step(t, true_states[trajectory_index], color=color, linewidth=5)\n",
    "ax2.tick_params(axis='y', labelcolor=color)\n",
    "ax2.set_yticks([0, 1, 2])\n",
    "\n",
    "fig.tight_layout()  \n",
    "plt.show()"
   ]
  },
  {
   "cell_type": "code",
   "execution_count": 23,
   "metadata": {
    "colab": {
     "base_uri": "https://localhost:8080/",
     "height": 297
    },
    "executionInfo": {
     "elapsed": 302,
     "status": "ok",
     "timestamp": 1658174091652,
     "user": {
      "displayName": "Keith Bourne",
      "userId": "06063145071346277193"
     },
     "user_tz": 240
    },
    "id": "hgd22nVOFgFm",
    "outputId": "09872c38-4af2-4fba-c00c-3660583cb4ce"
   },
   "outputs": [
    {
     "data": {
      "image/png": "[encoded data removed]",
      "text/plain": [
       "<Figure size 432x288 with 2 Axes>"
      ]
     },
     "metadata": {
      "needs_background": "light"
     },
     "output_type": "display_data"
    }
   ],
   "source": [
    "fig, ax1 = plt.subplots()\n",
    "\n",
    "t = list(range(len(true_states[trajectory_index])))\n",
    "\n",
    "color = 'tab:red'\n",
    "ax1.set_xlabel('Time step')\n",
    "ax1.set_ylabel('True observations', color=color)\n",
    "ax1.plot(t, X_observations[trajectory_index], color=color, linewidth=5, alpha=0.2)\n",
    "ax1.tick_params(axis='y', labelcolor=color)\n",
    "\n",
    "ax2 = ax1.twinx()  \n",
    "\n",
    "color = 'tab:blue'\n",
    "ax2.set_ylabel('Predicted average observations', color=color)  \n",
    "ax2.plot(t, expected_observations[trajectory_index], color=color, linewidth=5, alpha=0.1)\n",
    "ax2.tick_params(axis='y', labelcolor=color)\n",
    "ax2.set_yticks([0, 1, 2])\n",
    "\n",
    "fig.tight_layout()  \n",
    "plt.show()"
   ]
  },
  {
   "cell_type": "code",
   "execution_count": 24,
   "metadata": {
    "colab": {
     "base_uri": "https://localhost:8080/",
     "height": 283
    },
    "executionInfo": {
     "elapsed": 260,
     "status": "ok",
     "timestamp": 1658174091900,
     "user": {
      "displayName": "Keith Bourne",
      "userId": "06063145071346277193"
     },
     "user_tz": 240
    },
    "id": "DyI-YIUvFikl",
    "outputId": "9aeeaa20-e85e-4bb1-cbdc-dadad13f646b"
   },
   "outputs": [
    {
     "data": {
      "image/png": "[encoded data removed]",
      "text/plain": [
       "<Figure size 432x288 with 2 Axes>"
      ]
     },
     "metadata": {},
     "output_type": "display_data"
    }
   ],
   "source": [
    "# Visualize the attention weights over time\n",
    "import seaborn as sns\n",
    "\n",
    "Attention_weights = []\n",
    "\n",
    "for w in range(len(attention[0])):\n",
    "    \n",
    "    Attention_weights.append(np.vstack((attention[0][w], np.zeros((len(attention[0][-1]) - len(attention[0][w]),1)))))\n",
    "\n",
    "\n",
    "Attention_weights = np.array(Attention_weights).reshape((len(attention[0][-1]), len(attention[0][-1])))[:state_inference[0].shape[0], :state_inference[0].shape[0]]\n",
    "\n",
    "mask = np.zeros_like(Attention_weights)\n",
    "\n",
    "mask[np.triu_indices_from(mask)] = True\n",
    "\n",
    "with sns.axes_style(\"white\"):\n",
    "    ax = sns.heatmap(Attention_weights, mask=mask, vmax=.3, square=True)\n",
    "    ax.set_ylabel('Chronological time')\n",
    "    ax.set_xlabel('Previous time steps')"
   ]
  },
  {
   "cell_type": "markdown",
   "metadata": {
    "id": "y9Hl1-vmRiPI",
    "tags": []
   },
   "source": [
    "# TimeGANs Synthesized Data with ASSM Model"
   ]
  },
  {
   "cell_type": "code",
   "execution_count": 31,
   "metadata": {},
   "outputs": [
    {
     "name": "stdout",
     "output_type": "stream",
     "text": [
      "feature size:  42\n",
      "Joined SIZE:  (49425, 47)\n",
      "doggo_data_timeGANs dataframe shape post:  (49425, 42)\n",
      "Start Embedding Network Training\n",
      "step: 0, e_loss: 0.4206\n",
      "step: 1000, e_loss: 0.2524\n",
      "step: 2000, e_loss: 0.2049\n",
      "step: 3000, e_loss: 0.1675\n",
      "step: 4000, e_loss: 0.1486\n",
      "step: 5000, e_loss: 0.1303\n",
      "step: 6000, e_loss: 0.1098\n",
      "step: 7000, e_loss: 0.096\n",
      "step: 8000, e_loss: 0.0854\n",
      "step: 9000, e_loss: 0.0833\n",
      "Finish Embedding Network Training\n",
      "Start Training with Supervised Loss Only\n",
      "step: 0, s_loss: 0.3235\n",
      "step: 1000, s_loss: 0.0306\n",
      "step: 2000, s_loss: 0.0224\n",
      "step: 3000, s_loss: 0.0197\n",
      "step: 4000, s_loss: 0.0171\n",
      "step: 5000, s_loss: 0.0151\n",
      "step: 6000, s_loss: 0.0147\n",
      "step: 7000, s_loss: 0.0146\n",
      "step: 8000, s_loss: 0.013\n",
      "step: 9000, s_loss: 0.0132\n",
      "Finish Training with Supervised Loss Only\n",
      "Start Joint Training\n",
      "step: 0, d_loss: 2.1417, g_loss_u: 0.6494, g_loss_s: 0.0628, g_loss_v: 0.5292, e_loss_t0: 0.1504\n",
      "step: 1000, d_loss: 1.1875, g_loss_u: 1.883, g_loss_s: 0.0303, g_loss_v: 0.0655, e_loss_t0: 0.0514\n",
      "step: 2000, d_loss: 1.2805, g_loss_u: 1.5772, g_loss_s: 0.0304, g_loss_v: 0.0634, e_loss_t0: 0.0494\n",
      "step: 3000, d_loss: 1.1287, g_loss_u: 1.6903, g_loss_s: 0.0313, g_loss_v: 0.07, e_loss_t0: 0.0456\n",
      "step: 4000, d_loss: 1.2735, g_loss_u: 1.4048, g_loss_s: 0.0298, g_loss_v: 0.0822, e_loss_t0: 0.0383\n",
      "step: 5000, d_loss: 1.1224, g_loss_u: 1.232, g_loss_s: 0.028, g_loss_v: 0.0666, e_loss_t0: 0.0361\n",
      "step: 6000, d_loss: 0.9962, g_loss_u: 2.2829, g_loss_s: 0.0317, g_loss_v: 0.0761, e_loss_t0: 0.0321\n",
      "step: 7000, d_loss: 1.2103, g_loss_u: 1.8051, g_loss_s: 0.0344, g_loss_v: 0.0753, e_loss_t0: 0.0334\n",
      "step: 8000, d_loss: 1.1501, g_loss_u: 1.8661, g_loss_s: 0.0333, g_loss_v: 0.0768, e_loss_t0: 0.0324\n",
      "step: 9000, d_loss: 1.0684, g_loss_u: 2.0594, g_loss_s: 0.0306, g_loss_v: 0.0697, e_loss_t0: 0.028\n",
      "Finish Joint Training\n",
      "Parameters are {'hidden_dim': 168, 'num_layers': 3, 'iterations': 10000, 'batch_size': 128, 'module_name': 'gru', 'z_dim': 42}\n"
     ]
    }
   ],
   "source": [
    "## Newtork Parameters\n",
    "parameters = dict()\n",
    "\n",
    "seqlen = 4\n",
    "\n",
    "# generate the data\n",
    "assm_df, assm_feat_list = doggo_data_loading(seq_length=seqlen, apply_seq_length=True) \n",
    "dataX = doggo_data_timeGANs(assm_df, seq_length=seqlen)\n",
    "\n",
    "parameters['hidden_dim'] = len(dataX[0][0,:]) * 4\n",
    "parameters['num_layers'] = 3 # started with: 2 (has to be at least 2!)\n",
    "parameters['iterations'] = 10000 # started with: 1000, low as 10\n",
    "parameters['batch_size'] = 128 # started with: 64, low as 2\n",
    "parameters['module_name'] = 'gru'   # Other options: 'lstm' or 'lstmLN'\n",
    "parameters['z_dim'] = len(dataX[0][0,:]) \n",
    "\n",
    "# Synthetic Data Generation\n",
    "dataX_hat = timegan(dataX, parameters)   \n",
    "\n",
    "print('Parameters are ' + str(parameters))"
   ]
  },
  {
   "cell_type": "code",
   "execution_count": 8,
   "metadata": {
    "executionInfo": {
     "elapsed": 5265,
     "status": "ok",
     "timestamp": 1658174102353,
     "user": {
      "displayName": "Keith Bourne",
      "userId": "06063145071346277193"
     },
     "user_tz": 240
    },
    "id": "8M-TWxLbRwfB"
   },
   "outputs": [],
   "source": [
    "# FYI - can't get entire DF to run through without ASSM collapsing.  Max on minimum params is 21,000, larger params 29,400\n",
    "syn_df = prep_synth_data(dataX_hat)\n",
    "X_observations_syn, true_states_syn = generate_doggo_trajectory_syn(syn_df[0:17300], feats=assm_feat_list)\n",
    "\n",
    "# TODO adjust 0:20000 to as high as possible\n",
    "# keep adding categories!"
   ]
  },
  {
   "cell_type": "code",
   "execution_count": 9,
   "metadata": {
    "colab": {
     "base_uri": "https://localhost:8080/"
    },
    "executionInfo": {
     "elapsed": 40,
     "status": "ok",
     "timestamp": 1658174102356,
     "user": {
      "displayName": "Keith Bourne",
      "userId": "06063145071346277193"
     },
     "user_tz": 240
    },
    "id": "n74r_IlSRwhx",
    "outputId": "023475d2-7b91-44e4-a004-8741d1471e07"
   },
   "outputs": [
    {
     "data": {
      "text/plain": [
       "[0.11641308665275574,\n",
       " 0.04035574197769165,\n",
       " 0.04468816518783569,\n",
       " 0.042920321226119995]"
      ]
     },
     "execution_count": 9,
     "metadata": {},
     "output_type": "execute_result"
    }
   ],
   "source": [
    "trajectory_index_syn = 3\n",
    "\n",
    "true_states_syn[trajectory_index_syn]"
   ]
  },
  {
   "cell_type": "code",
   "execution_count": 10,
   "metadata": {
    "colab": {
     "base_uri": "https://localhost:8080/",
     "height": 297
    },
    "executionInfo": {
     "elapsed": 32,
     "status": "ok",
     "timestamp": 1658174102357,
     "user": {
      "displayName": "Keith Bourne",
      "userId": "06063145071346277193"
     },
     "user_tz": 240
    },
    "id": "UvAUoWAkRwkb",
    "outputId": "83c034b6-0ae6-438e-aef9-55cdcd01349a"
   },
   "outputs": [
    {
     "data": {
      "image/png": "[encoded data removed]",
      "text/plain": [
       "<Figure size 432x288 with 2 Axes>"
      ]
     },
     "metadata": {
      "needs_background": "light"
     },
     "output_type": "display_data"
    }
   ],
   "source": [
    "# Visualizing the hidden state data trajectories\n",
    "fig, ax1 = plt.subplots()\n",
    "\n",
    "t_syn = list(range(len(true_states_syn[trajectory_index_syn])))\n",
    "\n",
    "color = 'tab:red'\n",
    "ax1.set_xlabel('Time step')\n",
    "ax1.set_ylabel('Observations', color=color)\n",
    "ax1.plot(t_syn, X_observations_syn[trajectory_index_syn], color=color, linewidth=5, alpha=0.2)\n",
    "ax1.tick_params(axis='y', labelcolor=color)\n",
    "\n",
    "ax2 = ax1.twinx()  \n",
    "\n",
    "color = 'tab:blue'\n",
    "ax2.set_ylabel('Hidden states', color=color)  \n",
    "ax2.step(t_syn, true_states_syn[trajectory_index_syn], color=color, linewidth=5)\n",
    "ax2.tick_params(axis='y', labelcolor=color)\n",
    "ax2.set_yticks([0, 1, 2])\n",
    "\n",
    "fig.tight_layout()  \n",
    "plt.show()"
   ]
  },
  {
   "cell_type": "code",
   "execution_count": 12,
   "metadata": {
    "colab": {
     "base_uri": "https://localhost:8080/"
    },
    "executionInfo": {
     "elapsed": 332,
     "status": "ok",
     "timestamp": 1658174237292,
     "user": {
      "displayName": "Keith Bourne",
      "userId": "06063145071346277193"
     },
     "user_tz": 240
    },
    "id": "7QjOd8yiRwm7",
    "outputId": "8ffbd822-f872-4e54-8391-536333ed150c"
   },
   "outputs": [
    {
     "name": "stdout",
     "output_type": "stream",
     "text": [
      "42\n",
      "WARNING:tensorflow:From /home/jupyter/assm.py:337: BasicRNNCell.__init__ (from tensorflow.python.ops.rnn_cell_impl) is deprecated and will be removed in a future version.\n",
      "Instructions for updating:\n",
      "This class is equivalent as tf.keras.layers.SimpleRNNCell, and will be replaced by that in Tensorflow 2.0.\n",
      "WARNING:tensorflow:From /home/jupyter/assm.py:338: LSTMCell.__init__ (from tensorflow.python.ops.rnn_cell_impl) is deprecated and will be removed in a future version.\n",
      "Instructions for updating:\n",
      "This class is equivalent as tf.keras.layers.LSTMCell, and will be replaced by that in Tensorflow 2.0.\n"
     ]
    }
   ],
   "source": [
    "feat_num = len(assm_feat_list)\n",
    "print(feat_num)\n",
    "model_syn = attentive_state_space_model(num_states=4,\n",
    "                              maximum_seq_length=30, \n",
    "                              input_dim=feat_num-5,  # started with: 6. tried 10, but broke, but that was original, adjust for how many features used in data\n",
    "                              rnn_type='LSTM',\n",
    "                              latent=True,\n",
    "                              generative=True,\n",
    "                              num_iterations=50,   # started with: 5\n",
    "                              num_epochs=3,  # started with: 2\n",
    "                              batch_size=100,  # started with: 10\n",
    "                              learning_rate=5*1e-4, \n",
    "                              num_rnn_hidden=100,  # started with: 5\n",
    "                              num_rnn_layers=1,\n",
    "                              dropout_keep_prob=None,\n",
    "                              num_out_hidden=100,  # started with: 5\n",
    "                              num_out_layers=1)"
   ]
  },
  {
   "cell_type": "code",
   "execution_count": 13,
   "metadata": {
    "colab": {
     "base_uri": "https://localhost:8080/"
    },
    "executionInfo": {
     "elapsed": 11718,
     "status": "ok",
     "timestamp": 1658174252467,
     "user": {
      "displayName": "Keith Bourne",
      "userId": "06063145071346277193"
     },
     "user_tz": 240
    },
    "id": "9EJRVijGRwpa",
    "outputId": "2892d38f-6cc2-4607-9734-eacb852db222"
   },
   "outputs": [
    {
     "name": "stdout",
     "output_type": "stream",
     "text": [
      "TensorFlow version : >= 1.0\n",
      "---------------------------\n",
      "WARNING:tensorflow:From /home/jupyter/.local/lib/python3.7/site-packages/tensorflow/contrib/legacy_seq2seq/python/ops/seq2seq.py:186: static_rnn (from tensorflow.python.ops.rnn) is deprecated and will be removed in a future version.\n",
      "Instructions for updating:\n",
      "Please use `keras.layers.RNN(cell, unroll=True)`, which is equivalent to this API\n",
      "Epoch 0 \t----- \tBatch 0 \t----- \tLog-Likelihood -1.681830e+05\n",
      "Epoch 0 \t----- \tBatch 1 \t----- \tLog-Likelihood -1.677837e+05\n",
      "Epoch 0 \t----- \tBatch 2 \t----- \tLog-Likelihood -1.677916e+05\n",
      "Epoch 0 \t----- \tBatch 3 \t----- \tLog-Likelihood -1.559513e+05\n",
      "Epoch 0 \t----- \tBatch 4 \t----- \tLog-Likelihood -1.635646e+05\n",
      "Epoch 0 \t----- \tBatch 5 \t----- \tLog-Likelihood -1.568335e+05\n",
      "Epoch 0 \t----- \tBatch 6 \t----- \tLog-Likelihood -1.583527e+05\n",
      "Epoch 0 \t----- \tBatch 7 \t----- \tLog-Likelihood -1.569983e+05\n",
      "Epoch 0 \t----- \tBatch 8 \t----- \tLog-Likelihood -1.469210e+05\n",
      "Epoch 0 \t----- \tBatch 9 \t----- \tLog-Likelihood -1.602735e+05\n",
      "Epoch 0 \t----- \tBatch 10 \t----- \tLog-Likelihood -1.746682e+05\n",
      "Epoch 0 \t----- \tBatch 11 \t----- \tLog-Likelihood -1.524952e+05\n",
      "Epoch 0 \t----- \tBatch 12 \t----- \tLog-Likelihood -1.591466e+05\n",
      "Epoch 0 \t----- \tBatch 13 \t----- \tLog-Likelihood -1.600104e+05\n",
      "Epoch 0 \t----- \tBatch 14 \t----- \tLog-Likelihood -1.637145e+05\n",
      "Epoch 0 \t----- \tBatch 15 \t----- \tLog-Likelihood -1.423377e+05\n",
      "Epoch 0 \t----- \tBatch 16 \t----- \tLog-Likelihood -1.556668e+05\n",
      "Epoch 0 \t----- \tBatch 17 \t----- \tLog-Likelihood -1.609793e+05\n",
      "Epoch 0 \t----- \tBatch 18 \t----- \tLog-Likelihood -1.518957e+05\n",
      "Epoch 0 \t----- \tBatch 19 \t----- \tLog-Likelihood -1.744311e+05\n",
      "Epoch 0 \t----- \tBatch 20 \t----- \tLog-Likelihood -1.711805e+05\n",
      "Epoch 0 \t----- \tBatch 21 \t----- \tLog-Likelihood -1.584295e+05\n",
      "Epoch 0 \t----- \tBatch 22 \t----- \tLog-Likelihood -1.578499e+05\n",
      "Epoch 0 \t----- \tBatch 23 \t----- \tLog-Likelihood -1.677586e+05\n",
      "Epoch 0 \t----- \tBatch 24 \t----- \tLog-Likelihood -1.653530e+05\n",
      "Epoch 0 \t----- \tBatch 25 \t----- \tLog-Likelihood -1.531507e+05\n",
      "Epoch 0 \t----- \tBatch 26 \t----- \tLog-Likelihood -1.633949e+05\n",
      "Epoch 0 \t----- \tBatch 27 \t----- \tLog-Likelihood -1.607347e+05\n",
      "Epoch 0 \t----- \tBatch 28 \t----- \tLog-Likelihood -1.654307e+05\n",
      "Epoch 0 \t----- \tBatch 29 \t----- \tLog-Likelihood -1.765680e+05\n",
      "Epoch 0 \t----- \tBatch 30 \t----- \tLog-Likelihood -1.519823e+05\n",
      "Epoch 0 \t----- \tBatch 31 \t----- \tLog-Likelihood -1.492228e+05\n",
      "Epoch 0 \t----- \tBatch 32 \t----- \tLog-Likelihood -1.738517e+05\n",
      "Epoch 0 \t----- \tBatch 33 \t----- \tLog-Likelihood -1.675320e+05\n",
      "Epoch 0 \t----- \tBatch 34 \t----- \tLog-Likelihood -1.628115e+05\n",
      "Epoch 0 \t----- \tBatch 35 \t----- \tLog-Likelihood -1.588187e+05\n",
      "Epoch 0 \t----- \tBatch 36 \t----- \tLog-Likelihood -1.658207e+05\n",
      "Epoch 0 \t----- \tBatch 37 \t----- \tLog-Likelihood -1.624902e+05\n",
      "Epoch 0 \t----- \tBatch 38 \t----- \tLog-Likelihood -1.623797e+05\n",
      "Epoch 0 \t----- \tBatch 39 \t----- \tLog-Likelihood -1.785121e+05\n",
      "Epoch 0 \t----- \tBatch 40 \t----- \tLog-Likelihood -1.718221e+05\n",
      "Epoch 0 \t----- \tBatch 41 \t----- \tLog-Likelihood -1.612010e+05\n",
      "Epoch 0 \t----- \tBatch 42 \t----- \tLog-Likelihood -1.425397e+05\n",
      "Epoch 0 \t----- \tBatch 43 \t----- \tLog-Likelihood -1.639217e+05\n",
      "Epoch 0 \t----- \tBatch 44 \t----- \tLog-Likelihood -1.646946e+05\n",
      "Epoch 0 \t----- \tBatch 45 \t----- \tLog-Likelihood -1.561244e+05\n",
      "Epoch 0 \t----- \tBatch 46 \t----- \tLog-Likelihood -1.669396e+05\n",
      "Epoch 0 \t----- \tBatch 47 \t----- \tLog-Likelihood -1.574604e+05\n",
      "Epoch 0 \t----- \tBatch 48 \t----- \tLog-Likelihood -1.744290e+05\n",
      "Epoch 0 \t----- \tBatch 49 \t----- \tLog-Likelihood -1.625894e+05\n",
      "Epoch 1 \t----- \tBatch 0 \t----- \tLog-Likelihood -1.910555e+05\n",
      "Epoch 1 \t----- \tBatch 1 \t----- \tLog-Likelihood -1.504371e+05\n",
      "Epoch 1 \t----- \tBatch 2 \t----- \tLog-Likelihood -1.778890e+05\n",
      "Epoch 1 \t----- \tBatch 3 \t----- \tLog-Likelihood -1.660426e+05\n",
      "Epoch 1 \t----- \tBatch 4 \t----- \tLog-Likelihood -1.493989e+05\n",
      "Epoch 1 \t----- \tBatch 5 \t----- \tLog-Likelihood -1.703240e+05\n",
      "Epoch 1 \t----- \tBatch 6 \t----- \tLog-Likelihood -1.723861e+05\n",
      "Epoch 1 \t----- \tBatch 7 \t----- \tLog-Likelihood -1.387867e+05\n",
      "Epoch 1 \t----- \tBatch 8 \t----- \tLog-Likelihood -1.507233e+05\n",
      "Epoch 1 \t----- \tBatch 9 \t----- \tLog-Likelihood -1.648094e+05\n",
      "Epoch 1 \t----- \tBatch 10 \t----- \tLog-Likelihood -1.664596e+05\n",
      "Epoch 1 \t----- \tBatch 11 \t----- \tLog-Likelihood -1.742720e+05\n",
      "Epoch 1 \t----- \tBatch 12 \t----- \tLog-Likelihood -1.518120e+05\n",
      "Epoch 1 \t----- \tBatch 13 \t----- \tLog-Likelihood -1.398717e+05\n",
      "Epoch 1 \t----- \tBatch 14 \t----- \tLog-Likelihood -1.634247e+05\n",
      "Epoch 1 \t----- \tBatch 15 \t----- \tLog-Likelihood -1.759107e+05\n",
      "Epoch 1 \t----- \tBatch 16 \t----- \tLog-Likelihood -1.761109e+05\n",
      "Epoch 1 \t----- \tBatch 17 \t----- \tLog-Likelihood -1.662243e+05\n",
      "Epoch 1 \t----- \tBatch 18 \t----- \tLog-Likelihood -1.682975e+05\n",
      "Epoch 1 \t----- \tBatch 19 \t----- \tLog-Likelihood -1.802685e+05\n",
      "Epoch 1 \t----- \tBatch 20 \t----- \tLog-Likelihood -1.754071e+05\n",
      "Epoch 1 \t----- \tBatch 21 \t----- \tLog-Likelihood -1.950148e+05\n",
      "Epoch 1 \t----- \tBatch 22 \t----- \tLog-Likelihood -1.798154e+05\n",
      "Epoch 1 \t----- \tBatch 23 \t----- \tLog-Likelihood -1.724587e+05\n",
      "Epoch 1 \t----- \tBatch 24 \t----- \tLog-Likelihood -1.743417e+05\n",
      "Epoch 1 \t----- \tBatch 25 \t----- \tLog-Likelihood -1.492304e+05\n",
      "Epoch 1 \t----- \tBatch 26 \t----- \tLog-Likelihood -1.505335e+05\n",
      "Epoch 1 \t----- \tBatch 27 \t----- \tLog-Likelihood -1.809142e+05\n",
      "Epoch 1 \t----- \tBatch 28 \t----- \tLog-Likelihood -1.504747e+05\n",
      "Epoch 1 \t----- \tBatch 29 \t----- \tLog-Likelihood -1.670379e+05\n",
      "Epoch 1 \t----- \tBatch 30 \t----- \tLog-Likelihood -1.647380e+05\n",
      "Epoch 1 \t----- \tBatch 31 \t----- \tLog-Likelihood -1.921528e+05\n",
      "Epoch 1 \t----- \tBatch 32 \t----- \tLog-Likelihood -1.639574e+05\n",
      "Epoch 1 \t----- \tBatch 33 \t----- \tLog-Likelihood -1.420865e+05\n",
      "Epoch 1 \t----- \tBatch 34 \t----- \tLog-Likelihood -1.497580e+05\n",
      "Epoch 1 \t----- \tBatch 35 \t----- \tLog-Likelihood -1.524801e+05\n",
      "Epoch 1 \t----- \tBatch 36 \t----- \tLog-Likelihood -1.510752e+05\n",
      "Epoch 1 \t----- \tBatch 37 \t----- \tLog-Likelihood -1.342707e+05\n",
      "Epoch 1 \t----- \tBatch 38 \t----- \tLog-Likelihood -1.589288e+05\n",
      "Epoch 1 \t----- \tBatch 39 \t----- \tLog-Likelihood -1.572797e+05\n",
      "Epoch 1 \t----- \tBatch 40 \t----- \tLog-Likelihood -1.680754e+05\n",
      "Epoch 1 \t----- \tBatch 41 \t----- \tLog-Likelihood -1.572469e+05\n",
      "Epoch 1 \t----- \tBatch 42 \t----- \tLog-Likelihood -1.690214e+05\n",
      "Epoch 1 \t----- \tBatch 43 \t----- \tLog-Likelihood -1.546186e+05\n",
      "Epoch 1 \t----- \tBatch 44 \t----- \tLog-Likelihood -1.561331e+05\n",
      "Epoch 1 \t----- \tBatch 45 \t----- \tLog-Likelihood -1.798813e+05\n",
      "Epoch 1 \t----- \tBatch 46 \t----- \tLog-Likelihood -1.521167e+05\n",
      "Epoch 1 \t----- \tBatch 47 \t----- \tLog-Likelihood -1.534856e+05\n",
      "Epoch 1 \t----- \tBatch 48 \t----- \tLog-Likelihood -1.604026e+05\n",
      "Epoch 1 \t----- \tBatch 49 \t----- \tLog-Likelihood -1.639995e+05\n",
      "Epoch 2 \t----- \tBatch 0 \t----- \tLog-Likelihood -1.627060e+05\n",
      "Epoch 2 \t----- \tBatch 1 \t----- \tLog-Likelihood -1.819090e+05\n",
      "Epoch 2 \t----- \tBatch 2 \t----- \tLog-Likelihood -1.626507e+05\n",
      "Epoch 2 \t----- \tBatch 3 \t----- \tLog-Likelihood -1.675774e+05\n",
      "Epoch 2 \t----- \tBatch 4 \t----- \tLog-Likelihood -1.601269e+05\n",
      "Epoch 2 \t----- \tBatch 5 \t----- \tLog-Likelihood -1.837369e+05\n",
      "Epoch 2 \t----- \tBatch 6 \t----- \tLog-Likelihood -1.489216e+05\n",
      "Epoch 2 \t----- \tBatch 7 \t----- \tLog-Likelihood -1.660872e+05\n",
      "Epoch 2 \t----- \tBatch 8 \t----- \tLog-Likelihood -1.909842e+05\n",
      "Epoch 2 \t----- \tBatch 9 \t----- \tLog-Likelihood -1.429194e+05\n",
      "Epoch 2 \t----- \tBatch 10 \t----- \tLog-Likelihood -1.598209e+05\n",
      "Epoch 2 \t----- \tBatch 11 \t----- \tLog-Likelihood -1.579753e+05\n",
      "Epoch 2 \t----- \tBatch 12 \t----- \tLog-Likelihood -1.470367e+05\n",
      "Epoch 2 \t----- \tBatch 13 \t----- \tLog-Likelihood -1.684830e+05\n",
      "Epoch 2 \t----- \tBatch 14 \t----- \tLog-Likelihood -1.732977e+05\n",
      "Epoch 2 \t----- \tBatch 15 \t----- \tLog-Likelihood -1.658808e+05\n",
      "Epoch 2 \t----- \tBatch 16 \t----- \tLog-Likelihood -1.422106e+05\n",
      "Epoch 2 \t----- \tBatch 17 \t----- \tLog-Likelihood -1.453712e+05\n",
      "Epoch 2 \t----- \tBatch 18 \t----- \tLog-Likelihood -1.359850e+05\n",
      "Epoch 2 \t----- \tBatch 19 \t----- \tLog-Likelihood -1.565236e+05\n",
      "Epoch 2 \t----- \tBatch 22 \t----- \tLog-Likelihood -1.589688e+05\n",
      "Epoch 2 \t----- \tBatch 23 \t----- \tLog-Likelihood -1.896509e+05\n",
      "Epoch 2 \t----- \tBatch 24 \t----- \tLog-Likelihood -1.553288e+05\n",
      "Epoch 2 \t----- \tBatch 25 \t----- \tLog-Likelihood -1.612945e+05\n",
      "Epoch 2 \t----- \tBatch 26 \t----- \tLog-Likelihood -1.547842e+05\n",
      "Epoch 2 \t----- \tBatch 27 \t----- \tLog-Likelihood -1.381190e+05\n",
      "Epoch 2 \t----- \tBatch 28 \t----- \tLog-Likelihood -1.844377e+05\n",
      "Epoch 2 \t----- \tBatch 29 \t----- \tLog-Likelihood -1.420864e+05\n",
      "Epoch 2 \t----- \tBatch 30 \t----- \tLog-Likelihood -1.553991e+05\n",
      "Epoch 2 \t----- \tBatch 31 \t----- \tLog-Likelihood -1.671895e+05\n",
      "Epoch 2 \t----- \tBatch 32 \t----- \tLog-Likelihood -1.798929e+05\n",
      "Epoch 2 \t----- \tBatch 33 \t----- \tLog-Likelihood -1.723199e+05\n",
      "Epoch 2 \t----- \tBatch 34 \t----- \tLog-Likelihood -1.896862e+05\n",
      "Epoch 2 \t----- \tBatch 35 \t----- \tLog-Likelihood -1.622141e+05\n",
      "Epoch 2 \t----- \tBatch 36 \t----- \tLog-Likelihood -1.310759e+05\n",
      "Epoch 2 \t----- \tBatch 37 \t----- \tLog-Likelihood -1.524486e+05\n",
      "Epoch 2 \t----- \tBatch 38 \t----- \tLog-Likelihood -1.645554e+05\n",
      "Epoch 2 \t----- \tBatch 39 \t----- \tLog-Likelihood -1.590634e+05\n",
      "Epoch 2 \t----- \tBatch 40 \t----- \tLog-Likelihood -1.448311e+05\n",
      "Epoch 2 \t----- \tBatch 41 \t----- \tLog-Likelihood -1.685662e+05\n",
      "Epoch 2 \t----- \tBatch 42 \t----- \tLog-Likelihood -1.753249e+05\n",
      "Epoch 2 \t----- \tBatch 43 \t----- \tLog-Likelihood -1.729554e+05\n",
      "Epoch 2 \t----- \tBatch 44 \t----- \tLog-Likelihood -1.328208e+05\n",
      "Epoch 2 \t----- \tBatch 45 \t----- \tLog-Likelihood -1.685312e+05\n",
      "Epoch 2 \t----- \tBatch 46 \t----- \tLog-Likelihood -1.548700e+05\n",
      "Epoch 2 \t----- \tBatch 47 \t----- \tLog-Likelihood -1.578966e+05\n",
      "Epoch 2 \t----- \tBatch 48 \t----- \tLog-Likelihood -1.440960e+05\n",
      "Epoch 2 \t----- \tBatch 49 \t----- \tLog-Likelihood -1.677876e+05\n",
      "WARNING:tensorflow:From /home/jupyter/assm.py:712: simple_save (from tensorflow.python.saved_model.simple_save) is deprecated and will be removed in a future version.\n",
      "Instructions for updating:\n",
      "This function will only be available through the v1 compatibility library as tf.compat.v1.saved_model.simple_save.\n",
      "WARNING:tensorflow:From /home/jupyter/.local/lib/python3.7/site-packages/tensorflow/python/saved_model/signature_def_utils_impl.py:205: build_tensor_info (from tensorflow.python.saved_model.utils_impl) is deprecated and will be removed in a future version.\n",
      "Instructions for updating:\n",
      "This function will only be available through the v1 compatibility library as tf.compat.v1.saved_model.utils.build_tensor_info or tf.compat.v1.saved_model.build_tensor_info.\n",
      "INFO:tensorflow:Assets added to graph.\n",
      "INFO:tensorflow:No assets to write.\n",
      "INFO:tensorflow:SavedModel written to: attentive_state_space/saved_model.pb\n",
      "Elapsed time to make predictions: 339.851 seconds\n"
     ]
    }
   ],
   "source": [
    "start_time = time.time()\n",
    "\n",
    "model_syn.fit(X_observations_syn)\n",
    "\n",
    "elapsed_time = time.time() - start_time\n",
    "print(f\"Elapsed time to make predictions: {elapsed_time:.3f} seconds\")"
   ]
  },
  {
   "cell_type": "code",
   "execution_count": 14,
   "metadata": {
    "colab": {
     "base_uri": "https://localhost:8080/"
    },
    "executionInfo": {
     "elapsed": 47,
     "status": "ok",
     "timestamp": 1658174252468,
     "user": {
      "displayName": "Keith Bourne",
      "userId": "06063145071346277193"
     },
     "user_tz": 240
    },
    "id": "5I8_x7bBYCdl",
    "outputId": "4ac8f0bf-61df-40f3-9bad-0968197a45a7"
   },
   "outputs": [
    {
     "data": {
      "text/plain": [
       "array([0.38367253, 0.61632747])"
      ]
     },
     "execution_count": 14,
     "metadata": {},
     "output_type": "execute_result"
    }
   ],
   "source": [
    "model_syn.initial_probabilities"
   ]
  },
  {
   "cell_type": "code",
   "execution_count": 15,
   "metadata": {
    "colab": {
     "base_uri": "https://localhost:8080/"
    },
    "executionInfo": {
     "elapsed": 41,
     "status": "ok",
     "timestamp": 1658174252468,
     "user": {
      "displayName": "Keith Bourne",
      "userId": "06063145071346277193"
     },
     "user_tz": 240
    },
    "id": "_UrILakqYCg8",
    "outputId": "7f3ed8d5-3d87-4e64-ce22-d902d1e3f12a"
   },
   "outputs": [
    {
     "data": {
      "text/plain": [
       "array([[0.68915401, 0.31084599],\n",
       "       [0.15426931, 0.84573069]])"
      ]
     },
     "execution_count": 15,
     "metadata": {},
     "output_type": "execute_result"
    }
   ],
   "source": [
    "model_syn.transition_matrix"
   ]
  },
  {
   "cell_type": "code",
   "execution_count": 16,
   "metadata": {
    "colab": {
     "base_uri": "https://localhost:8080/"
    },
    "executionInfo": {
     "elapsed": 36,
     "status": "ok",
     "timestamp": 1658174252469,
     "user": {
      "displayName": "Keith Bourne",
      "userId": "06063145071346277193"
     },
     "user_tz": 240
    },
    "id": "x3-buS4eYCj9",
    "outputId": "038323c7-caf5-4255-90fb-6c3a3d6ce71d"
   },
   "outputs": [
    {
     "data": {
      "text/plain": [
       "array([[0.30125465, 0.29290551],\n",
       "       [0.40090061, 0.58287567],\n",
       "       [0.45550789, 0.52978913],\n",
       "       [0.02366484, 0.02511545],\n",
       "       [0.20313607, 0.27695905],\n",
       "       [0.44404608, 0.37638128],\n",
       "       [0.0509593 , 0.16341717],\n",
       "       [0.1032743 , 0.28187275],\n",
       "       [0.12051808, 0.22891161],\n",
       "       [0.66543565, 0.73554025],\n",
       "       [0.60089191, 0.73355122],\n",
       "       [0.64157436, 0.47229232],\n",
       "       [0.59473742, 0.6445152 ],\n",
       "       [0.19671805, 0.40040217],\n",
       "       [0.14885071, 0.25619556],\n",
       "       [0.28050632, 0.44028028],\n",
       "       [0.06894256, 0.0512051 ],\n",
       "       [0.60809034, 0.35671677],\n",
       "       [0.5019301 , 0.38542161],\n",
       "       [0.92761231, 0.97032911],\n",
       "       [0.23569959, 0.15420051],\n",
       "       [0.40576012, 0.47038687],\n",
       "       [0.33365342, 0.47454591],\n",
       "       [0.99997315, 0.88044047],\n",
       "       [0.98439696, 0.97104183],\n",
       "       [0.92954351, 0.96352837],\n",
       "       [0.51558712, 0.75873045],\n",
       "       [0.73069008, 0.76789427],\n",
       "       [0.0940742 , 0.08482737],\n",
       "       [0.16936106, 0.05864899],\n",
       "       [0.29044648, 0.40662877],\n",
       "       [0.2169239 , 0.15035565],\n",
       "       [0.4741843 , 0.52540151],\n",
       "       [0.20855435, 0.18336254],\n",
       "       [0.86484572, 0.83688923],\n",
       "       [0.88092026, 0.77322164],\n",
       "       [0.99982465, 0.07502596]])"
      ]
     },
     "execution_count": 16,
     "metadata": {},
     "output_type": "execute_result"
    }
   ],
   "source": [
    "model_syn.state_means.T "
   ]
  },
  {
   "cell_type": "code",
   "execution_count": 17,
   "metadata": {
    "colab": {
     "base_uri": "https://localhost:8080/"
    },
    "executionInfo": {
     "elapsed": 30,
     "status": "ok",
     "timestamp": 1658174252469,
     "user": {
      "displayName": "Keith Bourne",
      "userId": "06063145071346277193"
     },
     "user_tz": 240
    },
    "id": "3UfMPh_hYCnP",
    "outputId": "2d5bdc95-383a-4283-c221-94275142dd56"
   },
   "outputs": [
    {
     "data": {
      "text/plain": [
       "array([[[ 3.68511382e-02, -7.99288644e-03, -1.36759464e-03, ...,\n",
       "         -3.82217760e-04, -1.21355211e-02,  6.41842974e-06],\n",
       "        [-7.99288644e-03,  6.91920467e-02,  2.12806062e-02, ...,\n",
       "          1.92785326e-02,  2.07699044e-02, -1.49567247e-05],\n",
       "        [-1.36759464e-03,  2.12806062e-02,  8.42803171e-02, ...,\n",
       "          2.11841279e-02,  3.54349985e-02, -4.61277474e-06],\n",
       "        ...,\n",
       "        [-3.82217760e-04,  1.92785326e-02,  2.11841279e-02, ...,\n",
       "          1.05074106e-01, -5.35671225e-03,  2.09388880e-06],\n",
       "        [-1.21355211e-02,  2.07699044e-02,  3.54349985e-02, ...,\n",
       "         -5.35671225e-03,  1.02202280e-01,  1.15317815e-05],\n",
       "        [ 6.41842974e-06, -1.49567247e-05, -4.61277474e-06, ...,\n",
       "          2.09388880e-06,  1.15317815e-05,  1.25103891e-06]],\n",
       "\n",
       "       [[ 4.50270952e-02, -2.11004834e-02, -1.89284543e-02, ...,\n",
       "         -1.71562579e-02, -1.69813990e-02,  4.92535261e-03],\n",
       "        [-2.11004834e-02,  6.05146684e-02,  3.93437648e-02, ...,\n",
       "          2.80789633e-02,  2.50744418e-02,  2.00100697e-03],\n",
       "        [-1.89284543e-02,  3.93437648e-02,  7.35041469e-02, ...,\n",
       "          3.21550562e-02,  3.67279395e-02, -4.51659938e-03],\n",
       "        ...,\n",
       "        [-1.71562579e-02,  2.80789633e-02,  3.21550562e-02, ...,\n",
       "          1.20160521e-01,  3.20997992e-02, -2.70602738e-03],\n",
       "        [-1.69813990e-02,  2.50744418e-02,  3.67279395e-02, ...,\n",
       "          3.20997992e-02,  1.73992036e-01, -7.87132210e-03],\n",
       "        [ 4.92535261e-03,  2.00100697e-03, -4.51659938e-03, ...,\n",
       "         -2.70602738e-03, -7.87132210e-03,  6.57635070e-02]]])"
      ]
     },
     "execution_count": 17,
     "metadata": {},
     "output_type": "execute_result"
    }
   ],
   "source": [
    "model_syn.state_covars"
   ]
  },
  {
   "cell_type": "code",
   "execution_count": 18,
   "metadata": {
    "colab": {
     "base_uri": "https://localhost:8080/"
    },
    "executionInfo": {
     "elapsed": 24,
     "status": "ok",
     "timestamp": 1658174252470,
     "user": {
      "displayName": "Keith Bourne",
      "userId": "06063145071346277193"
     },
     "user_tz": 240
    },
    "id": "PsIes6heYJdd",
    "outputId": "95c93f24-9144-4e83-da7a-fc104fe4e3fd"
   },
   "outputs": [
    {
     "data": {
      "text/plain": [
       "array([[8.08310449e-01, 3.24659258e-01, 1.92043722e-01, 1.51882976e-01,\n",
       "        8.02843332e-01, 3.13304454e-01, 3.00900012e-01, 1.79394484e-02,\n",
       "        9.78680491e-01, 5.75184822e-01, 7.76460290e-01, 9.35187638e-02,\n",
       "        8.92906606e-01, 6.87096417e-02, 6.30819798e-01, 3.58152568e-01,\n",
       "        2.80515373e-01, 1.00386739e-02, 8.32951248e-01, 8.64267349e-07,\n",
       "        2.52693892e-04, 1.17191672e-02, 3.19155455e-02, 9.99835193e-01,\n",
       "        5.10653853e-03, 1.55657530e-04, 9.05369878e-01, 1.59797072e-03,\n",
       "        9.27061379e-01, 8.94069672e-07, 3.81916761e-04, 9.99818087e-01,\n",
       "        2.05982327e-02, 1.48385763e-03, 9.94370639e-01, 8.45700502e-04,\n",
       "        9.99679804e-01],\n",
       "       [7.70275474e-01, 3.47273827e-01, 1.41520441e-01, 1.65956616e-02,\n",
       "        7.27591932e-01, 3.50341201e-01, 1.80711716e-01, 6.55013323e-03,\n",
       "        6.54005170e-01, 7.76812077e-01, 8.81921768e-01, 1.06919080e-01,\n",
       "        9.31640267e-01, 5.20794988e-02, 2.71795601e-01, 5.18475652e-01,\n",
       "        3.31976414e-02, 2.27427483e-03, 6.05993688e-01, 4.97698784e-06,\n",
       "        2.98023224e-05, 6.20424747e-03, 4.07367945e-02, 2.41449475e-02,\n",
       "        3.39944065e-02, 2.29945779e-03, 9.93588090e-01, 1.69804692e-03,\n",
       "        7.48518348e-01, 4.45932150e-04, 1.96132064e-03, 9.99792576e-01,\n",
       "        2.20846832e-02, 1.41280890e-03, 7.11696982e-01, 9.97113705e-01,\n",
       "        2.11521983e-03],\n",
       "       [7.27751970e-01, 3.09541702e-01, 1.44236743e-01, 1.59001946e-02,\n",
       "        6.43343210e-01, 2.29382753e-01, 1.95678592e-01, 7.55962729e-03,\n",
       "        5.17753065e-01, 7.56545901e-01, 8.67408633e-01, 1.09592438e-01,\n",
       "        9.43408310e-01, 4.85376418e-02, 2.18204886e-01, 5.03775597e-01,\n",
       "        1.46916509e-02, 1.37746334e-03, 6.16048038e-01, 1.56104565e-04,\n",
       "        2.77459621e-05, 4.40078974e-03, 3.54814827e-02, 2.23518312e-02,\n",
       "        9.84102190e-02, 2.21413374e-03, 9.96749043e-01, 1.85281038e-03,\n",
       "        7.40658104e-01, 9.17136669e-04, 2.78863311e-03, 9.99812126e-01,\n",
       "        1.85051560e-02, 1.22189522e-03, 6.58642054e-01, 9.98395920e-01,\n",
       "        2.03013420e-03],\n",
       "       [7.00933099e-01, 3.40093136e-01, 1.72105104e-01, 1.12253428e-02,\n",
       "        5.84003270e-01, 2.16836125e-01, 2.03440905e-01, 7.78186321e-03,\n",
       "        5.00122666e-01, 7.44399965e-01, 8.40402603e-01, 1.07895464e-01,\n",
       "        9.44863081e-01, 4.56133187e-02, 2.02955723e-01, 5.08406103e-01,\n",
       "        8.91163945e-03, 5.50359488e-04, 5.90346038e-01, 9.01997089e-04,\n",
       "        3.12924385e-05, 5.53256273e-03, 3.97881269e-02, 1.79213583e-02,\n",
       "        6.25764132e-02, 1.59019232e-03, 9.97897148e-01, 2.35995650e-03,\n",
       "        7.28373706e-01, 1.23134255e-03, 2.59798765e-03, 9.99821663e-01,\n",
       "        1.73351169e-02, 1.20806694e-03, 8.11072171e-01, 9.98858809e-01,\n",
       "        1.31627917e-03]])"
      ]
     },
     "execution_count": 18,
     "metadata": {},
     "output_type": "execute_result"
    }
   ],
   "source": [
    "X_observations_syn[3]"
   ]
  },
  {
   "cell_type": "code",
   "execution_count": 19,
   "metadata": {
    "colab": {
     "base_uri": "https://localhost:8080/"
    },
    "executionInfo": {
     "elapsed": 3169,
     "status": "ok",
     "timestamp": 1658174255621,
     "user": {
      "displayName": "Keith Bourne",
      "userId": "06063145071346277193"
     },
     "user_tz": 240
    },
    "id": "JR9-rJuXYJry",
    "outputId": "35ca13fa-1923-4f23-d346-9264fc9c5639"
   },
   "outputs": [
    {
     "name": "stdout",
     "output_type": "stream",
     "text": [
      "WARNING:tensorflow:From /home/jupyter/.local/lib/python3.7/site-packages/tensorflow/python/training/saver.py:1266: checkpoint_exists (from tensorflow.python.training.checkpoint_management) is deprecated and will be removed in a future version.\n",
      "Instructions for updating:\n",
      "Use standard file APIs to check for files with this prefix.\n",
      "INFO:tensorflow:Restoring parameters from ./mlaimRNN_model\n",
      "Elapsed time to make predictions: 3.843 seconds\n"
     ]
    }
   ],
   "source": [
    "start_time = time.time()\n",
    "\n",
    "predict_idx_syn = 0\n",
    "state_inference_syn, expected_observations_syn, attention_syn = model_syn.predict([X_observations_syn[predict_idx_syn]])\n",
    "\n",
    "elapsed_time = time.time() - start_time\n",
    "print(f\"Elapsed time to make predictions: {elapsed_time:.3f} seconds\")"
   ]
  },
  {
   "cell_type": "code",
   "execution_count": 20,
   "metadata": {
    "colab": {
     "base_uri": "https://localhost:8080/"
    },
    "executionInfo": {
     "elapsed": 45,
     "status": "ok",
     "timestamp": 1658174255624,
     "user": {
      "displayName": "Keith Bourne",
      "userId": "06063145071346277193"
     },
     "user_tz": 240
    },
    "id": "0UlHBuMSYJx-",
    "outputId": "c0e0e250-62f9-4b80-8023-80bd3a6843ed"
   },
   "outputs": [
    {
     "data": {
      "text/plain": [
       "array([1, 1, 1, 1])"
      ]
     },
     "execution_count": 20,
     "metadata": {},
     "output_type": "execute_result"
    }
   ],
   "source": [
    "np.argmax(state_inference_syn[predict_idx_syn], axis=1)"
   ]
  },
  {
   "cell_type": "code",
   "execution_count": 21,
   "metadata": {
    "colab": {
     "base_uri": "https://localhost:8080/",
     "height": 297
    },
    "executionInfo": {
     "elapsed": 34,
     "status": "ok",
     "timestamp": 1658174255625,
     "user": {
      "displayName": "Keith Bourne",
      "userId": "06063145071346277193"
     },
     "user_tz": 240
    },
    "id": "aCeMl5P5YJ0l",
    "outputId": "629970c7-081a-4978-9133-f9e0ca6adab2"
   },
   "outputs": [
    {
     "data": {
      "image/png": "[encoded data removed]",
      "text/plain": [
       "<Figure size 432x288 with 2 Axes>"
      ]
     },
     "metadata": {
      "needs_background": "light"
     },
     "output_type": "display_data"
    }
   ],
   "source": [
    "fig, ax1 = plt.subplots()\n",
    "trajectory_index_syn = 0\n",
    "t_syn = list(range(len(true_states_syn[trajectory_index_syn])))\n",
    "color = 'tab:red'\n",
    "ax1.set_xlabel('time (s)')\n",
    "ax1.set_ylabel('MAP state estimate', color=color)\n",
    "ax1.plot(t_syn, np.argmax(state_inference_syn[trajectory_index_syn], axis=1), color=color, linewidth=5)\n",
    "ax1.tick_params(axis='y', labelcolor=color)\n",
    "ax1.set_yticks([0, 1, 2])\n",
    "ax2 = ax1.twinx()  \n",
    "color = 'tab:blue'\n",
    "ax2.set_ylabel('True states', color=color)  \n",
    "ax2.step(t_syn, true_states_syn[trajectory_index_syn], color=color, linewidth=5)\n",
    "ax2.tick_params(axis='y', labelcolor=color)\n",
    "ax2.set_yticks([0, 1, 2])\n",
    "fig.tight_layout()  \n",
    "plt.show()"
   ]
  },
  {
   "cell_type": "code",
   "execution_count": 22,
   "metadata": {
    "colab": {
     "base_uri": "https://localhost:8080/",
     "height": 297
    },
    "executionInfo": {
     "elapsed": 409,
     "status": "ok",
     "timestamp": 1658174256004,
     "user": {
      "displayName": "Keith Bourne",
      "userId": "06063145071346277193"
     },
     "user_tz": 240
    },
    "id": "lb3u6v5XYJ5S",
    "outputId": "1c2170e9-a9e1-4efd-a624-fab01dc984f2"
   },
   "outputs": [
    {
     "data": {
      "image/png": "[encoded data removed]",
      "text/plain": [
       "<Figure size 432x288 with 2 Axes>"
      ]
     },
     "metadata": {
      "needs_background": "light"
     },
     "output_type": "display_data"
    }
   ],
   "source": [
    "fig, ax1 = plt.subplots()\n",
    "t_syn = list(range(len(true_states_syn[trajectory_index_syn])))\n",
    "color = 'tab:red'\n",
    "ax1.set_xlabel('Time step')\n",
    "ax1.set_ylabel('True observations', color=color)\n",
    "ax1.plot(t_syn, X_observations_syn[trajectory_index_syn], color=color, linewidth=5, alpha=0.2)\n",
    "ax1.tick_params(axis='y', labelcolor=color)\n",
    "ax2 = ax1.twinx()  \n",
    "color = 'tab:blue'\n",
    "ax2.set_ylabel('Predicted average observations', color=color)  \n",
    "ax2.plot(t_syn, expected_observations_syn[trajectory_index_syn], color=color, linewidth=5, alpha=0.1)\n",
    "ax2.tick_params(axis='y', labelcolor=color)\n",
    "ax2.set_yticks([0, 1, 2])\n",
    "fig.tight_layout()  \n",
    "plt.show()"
   ]
  },
  {
   "cell_type": "code",
   "execution_count": 23,
   "metadata": {
    "colab": {
     "base_uri": "https://localhost:8080/",
     "height": 283
    },
    "executionInfo": {
     "elapsed": 11,
     "status": "ok",
     "timestamp": 1658174256005,
     "user": {
      "displayName": "Keith Bourne",
      "userId": "06063145071346277193"
     },
     "user_tz": 240
    },
    "id": "fMw9pkJKYJ78",
    "outputId": "d9141cf2-a649-4ca5-f945-733ec0c9688c"
   },
   "outputs": [
    {
     "data": {
      "image/png": "[encoded data removed]",
      "text/plain": [
       "<Figure size 432x288 with 2 Axes>"
      ]
     },
     "metadata": {},
     "output_type": "display_data"
    }
   ],
   "source": [
    "# Visualize the attention weights over time\n",
    "import seaborn as sns\n",
    "Attention_weights_syn = []\n",
    "for w in range(len(attention_syn[0])):\n",
    "    Attention_weights_syn.append(np.vstack((attention_syn[0][w], np.zeros((len(attention_syn[0][-1]) - len(attention_syn[0][w]),1)))))\n",
    "Attention_weights_syn = np.array(Attention_weights_syn).reshape((len(attention_syn[0][-1]), len(attention_syn[0][-1])))[:state_inference_syn[0].shape[0], :state_inference_syn[0].shape[0]]\n",
    "mask_syn = np.zeros_like(Attention_weights_syn)\n",
    "mask_syn[np.triu_indices_from(mask_syn)] = True\n",
    "with sns.axes_style(\"white\"):\n",
    "    ax = sns.heatmap(Attention_weights_syn, mask=mask_syn, vmax=.3, square=True)\n",
    "    ax.set_ylabel('Chronological time')\n",
    "    ax.set_xlabel('Previous time steps')"
   ]
  },
  {
   "cell_type": "code",
   "execution_count": null,
   "metadata": {
    "executionInfo": {
     "elapsed": 9,
     "status": "ok",
     "timestamp": 1658174256005,
     "user": {
      "displayName": "Keith Bourne",
      "userId": "06063145071346277193"
     },
     "user_tz": 240
    },
    "id": "adkZwpYEYSGt"
   },
   "outputs": [],
   "source": []
  },
  {
   "cell_type": "markdown",
   "metadata": {
    "id": "d1dPrKJW2lKl",
    "tags": []
   },
   "source": [
    "# Using TimeGANs to Oversample Minority Data Class"
   ]
  },
  {
   "cell_type": "code",
   "execution_count": 5,
   "metadata": {
    "colab": {
     "base_uri": "https://localhost:8080/",
     "height": 549
    },
    "executionInfo": {
     "elapsed": 323,
     "status": "ok",
     "timestamp": 1658175584179,
     "user": {
      "displayName": "Keith Bourne",
      "userId": "06063145071346277193"
     },
     "user_tz": 240
    },
    "id": "2xpFYNKL2nuR",
    "outputId": "f32fe396-28ad-4887-c72c-28c8b358ede0"
   },
   "outputs": [
    {
     "name": "stdout",
     "output_type": "stream",
     "text": [
      "doggo_data_timeGANs dataframe shape post:  (8172, 42)\n",
      "minority doggo dataset is ready\n",
      "Elapsed time to pull up data: 0.016 seconds\n"
     ]
    }
   ],
   "source": [
    "start_time = time.time()\n",
    "\n",
    "dataX_min = oversamp_minority_data(gan_df, seqlen=seqlen)\n",
    "\n",
    "elapsed_time = time.time() - start_time\n",
    "print(f\"Elapsed time to pull up data: {elapsed_time:.3f} seconds\")"
   ]
  },
  {
   "cell_type": "code",
   "execution_count": 6,
   "metadata": {
    "colab": {
     "base_uri": "https://localhost:8080/"
    },
    "executionInfo": {
     "elapsed": 256,
     "status": "ok",
     "timestamp": 1658175624822,
     "user": {
      "displayName": "Keith Bourne",
      "userId": "06063145071346277193"
     },
     "user_tz": 240
    },
    "id": "r_OK3e1n2tUN",
    "outputId": "222e0329-c8dc-4598-d63f-12b41ce18fee"
   },
   "outputs": [
    {
     "name": "stdout",
     "output_type": "stream",
     "text": [
      "Minority class parameters are {'hidden_dim': 168, 'num_layers': 3, 'iterations': 10000, 'batch_size': 128, 'module_name': 'gru', 'z_dim': 42}\n"
     ]
    }
   ],
   "source": [
    "## Main Parameters\n",
    "# Experiments iterations\n",
    "Iteration = 2 # started with: 1\n",
    "Sub_Iteration = 3 # started with: 2\n",
    "\n",
    "## Newtork Parameters\n",
    "parameters_min = dict()\n",
    "\n",
    "parameters_min['hidden_dim'] = len(dataX_min[0][0,:]) * 4\n",
    "parameters_min['num_layers'] = 3 # started with: 2 (has to be at least 2!)\n",
    "parameters_min['iterations'] = 10000 # started with: 1000, low as 10\n",
    "parameters_min['batch_size'] = 128 # started with: 64, low as 2\n",
    "parameters_min['module_name'] = 'gru'   # Other options: 'lstm' or 'lstmLN'\n",
    "parameters_min['z_dim'] = len(dataX_min[0][0,:]) \n",
    "\n",
    "print('Minority class parameters are ' + str(parameters_min))\n",
    "\n",
    "## Experiments\n",
    "# Output Initialization\n",
    "Discriminative_Score_min = list()\n",
    "Predictive_Score_min = list()"
   ]
  },
  {
   "cell_type": "code",
   "execution_count": 7,
   "metadata": {
    "colab": {
     "base_uri": "https://localhost:8080/"
    },
    "executionInfo": {
     "elapsed": 100266,
     "status": "ok",
     "timestamp": 1658175727876,
     "user": {
      "displayName": "Keith Bourne",
      "userId": "06063145071346277193"
     },
     "user_tz": 240
    },
    "id": "tjZntivC2tX5",
    "outputId": "f6fdc98a-d390-42a7-b742-d739dbf439f8"
   },
   "outputs": [
    {
     "name": "stdout",
     "output_type": "stream",
     "text": [
      "Start iterations\n",
      "WARNING:tensorflow:From /home/jupyter/timegan.py:67: GRUCell.__init__ (from tensorflow.python.ops.rnn_cell_impl) is deprecated and will be removed in a future version.\n",
      "Instructions for updating:\n",
      "This class is equivalent as tf.keras.layers.GRUCell, and will be replaced by that in Tensorflow 2.0.\n",
      "WARNING:tensorflow:From /home/jupyter/timegan.py:83: MultiRNNCell.__init__ (from tensorflow.python.ops.rnn_cell_impl) is deprecated and will be removed in a future version.\n",
      "Instructions for updating:\n",
      "This class is equivalent as tf.keras.layers.StackedRNNCells, and will be replaced by that in Tensorflow 2.0.\n",
      "WARNING:tensorflow:From /home/jupyter/timegan.py:85: dynamic_rnn (from tensorflow.python.ops.rnn) is deprecated and will be removed in a future version.\n",
      "Instructions for updating:\n",
      "Please use `keras.layers.RNN(cell)`, which is equivalent to this API\n",
      "WARNING:tensorflow:From /home/jupyter/.local/lib/python3.7/site-packages/tensorflow/python/ops/rnn.py:626: to_int32 (from tensorflow.python.ops.math_ops) is deprecated and will be removed in a future version.\n",
      "Instructions for updating:\n",
      "Use tf.cast instead.\n",
      "WARNING:tensorflow:From /home/jupyter/.local/lib/python3.7/site-packages/tensorflow/python/ops/tensor_array_ops.py:162: colocate_with (from tensorflow.python.framework.ops) is deprecated and will be removed in a future version.\n",
      "Instructions for updating:\n",
      "Colocations handled automatically by placer.\n",
      "WARNING:tensorflow:From /home/jupyter/.local/lib/python3.7/site-packages/tensorflow/python/ops/losses/losses_impl.py:209: to_float (from tensorflow.python.ops.math_ops) is deprecated and will be removed in a future version.\n",
      "Instructions for updating:\n",
      "Use tf.cast instead.\n",
      "Start Embedding Network Training\n",
      "step: 0, e_loss: 0.4198\n",
      "step: 1000, e_loss: 0.2447\n",
      "step: 2000, e_loss: 0.2013\n",
      "step: 3000, e_loss: 0.1495\n",
      "step: 4000, e_loss: 0.1219\n",
      "step: 5000, e_loss: 0.0937\n",
      "step: 6000, e_loss: 0.0807\n",
      "step: 7000, e_loss: 0.0709\n",
      "step: 8000, e_loss: 0.0619\n",
      "step: 9000, e_loss: 0.0547\n",
      "Finish Embedding Network Training\n",
      "Start Training with Supervised Loss Only\n",
      "step: 0, s_loss: 0.3701\n",
      "step: 1000, s_loss: 0.0444\n",
      "step: 2000, s_loss: 0.0363\n",
      "step: 3000, s_loss: 0.033\n",
      "step: 4000, s_loss: 0.0291\n",
      "step: 5000, s_loss: 0.027\n",
      "step: 6000, s_loss: 0.0256\n",
      "step: 7000, s_loss: 0.0245\n",
      "step: 8000, s_loss: 0.0229\n",
      "step: 9000, s_loss: 0.0218\n",
      "Finish Training with Supervised Loss Only\n",
      "Start Joint Training\n",
      "step: 0, d_loss: 2.058, g_loss_u: 0.708, g_loss_s: 0.0912, g_loss_v: 0.4678, e_loss_t0: 0.0911\n",
      "step: 1000, d_loss: 1.1721, g_loss_u: 1.9854, g_loss_s: 0.049, g_loss_v: 0.068, e_loss_t0: 0.045\n",
      "step: 2000, d_loss: 0.9941, g_loss_u: 1.8316, g_loss_s: 0.0495, g_loss_v: 0.0736, e_loss_t0: 0.0435\n",
      "step: 3000, d_loss: 1.0572, g_loss_u: 1.6102, g_loss_s: 0.053, g_loss_v: 0.0498, e_loss_t0: 0.0362\n",
      "step: 4000, d_loss: 1.0953, g_loss_u: 1.8596, g_loss_s: 0.0528, g_loss_v: 0.0592, e_loss_t0: 0.036\n",
      "step: 5000, d_loss: 0.8818, g_loss_u: 2.1746, g_loss_s: 0.0535, g_loss_v: 0.0674, e_loss_t0: 0.0317\n",
      "step: 6000, d_loss: 0.8414, g_loss_u: 1.5883, g_loss_s: 0.0558, g_loss_v: 0.0679, e_loss_t0: 0.0318\n",
      "step: 7000, d_loss: 0.7409, g_loss_u: 2.349, g_loss_s: 0.0558, g_loss_v: 0.0641, e_loss_t0: 0.0275\n",
      "step: 8000, d_loss: 0.8446, g_loss_u: 2.284, g_loss_s: 0.0565, g_loss_v: 0.0601, e_loss_t0: 0.0323\n",
      "step: 9000, d_loss: 0.7875, g_loss_u: 2.5092, g_loss_s: 0.0603, g_loss_v: 0.0757, e_loss_t0: 0.0271\n",
      "Finish Joint Training\n",
      "Finish Synthetic Data Generation\n",
      "Elapsed time to make predictions: 5030.309 seconds\n",
      "WARNING:tensorflow:From /home/jupyter/timegan.py:405: all_variables (from tensorflow.python.ops.variables) is deprecated and will be removed after 2017-03-02.\n",
      "Instructions for updating:\n",
      "Please use tf.global_variables instead.\n",
      "[step: 0] loss - d loss: 1.3839999437332153\n",
      "[step: 500] loss - d loss: 0.1071000024676323\n",
      "[step: 1000] loss - d loss: 0.03189999982714653\n",
      "[step: 1500] loss - d loss: 0.04580000042915344\n",
      "[step: 0] loss - d loss: 1.3831000328063965\n",
      "[step: 500] loss - d loss: 0.17649999260902405\n",
      "[step: 1000] loss - d loss: 0.050999999046325684\n",
      "[step: 1500] loss - d loss: 0.00559999980032444\n",
      "[step: 0] loss - d loss: 1.405900001525879\n",
      "[step: 500] loss - d loss: 0.08079999685287476\n",
      "[step: 1000] loss - d loss: 0.054099999368190765\n",
      "[step: 1500] loss - d loss: 0.010900000110268593\n",
      "Elapsed time to make predictions: 5062.445 seconds\n",
      "[step: 0] loss - d loss: 0.6971369981765747\n",
      "[step: 500] loss - d loss: 0.4537620544433594\n",
      "[step: 1000] loss - d loss: 0.4109744429588318\n",
      "[step: 1500] loss - d loss: 0.3977436423301697\n",
      "[step: 2000] loss - d loss: 0.41880783438682556\n",
      "[step: 2500] loss - d loss: 0.3507135510444641\n",
      "[step: 3000] loss - d loss: 0.34496375918388367\n",
      "[step: 3500] loss - d loss: 0.3827531933784485\n",
      "[step: 4000] loss - d loss: 0.3659234941005707\n",
      "[step: 4500] loss - d loss: 0.39344629645347595\n",
      "[step: 0] loss - d loss: 0.7076016068458557\n",
      "[step: 500] loss - d loss: 0.4388621747493744\n",
      "[step: 1000] loss - d loss: 0.4669046998023987\n",
      "[step: 1500] loss - d loss: 0.3652396500110626\n",
      "[step: 2000] loss - d loss: 0.34813791513442993\n",
      "[step: 2500] loss - d loss: 0.4146082401275635\n",
      "[step: 3000] loss - d loss: 0.401248037815094\n",
      "[step: 3500] loss - d loss: 0.39585351943969727\n",
      "[step: 4000] loss - d loss: 0.35099858045578003\n",
      "[step: 4500] loss - d loss: 0.3313608467578888\n",
      "[step: 0] loss - d loss: 0.7095773220062256\n",
      "[step: 500] loss - d loss: 0.4584757387638092\n",
      "[step: 1000] loss - d loss: 0.3947151005268097\n",
      "[step: 1500] loss - d loss: 0.3954744040966034\n",
      "[step: 2000] loss - d loss: 0.4003748297691345\n",
      "[step: 2500] loss - d loss: 0.3797367513179779\n",
      "[step: 3000] loss - d loss: 0.3679673969745636\n",
      "[step: 3500] loss - d loss: 0.3777565360069275\n",
      "[step: 4000] loss - d loss: 0.3810511827468872\n",
      "[step: 4500] loss - d loss: 0.39242833852767944\n",
      "Elapsed time to make predictions: 5133.563 seconds\n",
      "Start Embedding Network Training\n",
      "step: 0, e_loss: 0.4174\n",
      "step: 1000, e_loss: 0.2657\n",
      "step: 2000, e_loss: 0.2101\n",
      "step: 3000, e_loss: 0.175\n",
      "step: 4000, e_loss: 0.1323\n",
      "step: 5000, e_loss: 0.1044\n",
      "step: 6000, e_loss: 0.0912\n",
      "step: 7000, e_loss: 0.0762\n",
      "step: 8000, e_loss: 0.068\n",
      "step: 9000, e_loss: 0.0621\n",
      "Finish Embedding Network Training\n",
      "Start Training with Supervised Loss Only\n",
      "step: 0, s_loss: 0.3573\n",
      "step: 1000, s_loss: 0.0442\n",
      "step: 2000, s_loss: 0.0354\n",
      "step: 3000, s_loss: 0.031\n",
      "step: 4000, s_loss: 0.0283\n",
      "step: 5000, s_loss: 0.0262\n",
      "step: 6000, s_loss: 0.0248\n",
      "step: 7000, s_loss: 0.0239\n",
      "step: 8000, s_loss: 0.0231\n",
      "step: 9000, s_loss: 0.0223\n",
      "Finish Training with Supervised Loss Only\n",
      "Start Joint Training\n",
      "step: 0, d_loss: 2.0469, g_loss_u: 0.7201, g_loss_s: 0.0954, g_loss_v: 0.5003, e_loss_t0: 0.1064\n",
      "step: 1000, d_loss: 1.0815, g_loss_u: 1.3659, g_loss_s: 0.0487, g_loss_v: 0.0823, e_loss_t0: 0.0473\n",
      "step: 2000, d_loss: 1.2373, g_loss_u: 1.7793, g_loss_s: 0.0487, g_loss_v: 0.0784, e_loss_t0: 0.042\n",
      "step: 3000, d_loss: 0.9942, g_loss_u: 1.7091, g_loss_s: 0.0538, g_loss_v: 0.0693, e_loss_t0: 0.0365\n",
      "step: 4000, d_loss: 1.1785, g_loss_u: 1.9042, g_loss_s: 0.051, g_loss_v: 0.0699, e_loss_t0: 0.0424\n",
      "step: 5000, d_loss: 0.8899, g_loss_u: 1.6736, g_loss_s: 0.0568, g_loss_v: 0.069, e_loss_t0: 0.0328\n",
      "step: 6000, d_loss: 1.1448, g_loss_u: 1.5136, g_loss_s: 0.0614, g_loss_v: 0.0685, e_loss_t0: 0.0294\n",
      "step: 7000, d_loss: 0.8617, g_loss_u: 2.5518, g_loss_s: 0.0657, g_loss_v: 0.0691, e_loss_t0: 0.0299\n",
      "step: 8000, d_loss: 0.9931, g_loss_u: 1.9466, g_loss_s: 0.0582, g_loss_v: 0.0714, e_loss_t0: 0.027\n",
      "step: 9000, d_loss: 0.8503, g_loss_u: 2.1934, g_loss_s: 0.0605, g_loss_v: 0.07, e_loss_t0: 0.0287\n",
      "Finish Joint Training\n",
      "Finish Synthetic Data Generation\n",
      "Elapsed time to make predictions: 10133.430 seconds\n",
      "[step: 0] loss - d loss: 1.4869999885559082\n",
      "[step: 500] loss - d loss: 0.18780000507831573\n",
      "[step: 1000] loss - d loss: 0.030799999833106995\n",
      "[step: 1500] loss - d loss: 0.004399999976158142\n",
      "[step: 0] loss - d loss: 1.6859999895095825\n",
      "[step: 500] loss - d loss: 0.22089999914169312\n",
      "[step: 1000] loss - d loss: 0.03709999844431877\n",
      "[step: 1500] loss - d loss: 0.011699999682605267\n",
      "[step: 0] loss - d loss: 1.399999976158142\n",
      "[step: 500] loss - d loss: 0.23890000581741333\n",
      "[step: 1000] loss - d loss: 0.11559999734163284\n",
      "[step: 1500] loss - d loss: 0.021299999207258224\n",
      "Elapsed time to make predictions: 10165.292 seconds\n",
      "[step: 0] loss - d loss: 0.6878226399421692\n",
      "[step: 500] loss - d loss: 0.45934736728668213\n",
      "[step: 1000] loss - d loss: 0.4445222318172455\n",
      "[step: 1500] loss - d loss: 0.4462062418460846\n",
      "[step: 2000] loss - d loss: 0.4092676341533661\n",
      "[step: 2500] loss - d loss: 0.43817806243896484\n",
      "[step: 3000] loss - d loss: 0.3799999952316284\n",
      "[step: 3500] loss - d loss: 0.3974921405315399\n",
      "[step: 4000] loss - d loss: 0.4120679497718811\n",
      "[step: 4500] loss - d loss: 0.4423799216747284\n",
      "[step: 0] loss - d loss: 0.7032780647277832\n",
      "[step: 500] loss - d loss: 0.46808117628097534\n",
      "[step: 1000] loss - d loss: 0.44564560055732727\n",
      "[step: 1500] loss - d loss: 0.46786749362945557\n",
      "[step: 2000] loss - d loss: 0.4347412884235382\n",
      "[step: 2500] loss - d loss: 0.3799999952316284\n",
      "[step: 3000] loss - d loss: 0.42720019817352295\n",
      "[step: 3500] loss - d loss: 0.44474712014198303\n",
      "[step: 4000] loss - d loss: 0.42261093854904175\n",
      "[step: 4500] loss - d loss: 0.4131585657596588\n",
      "[step: 0] loss - d loss: 0.720069408416748\n",
      "[step: 500] loss - d loss: 0.4636809229850769\n",
      "[step: 1000] loss - d loss: 0.4269660413265228\n",
      "[step: 1500] loss - d loss: 0.4161730408668518\n",
      "[step: 2000] loss - d loss: 0.42661458253860474\n",
      "[step: 2500] loss - d loss: 0.41880783438682556\n",
      "[step: 3000] loss - d loss: 0.4248529076576233\n",
      "[step: 3500] loss - d loss: 0.44249293208122253\n",
      "[step: 4000] loss - d loss: 0.3968626856803894\n",
      "[step: 4500] loss - d loss: 0.38716921210289\n",
      "Elapsed time to make predictions: 10237.271 seconds\n",
      "Finish TimeGAN iterations\n",
      "Elapsed time to make predictions: 10237.272 seconds\n"
     ]
    }
   ],
   "source": [
    "# Run TimeGANs model\n",
    "# if testing a supervised loss is zero, will error out - need more rows in sequence\n",
    "print('Start iterations') \n",
    "\n",
    "start_time = time.time()\n",
    "\n",
    "# Each Iteration\n",
    "for it in range(Iteration):\n",
    "\n",
    "    # Synthetic Data Generation\n",
    "    dataX_hat_min = timegan(dataX_min, parameters_min)   \n",
    "    print('Finish Synthetic Data Generation')\n",
    "    \n",
    "    elapsed_time = time.time() - start_time\n",
    "    print(f\"Elapsed time to make predictions: {elapsed_time:.3f} seconds\")\n",
    "\n",
    "    ## Performance Metrics\n",
    "    \n",
    "    # 1. Discriminative Score\n",
    "    Acc_min = list()\n",
    "    for tt in range(Sub_Iteration):\n",
    "        Temp_Disc_min = discriminative_score_metrics(dataX_min, dataX_hat_min)\n",
    "        Acc_min.append(Temp_Disc_min)\n",
    "        \n",
    "    elapsed_time = time.time() - start_time\n",
    "    print(f\"Elapsed time to make predictions: {elapsed_time:.3f} seconds\")\n",
    "    \n",
    "    Discriminative_Score_min.append(np.mean(Acc_min))\n",
    "    \n",
    "    # 2. Predictive Performance\n",
    "    MAE_All_min = list()\n",
    "    \n",
    "    for tt in range(Sub_Iteration):\n",
    "        # print(f'min data solvency check predictive score metrics length: {len(predictive_score_metrics(dataX_min, dataX_hat_min))}')\n",
    "        MAE_All_min.append(predictive_score_metrics(dataX_min, dataX_hat_min))\n",
    "        \n",
    "    elapsed_time = time.time() - start_time\n",
    "    print(f\"Elapsed time to make predictions: {elapsed_time:.3f} seconds\")\n",
    "        \n",
    "    Predictive_Score_min.append(np.mean(MAE_All_min))  \n",
    "    \n",
    "print('Finish TimeGAN iterations')\n",
    "elapsed_time = time.time() - start_time\n",
    "print(f\"Elapsed time to make predictions: {elapsed_time:.3f} seconds\")"
   ]
  },
  {
   "cell_type": "code",
   "execution_count": 8,
   "metadata": {
    "colab": {
     "base_uri": "https://localhost:8080/",
     "height": 295
    },
    "executionInfo": {
     "elapsed": 497,
     "status": "ok",
     "timestamp": 1658175728354,
     "user": {
      "displayName": "Keith Bourne",
      "userId": "06063145071346277193"
     },
     "user_tz": 240
    },
    "id": "SWLH-yM72tcU",
    "outputId": "a0b328bb-229c-4c8a-85c4-95e77b3b7bb2"
   },
   "outputs": [
    {
     "data": {
      "image/png": "[encoded data removed]",
      "text/plain": [
       "<Figure size 432x288 with 1 Axes>"
      ]
     },
     "metadata": {
      "needs_background": "light"
     },
     "output_type": "display_data"
    }
   ],
   "source": [
    "PCA_Analysis(dataX_min, dataX_hat_min)"
   ]
  },
  {
   "cell_type": "code",
   "execution_count": 9,
   "metadata": {
    "colab": {
     "base_uri": "https://localhost:8080/",
     "height": 443
    },
    "executionInfo": {
     "elapsed": 3803,
     "status": "ok",
     "timestamp": 1658175732145,
     "user": {
      "displayName": "Keith Bourne",
      "userId": "06063145071346277193"
     },
     "user_tz": 240
    },
    "id": "pkMY2yMQ26ND",
    "outputId": "c2bc42a2-4d0c-4eea-ea80-ca2f7bed7a36"
   },
   "outputs": [
    {
     "name": "stdout",
     "output_type": "stream",
     "text": [
      "[t-SNE] Computing 121 nearest neighbors...\n",
      "[t-SNE] Indexed 2000 samples in 0.001s...\n",
      "[t-SNE] Computed neighbors for 2000 samples in 0.070s...\n",
      "[t-SNE] Computed conditional probabilities for sample 1000 / 2000\n",
      "[t-SNE] Computed conditional probabilities for sample 2000 / 2000\n",
      "[t-SNE] Mean sigma: 0.015935\n",
      "[t-SNE] KL divergence after 250 iterations with early exaggeration: 65.283485\n",
      "[t-SNE] KL divergence after 300 iterations: 1.059177\n"
     ]
    },
    {
     "data": {
      "image/png": "[encoded data removed]",
      "text/plain": [
       "<Figure size 432x288 with 1 Axes>"
      ]
     },
     "metadata": {
      "needs_background": "light"
     },
     "output_type": "display_data"
    }
   ],
   "source": [
    "tSNE_Analysis(dataX_min, dataX_hat_min)"
   ]
  },
  {
   "cell_type": "code",
   "execution_count": 10,
   "metadata": {
    "colab": {
     "base_uri": "https://localhost:8080/"
    },
    "executionInfo": {
     "elapsed": 27,
     "status": "ok",
     "timestamp": 1658175732146,
     "user": {
      "displayName": "Keith Bourne",
      "userId": "06063145071346277193"
     },
     "user_tz": 240
    },
    "id": "8GjpD-2926Rf",
    "outputId": "32c7b400-68c3-4599-8cad-620876bb7293"
   },
   "outputs": [
    {
     "name": "stdout",
     "output_type": "stream",
     "text": [
      "Minority class discriminative Score - Mean: 0.4824, Std: 0.0132\n",
      "Minority class  predictive Score - Mean: 0.4918, Std: 0.0034\n"
     ]
    }
   ],
   "source": [
    "# Print Results\n",
    "print('Minority class discriminative Score - Mean: ' + str(np.round(np.mean(Discriminative_Score_min),4)) + ', Std: ' + str(np.round(np.std(Discriminative_Score_min),4)))\n",
    "print('Minority class  predictive Score - Mean: ' + str(np.round(np.mean(Predictive_Score_min),4)) + ', Std: ' + str(np.round(np.std(Predictive_Score_min),4)))"
   ]
  },
  {
   "cell_type": "code",
   "execution_count": 11,
   "metadata": {
    "colab": {
     "base_uri": "https://localhost:8080/"
    },
    "executionInfo": {
     "elapsed": 19,
     "status": "ok",
     "timestamp": 1658175732147,
     "user": {
      "displayName": "Keith Bourne",
      "userId": "06063145071346277193"
     },
     "user_tz": 240
    },
    "id": "6i3BVBR926Vn",
    "outputId": "d400e467-e20c-4c7a-e840-6229d2a7110c"
   },
   "outputs": [
    {
     "name": "stdout",
     "output_type": "stream",
     "text": [
      "new dogs:  8168\n",
      "meet scruffy:  [[9.4636559e-02 8.9406967e-08 4.4288036e-01 1.4350295e-01 1.0326147e-02\n",
      "  6.7306459e-03 9.6114576e-02 4.2099994e-01 6.0533553e-02 5.2194601e-01\n",
      "  9.0747857e-01 6.7277062e-01 7.5607961e-01 1.3619900e-01 1.3155100e-01\n",
      "  9.4158518e-01 9.9952221e-02 2.9412848e-01 9.9998975e-01 8.1334865e-01\n",
      "  1.0000000e+00 9.8858798e-01 0.0000000e+00 1.0006410e-01 1.0000000e+00\n",
      "  9.9999994e-01 1.0000000e+00 9.9568629e-01 8.9747781e-01 9.4389319e-03\n",
      "  0.0000000e+00 0.0000000e+00 2.0861626e-07 3.9552715e-01 4.2731345e-01\n",
      "  9.9999470e-01 1.0000000e+00 1.9431114e-04 1.9154128e-01 5.9604645e-08\n",
      "  5.1424712e-02 9.9984103e-01]\n",
      " [7.8942239e-02 0.0000000e+00 3.9860800e-01 1.1461109e-01 1.7772317e-02\n",
      "  1.6312137e-01 1.9366762e-01 4.2411566e-01 7.5538427e-02 7.5847411e-01\n",
      "  3.7000418e-01 7.7516329e-01 7.4784982e-01 3.8600081e-01 2.7195770e-01\n",
      "  2.9082969e-01 5.1683664e-02 3.5045654e-02 9.9999988e-01 8.1758147e-01\n",
      "  1.0000000e+00 1.6391277e-05 9.9973607e-01 1.6271186e-01 1.0000000e+00\n",
      "  1.0000000e+00 1.0000000e+00 9.5245373e-01 9.9686331e-01 3.9082825e-02\n",
      "  0.0000000e+00 8.7618828e-06 0.0000000e+00 5.3416741e-01 3.5401314e-02\n",
      "  9.9998844e-01 9.9987650e-01 2.0268559e-04 1.9687563e-02 0.0000000e+00\n",
      "  3.1676888e-04 9.9995005e-01]\n",
      " [1.7478475e-01 2.0861626e-07 6.6260785e-01 3.2635260e-01 4.4056773e-03\n",
      "  2.0213374e-01 3.9964682e-01 1.5997353e-01 7.4014032e-01 1.1561766e-01\n",
      "  3.8050109e-01 5.8024085e-01 8.9210045e-01 3.1205246e-01 6.8035007e-01\n",
      "  6.4898729e-02 2.7213010e-01 7.5250804e-02 1.0000000e+00 7.6503289e-01\n",
      "  1.0000000e+00 5.9604645e-08 1.9293427e-03 1.9064200e-01 1.0000000e+00\n",
      "  1.0000000e+00 9.9999976e-01 9.8702615e-01 9.8902041e-01 4.3263733e-03\n",
      "  0.0000000e+00 0.0000000e+00 0.0000000e+00 8.6483872e-01 6.7219561e-01\n",
      "  9.9996448e-01 9.9999982e-01 3.5136938e-04 3.0318856e-02 0.0000000e+00\n",
      "  1.0544062e-04 9.9999571e-01]\n",
      " [2.0565134e-01 8.9406967e-08 5.9864241e-01 3.3604717e-01 2.2847056e-03\n",
      "  7.8937203e-02 4.0178782e-01 1.0472232e-01 8.3035481e-01 1.1309612e-01\n",
      "  4.4823688e-01 6.7762554e-01 8.2565063e-01 3.2751557e-01 7.1225291e-01\n",
      "  5.2179337e-02 2.4618042e-01 5.6427836e-02 9.9999988e-01 7.3095900e-01\n",
      "  1.0000000e+00 5.3644180e-07 8.4215403e-04 2.0648819e-01 1.0000000e+00\n",
      "  1.0000000e+00 9.9999952e-01 9.8835671e-01 9.7775066e-01 5.9305131e-03\n",
      "  0.0000000e+00 6.2882900e-06 0.0000000e+00 8.5017103e-01 5.2959955e-01\n",
      "  9.9985254e-01 9.9999988e-01 7.8773499e-04 6.7106277e-02 0.0000000e+00\n",
      "  1.2969971e-04 9.9998558e-01]]\n"
     ]
    }
   ],
   "source": [
    "print('new dogs: ', len(dataX_hat_min))\n",
    "print('meet scruffy: ', dataX_hat_min[0])"
   ]
  },
  {
   "cell_type": "code",
   "execution_count": 12,
   "metadata": {
    "colab": {
     "base_uri": "https://localhost:8080/",
     "height": 530
    },
    "executionInfo": {
     "elapsed": 10854,
     "status": "ok",
     "timestamp": 1658175742989,
     "user": {
      "displayName": "Keith Bourne",
      "userId": "06063145071346277193"
     },
     "user_tz": 240
    },
    "id": "w3ZD8dyl3ADC",
    "outputId": "3b97b998-3fd9-4f9f-86b3-c507b5aafbee"
   },
   "outputs": [
    {
     "name": "stdout",
     "output_type": "stream",
     "text": [
      "feature size:  42\n",
      "Joined SIZE:  (49425, 47)\n"
     ]
    },
    {
     "data": {
      "text/html": [
       "<div>\n",
       "<style scoped>\n",
       "    .dataframe tbody tr th:only-of-type {\n",
       "        vertical-align: middle;\n",
       "    }\n",
       "\n",
       "    .dataframe tbody tr th {\n",
       "        vertical-align: top;\n",
       "    }\n",
       "\n",
       "    .dataframe thead th {\n",
       "        text-align: right;\n",
       "    }\n",
       "</style>\n",
       "<table border=\"1\" class=\"dataframe\">\n",
       "  <thead>\n",
       "    <tr style=\"text-align: right;\">\n",
       "      <th></th>\n",
       "      <th>dog_id</th>\n",
       "      <th>hs_health_conditions_cancer</th>\n",
       "      <th>hs_general_health</th>\n",
       "      <th>hs_recent_hospitalization</th>\n",
       "      <th>db_excitement_level_before_walk</th>\n",
       "      <th>db_excitement_level_before_car_ride</th>\n",
       "      <th>db_aggression_level_approached_while_eating</th>\n",
       "      <th>db_aggression_level_on_leash_unknown_dog</th>\n",
       "      <th>db_fear_level_loud_noises</th>\n",
       "      <th>db_fear_level_unknown_human_touch</th>\n",
       "      <th>...</th>\n",
       "      <th>mp_flea_and_tick_treatment</th>\n",
       "      <th>mp_heartworm_preventative</th>\n",
       "      <th>hs_condition_type</th>\n",
       "      <th>hs_diagnosis_month</th>\n",
       "      <th>hs_diagnosis_year</th>\n",
       "      <th>hs_follow_up_ongoing</th>\n",
       "      <th>dd_combined_main_breed</th>\n",
       "      <th>free_fed</th>\n",
       "      <th>surg_hospital</th>\n",
       "      <th>state</th>\n",
       "    </tr>\n",
       "  </thead>\n",
       "  <tbody>\n",
       "    <tr>\n",
       "      <th>4</th>\n",
       "      <td>9</td>\n",
       "      <td>0</td>\n",
       "      <td>3</td>\n",
       "      <td>0</td>\n",
       "      <td>4.0</td>\n",
       "      <td>4.0</td>\n",
       "      <td>0.0</td>\n",
       "      <td>2.0</td>\n",
       "      <td>4.0</td>\n",
       "      <td>1.0</td>\n",
       "      <td>...</td>\n",
       "      <td>0</td>\n",
       "      <td>1</td>\n",
       "      <td>3.0</td>\n",
       "      <td>1.0</td>\n",
       "      <td>2013.0</td>\n",
       "      <td>0</td>\n",
       "      <td>140.0</td>\n",
       "      <td>0</td>\n",
       "      <td>1.0</td>\n",
       "      <td>0</td>\n",
       "    </tr>\n",
       "    <tr>\n",
       "      <th>5</th>\n",
       "      <td>9</td>\n",
       "      <td>0</td>\n",
       "      <td>3</td>\n",
       "      <td>0</td>\n",
       "      <td>4.0</td>\n",
       "      <td>4.0</td>\n",
       "      <td>0.0</td>\n",
       "      <td>2.0</td>\n",
       "      <td>4.0</td>\n",
       "      <td>1.0</td>\n",
       "      <td>...</td>\n",
       "      <td>0</td>\n",
       "      <td>1</td>\n",
       "      <td>7.0</td>\n",
       "      <td>1.0</td>\n",
       "      <td>2013.0</td>\n",
       "      <td>1</td>\n",
       "      <td>140.0</td>\n",
       "      <td>0</td>\n",
       "      <td>1.0</td>\n",
       "      <td>0</td>\n",
       "    </tr>\n",
       "    <tr>\n",
       "      <th>6</th>\n",
       "      <td>9</td>\n",
       "      <td>0</td>\n",
       "      <td>3</td>\n",
       "      <td>0</td>\n",
       "      <td>4.0</td>\n",
       "      <td>4.0</td>\n",
       "      <td>0.0</td>\n",
       "      <td>2.0</td>\n",
       "      <td>4.0</td>\n",
       "      <td>1.0</td>\n",
       "      <td>...</td>\n",
       "      <td>0</td>\n",
       "      <td>1</td>\n",
       "      <td>18.0</td>\n",
       "      <td>9.0</td>\n",
       "      <td>2014.0</td>\n",
       "      <td>0</td>\n",
       "      <td>140.0</td>\n",
       "      <td>0</td>\n",
       "      <td>3.0</td>\n",
       "      <td>0</td>\n",
       "    </tr>\n",
       "    <tr>\n",
       "      <th>7</th>\n",
       "      <td>9</td>\n",
       "      <td>0</td>\n",
       "      <td>3</td>\n",
       "      <td>0</td>\n",
       "      <td>4.0</td>\n",
       "      <td>4.0</td>\n",
       "      <td>0.0</td>\n",
       "      <td>2.0</td>\n",
       "      <td>4.0</td>\n",
       "      <td>1.0</td>\n",
       "      <td>...</td>\n",
       "      <td>0</td>\n",
       "      <td>1</td>\n",
       "      <td>17.0</td>\n",
       "      <td>9.0</td>\n",
       "      <td>2019.0</td>\n",
       "      <td>0</td>\n",
       "      <td>140.0</td>\n",
       "      <td>0</td>\n",
       "      <td>1.0</td>\n",
       "      <td>0</td>\n",
       "    </tr>\n",
       "    <tr>\n",
       "      <th>8</th>\n",
       "      <td>9</td>\n",
       "      <td>0</td>\n",
       "      <td>3</td>\n",
       "      <td>0</td>\n",
       "      <td>4.0</td>\n",
       "      <td>4.0</td>\n",
       "      <td>0.0</td>\n",
       "      <td>2.0</td>\n",
       "      <td>4.0</td>\n",
       "      <td>1.0</td>\n",
       "      <td>...</td>\n",
       "      <td>0</td>\n",
       "      <td>1</td>\n",
       "      <td>4.0</td>\n",
       "      <td>8.0</td>\n",
       "      <td>2020.0</td>\n",
       "      <td>1</td>\n",
       "      <td>140.0</td>\n",
       "      <td>0</td>\n",
       "      <td>1.0</td>\n",
       "      <td>0</td>\n",
       "    </tr>\n",
       "    <tr>\n",
       "      <th>15</th>\n",
       "      <td>21</td>\n",
       "      <td>0</td>\n",
       "      <td>3</td>\n",
       "      <td>0</td>\n",
       "      <td>2.0</td>\n",
       "      <td>3.0</td>\n",
       "      <td>0.0</td>\n",
       "      <td>4.0</td>\n",
       "      <td>2.0</td>\n",
       "      <td>1.0</td>\n",
       "      <td>...</td>\n",
       "      <td>1</td>\n",
       "      <td>1</td>\n",
       "      <td>4.0</td>\n",
       "      <td>8.0</td>\n",
       "      <td>2010.0</td>\n",
       "      <td>0</td>\n",
       "      <td>243.0</td>\n",
       "      <td>0</td>\n",
       "      <td>1.0</td>\n",
       "      <td>0</td>\n",
       "    </tr>\n",
       "    <tr>\n",
       "      <th>16</th>\n",
       "      <td>21</td>\n",
       "      <td>0</td>\n",
       "      <td>3</td>\n",
       "      <td>0</td>\n",
       "      <td>2.0</td>\n",
       "      <td>3.0</td>\n",
       "      <td>0.0</td>\n",
       "      <td>4.0</td>\n",
       "      <td>2.0</td>\n",
       "      <td>1.0</td>\n",
       "      <td>...</td>\n",
       "      <td>1</td>\n",
       "      <td>1</td>\n",
       "      <td>3.0</td>\n",
       "      <td>2.0</td>\n",
       "      <td>2013.0</td>\n",
       "      <td>0</td>\n",
       "      <td>243.0</td>\n",
       "      <td>0</td>\n",
       "      <td>1.0</td>\n",
       "      <td>0</td>\n",
       "    </tr>\n",
       "    <tr>\n",
       "      <th>17</th>\n",
       "      <td>21</td>\n",
       "      <td>0</td>\n",
       "      <td>3</td>\n",
       "      <td>0</td>\n",
       "      <td>2.0</td>\n",
       "      <td>3.0</td>\n",
       "      <td>0.0</td>\n",
       "      <td>4.0</td>\n",
       "      <td>2.0</td>\n",
       "      <td>1.0</td>\n",
       "      <td>...</td>\n",
       "      <td>1</td>\n",
       "      <td>1</td>\n",
       "      <td>18.0</td>\n",
       "      <td>4.0</td>\n",
       "      <td>2013.0</td>\n",
       "      <td>0</td>\n",
       "      <td>243.0</td>\n",
       "      <td>0</td>\n",
       "      <td>1.0</td>\n",
       "      <td>0</td>\n",
       "    </tr>\n",
       "    <tr>\n",
       "      <th>18</th>\n",
       "      <td>21</td>\n",
       "      <td>0</td>\n",
       "      <td>3</td>\n",
       "      <td>0</td>\n",
       "      <td>2.0</td>\n",
       "      <td>3.0</td>\n",
       "      <td>0.0</td>\n",
       "      <td>4.0</td>\n",
       "      <td>2.0</td>\n",
       "      <td>1.0</td>\n",
       "      <td>...</td>\n",
       "      <td>1</td>\n",
       "      <td>1</td>\n",
       "      <td>16.0</td>\n",
       "      <td>3.0</td>\n",
       "      <td>2014.0</td>\n",
       "      <td>1</td>\n",
       "      <td>243.0</td>\n",
       "      <td>0</td>\n",
       "      <td>1.0</td>\n",
       "      <td>0</td>\n",
       "    </tr>\n",
       "    <tr>\n",
       "      <th>19</th>\n",
       "      <td>21</td>\n",
       "      <td>0</td>\n",
       "      <td>3</td>\n",
       "      <td>0</td>\n",
       "      <td>2.0</td>\n",
       "      <td>3.0</td>\n",
       "      <td>0.0</td>\n",
       "      <td>4.0</td>\n",
       "      <td>2.0</td>\n",
       "      <td>1.0</td>\n",
       "      <td>...</td>\n",
       "      <td>1</td>\n",
       "      <td>1</td>\n",
       "      <td>18.0</td>\n",
       "      <td>1.0</td>\n",
       "      <td>2015.0</td>\n",
       "      <td>0</td>\n",
       "      <td>243.0</td>\n",
       "      <td>0</td>\n",
       "      <td>1.0</td>\n",
       "      <td>0</td>\n",
       "    </tr>\n",
       "  </tbody>\n",
       "</table>\n",
       "<p>10 rows × 47 columns</p>\n",
       "</div>"
      ],
      "text/plain": [
       "    dog_id  hs_health_conditions_cancer  hs_general_health  \\\n",
       "4        9                            0                  3   \n",
       "5        9                            0                  3   \n",
       "6        9                            0                  3   \n",
       "7        9                            0                  3   \n",
       "8        9                            0                  3   \n",
       "15      21                            0                  3   \n",
       "16      21                            0                  3   \n",
       "17      21                            0                  3   \n",
       "18      21                            0                  3   \n",
       "19      21                            0                  3   \n",
       "\n",
       "    hs_recent_hospitalization  db_excitement_level_before_walk  \\\n",
       "4                           0                              4.0   \n",
       "5                           0                              4.0   \n",
       "6                           0                              4.0   \n",
       "7                           0                              4.0   \n",
       "8                           0                              4.0   \n",
       "15                          0                              2.0   \n",
       "16                          0                              2.0   \n",
       "17                          0                              2.0   \n",
       "18                          0                              2.0   \n",
       "19                          0                              2.0   \n",
       "\n",
       "    db_excitement_level_before_car_ride  \\\n",
       "4                                   4.0   \n",
       "5                                   4.0   \n",
       "6                                   4.0   \n",
       "7                                   4.0   \n",
       "8                                   4.0   \n",
       "15                                  3.0   \n",
       "16                                  3.0   \n",
       "17                                  3.0   \n",
       "18                                  3.0   \n",
       "19                                  3.0   \n",
       "\n",
       "    db_aggression_level_approached_while_eating  \\\n",
       "4                                           0.0   \n",
       "5                                           0.0   \n",
       "6                                           0.0   \n",
       "7                                           0.0   \n",
       "8                                           0.0   \n",
       "15                                          0.0   \n",
       "16                                          0.0   \n",
       "17                                          0.0   \n",
       "18                                          0.0   \n",
       "19                                          0.0   \n",
       "\n",
       "    db_aggression_level_on_leash_unknown_dog  db_fear_level_loud_noises  \\\n",
       "4                                        2.0                        4.0   \n",
       "5                                        2.0                        4.0   \n",
       "6                                        2.0                        4.0   \n",
       "7                                        2.0                        4.0   \n",
       "8                                        2.0                        4.0   \n",
       "15                                       4.0                        2.0   \n",
       "16                                       4.0                        2.0   \n",
       "17                                       4.0                        2.0   \n",
       "18                                       4.0                        2.0   \n",
       "19                                       4.0                        2.0   \n",
       "\n",
       "    db_fear_level_unknown_human_touch  ...  mp_flea_and_tick_treatment  \\\n",
       "4                                 1.0  ...                           0   \n",
       "5                                 1.0  ...                           0   \n",
       "6                                 1.0  ...                           0   \n",
       "7                                 1.0  ...                           0   \n",
       "8                                 1.0  ...                           0   \n",
       "15                                1.0  ...                           1   \n",
       "16                                1.0  ...                           1   \n",
       "17                                1.0  ...                           1   \n",
       "18                                1.0  ...                           1   \n",
       "19                                1.0  ...                           1   \n",
       "\n",
       "    mp_heartworm_preventative  hs_condition_type  hs_diagnosis_month  \\\n",
       "4                           1                3.0                 1.0   \n",
       "5                           1                7.0                 1.0   \n",
       "6                           1               18.0                 9.0   \n",
       "7                           1               17.0                 9.0   \n",
       "8                           1                4.0                 8.0   \n",
       "15                          1                4.0                 8.0   \n",
       "16                          1                3.0                 2.0   \n",
       "17                          1               18.0                 4.0   \n",
       "18                          1               16.0                 3.0   \n",
       "19                          1               18.0                 1.0   \n",
       "\n",
       "    hs_diagnosis_year  hs_follow_up_ongoing  dd_combined_main_breed  free_fed  \\\n",
       "4              2013.0                     0                   140.0         0   \n",
       "5              2013.0                     1                   140.0         0   \n",
       "6              2014.0                     0                   140.0         0   \n",
       "7              2019.0                     0                   140.0         0   \n",
       "8              2020.0                     1                   140.0         0   \n",
       "15             2010.0                     0                   243.0         0   \n",
       "16             2013.0                     0                   243.0         0   \n",
       "17             2013.0                     0                   243.0         0   \n",
       "18             2014.0                     1                   243.0         0   \n",
       "19             2015.0                     0                   243.0         0   \n",
       "\n",
       "    surg_hospital  state  \n",
       "4             1.0      0  \n",
       "5             1.0      0  \n",
       "6             3.0      0  \n",
       "7             1.0      0  \n",
       "8             1.0      0  \n",
       "15            1.0      0  \n",
       "16            1.0      0  \n",
       "17            1.0      0  \n",
       "18            1.0      0  \n",
       "19            1.0      0  \n",
       "\n",
       "[10 rows x 47 columns]"
      ]
     },
     "execution_count": 12,
     "metadata": {},
     "output_type": "execute_result"
    }
   ],
   "source": [
    "seqlen = 4\n",
    "\n",
    "# generate the data\n",
    "orig_df, orig_feat_list = doggo_data_loading(seq_length=seqlen, apply_seq_length=True) \n",
    "orig_feat_num = len(orig_feat_list)\n",
    "orig_df.head(10)"
   ]
  },
  {
   "cell_type": "code",
   "execution_count": 19,
   "metadata": {
    "colab": {
     "base_uri": "https://localhost:8080/"
    },
    "executionInfo": {
     "elapsed": 11690,
     "status": "ok",
     "timestamp": 1658175805358,
     "user": {
      "displayName": "Keith Bourne",
      "userId": "06063145071346277193"
     },
     "user_tz": 240
    },
    "id": "FOKxRiFw3AI7",
    "outputId": "f12a3df4-1199-4aa3-ce9b-d6bc2e2a6449"
   },
   "outputs": [
    {
     "name": "stdout",
     "output_type": "stream",
     "text": [
      "sync_df size:  (32672, 43)\n",
      "orig_df size:  (17000, 43)\n",
      "combined df size:  (49672, 43)\n"
     ]
    }
   ],
   "source": [
    "# FYI - can't get entire DF to run through without ASSM collapsing.  Max on minimum params is 21,000, larger params 29,400\n",
    "# undersample the majority case. keep all minority case:\n",
    "# TODO come back to this!\n",
    "\n",
    "# combine and form data for model - combine new datapoints with existing dataset\n",
    "X_observations_comb, true_states_comb = generate_doggo_trajectory_comb(orig_df[0:17000], dataX_hat_min, feats=orig_feat_list)\n",
    "\n",
    "# TODO adjust 0:20000 to as high as possible\n",
    "# keep adding categories!"
   ]
  },
  {
   "cell_type": "code",
   "execution_count": 20,
   "metadata": {
    "colab": {
     "base_uri": "https://localhost:8080/"
    },
    "executionInfo": {
     "elapsed": 35,
     "status": "ok",
     "timestamp": 1658175805359,
     "user": {
      "displayName": "Keith Bourne",
      "userId": "06063145071346277193"
     },
     "user_tz": 240
    },
    "id": "TApkYEor3ALh",
    "outputId": "5a254cec-32b5-401e-b9d4-03e39ad73746"
   },
   "outputs": [
    {
     "data": {
      "text/plain": [
       "[0.0, 0.0, 0.0, 0.0, 0.0]"
      ]
     },
     "execution_count": 20,
     "metadata": {},
     "output_type": "execute_result"
    }
   ],
   "source": [
    "trajectory_index_comb = 3\n",
    "\n",
    "true_states_comb[trajectory_index_comb]"
   ]
  },
  {
   "cell_type": "code",
   "execution_count": 21,
   "metadata": {
    "colab": {
     "base_uri": "https://localhost:8080/",
     "height": 297
    },
    "executionInfo": {
     "elapsed": 282,
     "status": "ok",
     "timestamp": 1658175805616,
     "user": {
      "displayName": "Keith Bourne",
      "userId": "06063145071346277193"
     },
     "user_tz": 240
    },
    "id": "0BawFH5T3ANm",
    "outputId": "dcfceaad-ef39-40e4-edd6-a9a39ed1bc7d"
   },
   "outputs": [
    {
     "data": {
      "image/png": "[encoded data removed]",
      "text/plain": [
       "<Figure size 432x288 with 2 Axes>"
      ]
     },
     "metadata": {
      "needs_background": "light"
     },
     "output_type": "display_data"
    }
   ],
   "source": [
    "# Visualizing the hidden state data trajectories\n",
    "fig, ax1 = plt.subplots()\n",
    "\n",
    "t_comb = list(range(len(true_states_comb[trajectory_index_comb])))\n",
    "\n",
    "color = 'tab:red'\n",
    "ax1.set_xlabel('Time step')\n",
    "ax1.set_ylabel('Observations', color=color)\n",
    "ax1.plot(t_comb, X_observations_comb[trajectory_index_comb], color=color, linewidth=5, alpha=0.2)\n",
    "ax1.tick_params(axis='y', labelcolor=color)\n",
    "\n",
    "ax2 = ax1.twinx()  \n",
    "\n",
    "color = 'tab:blue'\n",
    "ax2.set_ylabel('Hidden states', color=color)  \n",
    "ax2.step(t_comb, true_states_comb[trajectory_index_comb], color=color, linewidth=5)\n",
    "ax2.tick_params(axis='y', labelcolor=color)\n",
    "ax2.set_yticks([0, 1, 2])\n",
    "\n",
    "fig.tight_layout()  \n",
    "plt.show()"
   ]
  },
  {
   "cell_type": "code",
   "execution_count": 22,
   "metadata": {
    "colab": {
     "base_uri": "https://localhost:8080/"
    },
    "executionInfo": {
     "elapsed": 315,
     "status": "ok",
     "timestamp": 1658175877646,
     "user": {
      "displayName": "Keith Bourne",
      "userId": "06063145071346277193"
     },
     "user_tz": 240
    },
    "id": "QzQ9AGny3APw",
    "outputId": "0fd7db9e-b560-4d18-ad8d-b4bb58d5bcd3"
   },
   "outputs": [
    {
     "name": "stdout",
     "output_type": "stream",
     "text": [
      "42\n",
      "WARNING:tensorflow:From /home/jupyter/assm.py:337: BasicRNNCell.__init__ (from tensorflow.python.ops.rnn_cell_impl) is deprecated and will be removed in a future version.\n",
      "Instructions for updating:\n",
      "This class is equivalent as tf.keras.layers.SimpleRNNCell, and will be replaced by that in Tensorflow 2.0.\n",
      "WARNING:tensorflow:From /home/jupyter/assm.py:338: LSTMCell.__init__ (from tensorflow.python.ops.rnn_cell_impl) is deprecated and will be removed in a future version.\n",
      "Instructions for updating:\n",
      "This class is equivalent as tf.keras.layers.LSTMCell, and will be replaced by that in Tensorflow 2.0.\n"
     ]
    }
   ],
   "source": [
    "dims = orig_feat_num\n",
    "print(dims)\n",
    "model_comb = attentive_state_space_model(num_states=4,\n",
    "                              maximum_seq_length=30, \n",
    "                              input_dim=dims, # 6,  # started with: 6. tried 10, but broke, but that was original, adjust for how many features used in data\n",
    "                              rnn_type='LSTM',\n",
    "                              latent=True,\n",
    "                              generative=True,\n",
    "                              num_iterations=50,   # started with: 5\n",
    "                              num_epochs=3,  # started with: 2\n",
    "                              batch_size=100,  # started with: 10\n",
    "                              learning_rate=5*1e-4, \n",
    "                              num_rnn_hidden=100,  # started with: 5\n",
    "                              num_rnn_layers=1,\n",
    "                              dropout_keep_prob=None,\n",
    "                              num_out_hidden=100,  # started with: 5\n",
    "                              num_out_layers=1)"
   ]
  },
  {
   "cell_type": "code",
   "execution_count": 23,
   "metadata": {
    "colab": {
     "base_uri": "https://localhost:8080/"
    },
    "executionInfo": {
     "elapsed": 17431,
     "status": "ok",
     "timestamp": 1658175895415,
     "user": {
      "displayName": "Keith Bourne",
      "userId": "06063145071346277193"
     },
     "user_tz": 240
    },
    "id": "mykKAC0e3Uso",
    "outputId": "cb2175f3-f775-45ac-c335-087a9090eeba"
   },
   "outputs": [
    {
     "name": "stdout",
     "output_type": "stream",
     "text": [
      "TensorFlow version : >= 1.0\n",
      "---------------------------\n",
      "WARNING:tensorflow:From /home/jupyter/.local/lib/python3.7/site-packages/tensorflow/contrib/legacy_seq2seq/python/ops/seq2seq.py:186: static_rnn (from tensorflow.python.ops.rnn) is deprecated and will be removed in a future version.\n",
      "Instructions for updating:\n",
      "Please use `keras.layers.RNN(cell, unroll=True)`, which is equivalent to this API\n",
      "Epoch 0 \t----- \tBatch 0 \t----- \tLog-Likelihood -1.396649e+02\n",
      "Epoch 0 \t----- \tBatch 1 \t----- \tLog-Likelihood -1.381706e+02\n",
      "Epoch 0 \t----- \tBatch 2 \t----- \tLog-Likelihood -1.279802e+02\n",
      "Epoch 0 \t----- \tBatch 3 \t----- \tLog-Likelihood -1.186122e+02\n",
      "Epoch 0 \t----- \tBatch 4 \t----- \tLog-Likelihood -1.222402e+02\n",
      "Epoch 0 \t----- \tBatch 5 \t----- \tLog-Likelihood -1.274587e+02\n",
      "Epoch 0 \t----- \tBatch 6 \t----- \tLog-Likelihood -1.216164e+02\n",
      "Epoch 0 \t----- \tBatch 7 \t----- \tLog-Likelihood -1.221703e+02\n",
      "Epoch 0 \t----- \tBatch 8 \t----- \tLog-Likelihood -1.200939e+02\n",
      "Epoch 0 \t----- \tBatch 9 \t----- \tLog-Likelihood -1.217922e+02\n",
      "Epoch 0 \t----- \tBatch 10 \t----- \tLog-Likelihood -1.213773e+02\n",
      "Epoch 0 \t----- \tBatch 11 \t----- \tLog-Likelihood -1.127119e+02\n",
      "Epoch 0 \t----- \tBatch 12 \t----- \tLog-Likelihood -1.242531e+02\n",
      "Epoch 0 \t----- \tBatch 13 \t----- \tLog-Likelihood -1.170258e+02\n",
      "Epoch 0 \t----- \tBatch 14 \t----- \tLog-Likelihood -1.254257e+02\n",
      "Epoch 0 \t----- \tBatch 15 \t----- \tLog-Likelihood -1.178923e+02\n",
      "Epoch 0 \t----- \tBatch 16 \t----- \tLog-Likelihood -1.136536e+02\n",
      "Epoch 0 \t----- \tBatch 17 \t----- \tLog-Likelihood -1.155592e+02\n",
      "Epoch 0 \t----- \tBatch 18 \t----- \tLog-Likelihood -1.118068e+02\n",
      "Epoch 0 \t----- \tBatch 19 \t----- \tLog-Likelihood -1.286904e+02\n",
      "Epoch 0 \t----- \tBatch 20 \t----- \tLog-Likelihood -1.160460e+02\n",
      "Epoch 0 \t----- \tBatch 21 \t----- \tLog-Likelihood -1.156934e+02\n",
      "Epoch 0 \t----- \tBatch 22 \t----- \tLog-Likelihood -1.139933e+02\n",
      "Epoch 0 \t----- \tBatch 23 \t----- \tLog-Likelihood -1.129003e+02\n",
      "Epoch 0 \t----- \tBatch 24 \t----- \tLog-Likelihood -1.164604e+02\n",
      "Epoch 0 \t----- \tBatch 25 \t----- \tLog-Likelihood -1.143730e+02\n",
      "Epoch 0 \t----- \tBatch 26 \t----- \tLog-Likelihood -1.168248e+02\n",
      "Epoch 0 \t----- \tBatch 27 \t----- \tLog-Likelihood -1.146332e+02\n",
      "Epoch 0 \t----- \tBatch 28 \t----- \tLog-Likelihood -1.176762e+02\n",
      "Epoch 0 \t----- \tBatch 29 \t----- \tLog-Likelihood -1.126028e+02\n",
      "Epoch 0 \t----- \tBatch 30 \t----- \tLog-Likelihood -1.218044e+02\n",
      "Epoch 0 \t----- \tBatch 31 \t----- \tLog-Likelihood -1.195545e+02\n",
      "Epoch 0 \t----- \tBatch 32 \t----- \tLog-Likelihood -1.166927e+02\n",
      "Epoch 0 \t----- \tBatch 33 \t----- \tLog-Likelihood -1.138503e+02\n",
      "Epoch 0 \t----- \tBatch 34 \t----- \tLog-Likelihood -1.139372e+02\n",
      "Epoch 0 \t----- \tBatch 35 \t----- \tLog-Likelihood -1.172727e+02\n",
      "Epoch 0 \t----- \tBatch 36 \t----- \tLog-Likelihood -1.188313e+02\n",
      "Epoch 0 \t----- \tBatch 37 \t----- \tLog-Likelihood -1.146705e+02\n",
      "Epoch 0 \t----- \tBatch 38 \t----- \tLog-Likelihood -1.092155e+02\n",
      "Epoch 0 \t----- \tBatch 39 \t----- \tLog-Likelihood -1.176647e+02\n",
      "Epoch 0 \t----- \tBatch 40 \t----- \tLog-Likelihood -1.144429e+02\n",
      "Epoch 0 \t----- \tBatch 41 \t----- \tLog-Likelihood -1.088549e+02\n",
      "Epoch 0 \t----- \tBatch 42 \t----- \tLog-Likelihood -1.158320e+02\n",
      "Epoch 0 \t----- \tBatch 43 \t----- \tLog-Likelihood -1.235566e+02\n",
      "Epoch 0 \t----- \tBatch 44 \t----- \tLog-Likelihood -1.226378e+02\n",
      "Epoch 0 \t----- \tBatch 45 \t----- \tLog-Likelihood -1.167343e+02\n",
      "Epoch 0 \t----- \tBatch 46 \t----- \tLog-Likelihood -1.174798e+02\n",
      "Epoch 0 \t----- \tBatch 47 \t----- \tLog-Likelihood -1.142006e+02\n",
      "Epoch 0 \t----- \tBatch 48 \t----- \tLog-Likelihood -1.190724e+02\n",
      "Epoch 0 \t----- \tBatch 49 \t----- \tLog-Likelihood -1.220485e+02\n",
      "Epoch 1 \t----- \tBatch 0 \t----- \tLog-Likelihood -1.137168e+02\n",
      "Epoch 1 \t----- \tBatch 1 \t----- \tLog-Likelihood -1.149337e+02\n",
      "Epoch 1 \t----- \tBatch 2 \t----- \tLog-Likelihood -1.189013e+02\n",
      "Epoch 1 \t----- \tBatch 3 \t----- \tLog-Likelihood -1.212998e+02\n",
      "Epoch 1 \t----- \tBatch 4 \t----- \tLog-Likelihood -1.134957e+02\n",
      "Epoch 1 \t----- \tBatch 5 \t----- \tLog-Likelihood -1.129702e+02\n",
      "Epoch 1 \t----- \tBatch 6 \t----- \tLog-Likelihood -1.193245e+02\n",
      "Epoch 1 \t----- \tBatch 7 \t----- \tLog-Likelihood -1.128246e+02\n",
      "Epoch 1 \t----- \tBatch 8 \t----- \tLog-Likelihood -1.136416e+02\n",
      "Epoch 1 \t----- \tBatch 9 \t----- \tLog-Likelihood -1.096429e+02\n",
      "Epoch 1 \t----- \tBatch 10 \t----- \tLog-Likelihood -1.194158e+02\n",
      "Epoch 1 \t----- \tBatch 11 \t----- \tLog-Likelihood -1.185172e+02\n",
      "Epoch 1 \t----- \tBatch 12 \t----- \tLog-Likelihood -1.063980e+02\n",
      "Epoch 1 \t----- \tBatch 13 \t----- \tLog-Likelihood -1.186534e+02\n",
      "Epoch 1 \t----- \tBatch 14 \t----- \tLog-Likelihood -1.166483e+02\n",
      "Epoch 1 \t----- \tBatch 15 \t----- \tLog-Likelihood -1.172449e+02\n",
      "Epoch 1 \t----- \tBatch 16 \t----- \tLog-Likelihood -1.174292e+02\n",
      "Epoch 1 \t----- \tBatch 17 \t----- \tLog-Likelihood -1.155543e+02\n",
      "Epoch 1 \t----- \tBatch 18 \t----- \tLog-Likelihood -1.171945e+02\n",
      "Epoch 1 \t----- \tBatch 19 \t----- \tLog-Likelihood -1.246338e+02\n",
      "Epoch 1 \t----- \tBatch 20 \t----- \tLog-Likelihood -1.132190e+02\n",
      "Epoch 1 \t----- \tBatch 21 \t----- \tLog-Likelihood -1.110545e+02\n",
      "Epoch 1 \t----- \tBatch 22 \t----- \tLog-Likelihood -1.158813e+02\n",
      "Epoch 1 \t----- \tBatch 23 \t----- \tLog-Likelihood -1.184176e+02\n",
      "Epoch 1 \t----- \tBatch 24 \t----- \tLog-Likelihood -1.197833e+02\n",
      "Epoch 1 \t----- \tBatch 25 \t----- \tLog-Likelihood -1.201465e+02\n",
      "Epoch 1 \t----- \tBatch 26 \t----- \tLog-Likelihood -1.174921e+02\n",
      "Epoch 1 \t----- \tBatch 27 \t----- \tLog-Likelihood -1.182560e+02\n",
      "Epoch 1 \t----- \tBatch 28 \t----- \tLog-Likelihood -1.168646e+02\n",
      "Epoch 1 \t----- \tBatch 29 \t----- \tLog-Likelihood -1.211877e+02\n",
      "Epoch 1 \t----- \tBatch 30 \t----- \tLog-Likelihood -1.146526e+02\n",
      "Epoch 1 \t----- \tBatch 31 \t----- \tLog-Likelihood -1.211849e+02\n",
      "Epoch 1 \t----- \tBatch 32 \t----- \tLog-Likelihood -1.164926e+02\n",
      "Epoch 1 \t----- \tBatch 33 \t----- \tLog-Likelihood -1.195935e+02\n",
      "Epoch 1 \t----- \tBatch 34 \t----- \tLog-Likelihood -1.152902e+02\n",
      "Epoch 1 \t----- \tBatch 35 \t----- \tLog-Likelihood -1.180554e+02\n",
      "Epoch 1 \t----- \tBatch 36 \t----- \tLog-Likelihood -1.182687e+02\n",
      "Epoch 1 \t----- \tBatch 37 \t----- \tLog-Likelihood -1.174023e+02\n",
      "Epoch 1 \t----- \tBatch 38 \t----- \tLog-Likelihood -1.145330e+02\n",
      "Epoch 1 \t----- \tBatch 39 \t----- \tLog-Likelihood -1.158327e+02\n",
      "Epoch 1 \t----- \tBatch 40 \t----- \tLog-Likelihood -1.161516e+02\n",
      "Epoch 1 \t----- \tBatch 41 \t----- \tLog-Likelihood -1.196043e+02\n",
      "Epoch 1 \t----- \tBatch 42 \t----- \tLog-Likelihood -1.177769e+02\n",
      "Epoch 1 \t----- \tBatch 43 \t----- \tLog-Likelihood -1.198387e+02\n",
      "Epoch 1 \t----- \tBatch 44 \t----- \tLog-Likelihood -1.144923e+02\n",
      "Epoch 1 \t----- \tBatch 45 \t----- \tLog-Likelihood -1.118139e+02\n",
      "Epoch 1 \t----- \tBatch 46 \t----- \tLog-Likelihood -1.106265e+02\n",
      "Epoch 1 \t----- \tBatch 47 \t----- \tLog-Likelihood -1.130020e+02\n",
      "Epoch 1 \t----- \tBatch 48 \t----- \tLog-Likelihood -1.150022e+02\n",
      "Epoch 1 \t----- \tBatch 49 \t----- \tLog-Likelihood -1.214073e+02\n",
      "Epoch 2 \t----- \tBatch 0 \t----- \tLog-Likelihood -1.088269e+02\n",
      "Epoch 2 \t----- \tBatch 1 \t----- \tLog-Likelihood -1.233310e+02\n",
      "Epoch 2 \t----- \tBatch 2 \t----- \tLog-Likelihood -1.172787e+02\n",
      "Epoch 2 \t----- \tBatch 3 \t----- \tLog-Likelihood -1.196062e+02\n",
      "Epoch 2 \t----- \tBatch 4 \t----- \tLog-Likelihood -1.183167e+02\n",
      "Epoch 2 \t----- \tBatch 5 \t----- \tLog-Likelihood -1.205573e+02\n",
      "Epoch 2 \t----- \tBatch 6 \t----- \tLog-Likelihood -1.171971e+02\n",
      "Epoch 2 \t----- \tBatch 7 \t----- \tLog-Likelihood -1.119162e+02\n",
      "Epoch 2 \t----- \tBatch 8 \t----- \tLog-Likelihood -1.124571e+02\n",
      "Epoch 2 \t----- \tBatch 9 \t----- \tLog-Likelihood -1.097534e+02\n",
      "Epoch 2 \t----- \tBatch 10 \t----- \tLog-Likelihood -1.210147e+02\n",
      "Epoch 2 \t----- \tBatch 11 \t----- \tLog-Likelihood -1.234599e+02\n",
      "Epoch 2 \t----- \tBatch 12 \t----- \tLog-Likelihood -1.216304e+02\n",
      "Epoch 2 \t----- \tBatch 13 \t----- \tLog-Likelihood -1.170909e+02\n",
      "Epoch 2 \t----- \tBatch 14 \t----- \tLog-Likelihood -1.188703e+02\n",
      "Epoch 2 \t----- \tBatch 15 \t----- \tLog-Likelihood -1.238069e+02\n",
      "Epoch 2 \t----- \tBatch 16 \t----- \tLog-Likelihood -1.208851e+02\n",
      "Epoch 2 \t----- \tBatch 17 \t----- \tLog-Likelihood -1.177031e+02\n",
      "Epoch 2 \t----- \tBatch 18 \t----- \tLog-Likelihood -1.196173e+02\n",
      "Epoch 2 \t----- \tBatch 19 \t----- \tLog-Likelihood -1.127316e+02\n",
      "Epoch 2 \t----- \tBatch 20 \t----- \tLog-Likelihood -1.205621e+02\n",
      "Epoch 2 \t----- \tBatch 21 \t----- \tLog-Likelihood -1.180766e+02\n",
      "Epoch 2 \t----- \tBatch 22 \t----- \tLog-Likelihood -1.171324e+02\n",
      "Epoch 2 \t----- \tBatch 23 \t----- \tLog-Likelihood -1.238301e+02\n",
      "Epoch 2 \t----- \tBatch 24 \t----- \tLog-Likelihood -1.157658e+02\n",
      "Epoch 2 \t----- \tBatch 25 \t----- \tLog-Likelihood -1.215484e+02\n",
      "Epoch 2 \t----- \tBatch 26 \t----- \tLog-Likelihood -1.166751e+02\n",
      "Epoch 2 \t----- \tBatch 27 \t----- \tLog-Likelihood -1.198959e+02\n",
      "Epoch 2 \t----- \tBatch 28 \t----- \tLog-Likelihood -1.191817e+02\n",
      "Epoch 2 \t----- \tBatch 29 \t----- \tLog-Likelihood -1.165040e+02\n",
      "Epoch 2 \t----- \tBatch 30 \t----- \tLog-Likelihood -1.182052e+02\n",
      "Epoch 2 \t----- \tBatch 31 \t----- \tLog-Likelihood -1.164055e+02\n",
      "Epoch 2 \t----- \tBatch 32 \t----- \tLog-Likelihood -1.168508e+02\n",
      "Epoch 2 \t----- \tBatch 33 \t----- \tLog-Likelihood -1.119258e+02\n",
      "Epoch 2 \t----- \tBatch 34 \t----- \tLog-Likelihood -1.130702e+02\n",
      "Epoch 2 \t----- \tBatch 35 \t----- \tLog-Likelihood -1.187964e+02\n",
      "Epoch 2 \t----- \tBatch 36 \t----- \tLog-Likelihood -1.167463e+02\n",
      "Epoch 2 \t----- \tBatch 37 \t----- \tLog-Likelihood -1.173132e+02\n",
      "Epoch 2 \t----- \tBatch 38 \t----- \tLog-Likelihood -1.194792e+02\n",
      "Epoch 2 \t----- \tBatch 39 \t----- \tLog-Likelihood -1.201974e+02\n",
      "Epoch 2 \t----- \tBatch 40 \t----- \tLog-Likelihood -1.153457e+02\n",
      "Epoch 2 \t----- \tBatch 41 \t----- \tLog-Likelihood -1.106612e+02\n",
      "Epoch 2 \t----- \tBatch 42 \t----- \tLog-Likelihood -1.146927e+02\n",
      "Epoch 2 \t----- \tBatch 43 \t----- \tLog-Likelihood -1.155843e+02\n",
      "Epoch 2 \t----- \tBatch 44 \t----- \tLog-Likelihood -1.150695e+02\n",
      "Epoch 2 \t----- \tBatch 45 \t----- \tLog-Likelihood -1.106298e+02\n",
      "Epoch 2 \t----- \tBatch 46 \t----- \tLog-Likelihood -1.169603e+02\n",
      "Epoch 2 \t----- \tBatch 47 \t----- \tLog-Likelihood -1.153185e+02\n",
      "Epoch 2 \t----- \tBatch 48 \t----- \tLog-Likelihood -1.167141e+02\n",
      "Epoch 2 \t----- \tBatch 49 \t----- \tLog-Likelihood -1.117567e+02\n",
      "WARNING:tensorflow:From /home/jupyter/assm.py:712: simple_save (from tensorflow.python.saved_model.simple_save) is deprecated and will be removed in a future version.\n",
      "Instructions for updating:\n",
      "This function will only be available through the v1 compatibility library as tf.compat.v1.saved_model.simple_save.\n",
      "WARNING:tensorflow:From /home/jupyter/.local/lib/python3.7/site-packages/tensorflow/python/saved_model/signature_def_utils_impl.py:205: build_tensor_info (from tensorflow.python.saved_model.utils_impl) is deprecated and will be removed in a future version.\n",
      "Instructions for updating:\n",
      "This function will only be available through the v1 compatibility library as tf.compat.v1.saved_model.utils.build_tensor_info or tf.compat.v1.saved_model.build_tensor_info.\n",
      "INFO:tensorflow:Assets added to graph.\n",
      "INFO:tensorflow:No assets to write.\n",
      "INFO:tensorflow:SavedModel written to: attentive_state_space/saved_model.pb\n"
     ]
    }
   ],
   "source": [
    "model_comb.fit(X_observations_comb)"
   ]
  },
  {
   "cell_type": "code",
   "execution_count": 24,
   "metadata": {
    "colab": {
     "base_uri": "https://localhost:8080/"
    },
    "executionInfo": {
     "elapsed": 59,
     "status": "ok",
     "timestamp": 1658175895416,
     "user": {
      "displayName": "Keith Bourne",
      "userId": "06063145071346277193"
     },
     "user_tz": 240
    },
    "id": "suvcrF1q3UvU",
    "outputId": "10701a74-7312-4120-b012-8150b5211553"
   },
   "outputs": [
    {
     "data": {
      "text/plain": [
       "array([0.74640271, 0.25359729])"
      ]
     },
     "execution_count": 24,
     "metadata": {},
     "output_type": "execute_result"
    }
   ],
   "source": [
    "model_comb.initial_probabilities"
   ]
  },
  {
   "cell_type": "code",
   "execution_count": 25,
   "metadata": {
    "colab": {
     "base_uri": "https://localhost:8080/"
    },
    "executionInfo": {
     "elapsed": 53,
     "status": "ok",
     "timestamp": 1658175895417,
     "user": {
      "displayName": "Keith Bourne",
      "userId": "06063145071346277193"
     },
     "user_tz": 240
    },
    "id": "vsLpuBDF3UyP",
    "outputId": "916bb83b-871e-4cd4-f83b-8dac6f98bdf3"
   },
   "outputs": [
    {
     "data": {
      "text/plain": [
       "array([[9.99795518e-01, 2.04482251e-04],\n",
       "       [1.32820692e-03, 9.98671793e-01]])"
      ]
     },
     "execution_count": 25,
     "metadata": {},
     "output_type": "execute_result"
    }
   ],
   "source": [
    "model_comb.transition_matrix"
   ]
  },
  {
   "cell_type": "code",
   "execution_count": 26,
   "metadata": {
    "colab": {
     "base_uri": "https://localhost:8080/"
    },
    "executionInfo": {
     "elapsed": 42,
     "status": "ok",
     "timestamp": 1658175895418,
     "user": {
      "displayName": "Keith Bourne",
      "userId": "06063145071346277193"
     },
     "user_tz": 240
    },
    "id": "jdNG_p283U08",
    "outputId": "62c6b535-b964-43cd-8751-7cb818aee700"
   },
   "outputs": [
    {
     "data": {
      "text/plain": [
       "array([[3.33716668e-01, 2.40690333e+00],\n",
       "       [2.99779941e-02, 3.56472414e-02],\n",
       "       [5.19223714e-01, 2.22027814e+00],\n",
       "       [5.32318504e-01, 2.15825958e+00],\n",
       "       [1.81418978e-02, 9.98015029e-02],\n",
       "       [2.82052903e-01, 1.14920319e+00],\n",
       "       [4.01907776e-01, 1.56489738e+00],\n",
       "       [1.48834065e-01, 6.36311218e-01],\n",
       "       [1.86542740e-01, 9.35693068e-01],\n",
       "       [2.03097464e-01, 8.36785841e-01],\n",
       "       [6.83858700e-01, 2.79099363e+00],\n",
       "       [6.91866984e-01, 2.70675223e+00],\n",
       "       [5.30065757e-01, 2.17615645e+00],\n",
       "       [6.39953856e-01, 2.34195841e+00],\n",
       "       [3.35169658e-01, 1.50975660e+00],\n",
       "       [2.61275412e-01, 1.05047447e+00],\n",
       "       [3.60578115e-01, 1.63755704e+00],\n",
       "       [3.85762937e-02, 2.00106250e-01],\n",
       "       [4.97075407e-01, 1.49466098e+00],\n",
       "       [5.22576879e-01, 1.03022820e+01],\n",
       "       [9.49697856e-01, 9.61454740e-01],\n",
       "       [1.70657385e-01, 2.00286249e-01],\n",
       "       [5.11992882e-01, 1.47660138e+00],\n",
       "       [4.77282254e-01, 5.14183511e+00],\n",
       "       [9.34569584e-01, 9.20380177e-01],\n",
       "       [9.85878993e-01, 9.77149899e-01],\n",
       "       [9.72671458e-01, 9.62663933e-01],\n",
       "       [6.72935617e-01, 1.38085753e+00],\n",
       "       [7.01642213e-01, 2.36407662e+00],\n",
       "       [8.93807006e-02, 1.54248530e-01],\n",
       "       [1.56467938e-01, 1.18432983e-01],\n",
       "       [3.82632276e-01, 3.91942827e-01],\n",
       "       [2.83247888e-01, 1.88437429e-01],\n",
       "       [5.00007638e-01, 1.93621258e+00],\n",
       "       [2.49687529e-01, 9.33021094e-01],\n",
       "       [8.60622256e-01, 8.44913393e-01],\n",
       "       [8.04542300e-01, 7.96787401e-01],\n",
       "       [3.63859393e-01, 3.71194104e-01],\n",
       "       [1.22652066e-01, 1.31305124e+02],\n",
       "       [6.45520387e-02, 9.91069369e-02],\n",
       "       [1.12693379e-01, 1.13695638e+00],\n",
       "       [4.57720636e-01, 8.86785339e-02]])"
      ]
     },
     "execution_count": 26,
     "metadata": {},
     "output_type": "execute_result"
    }
   ],
   "source": [
    "model_comb.state_means.T "
   ]
  },
  {
   "cell_type": "code",
   "execution_count": 27,
   "metadata": {
    "colab": {
     "base_uri": "https://localhost:8080/"
    },
    "executionInfo": {
     "elapsed": 32,
     "status": "ok",
     "timestamp": 1658175895418,
     "user": {
      "displayName": "Keith Bourne",
      "userId": "06063145071346277193"
     },
     "user_tz": 240
    },
    "id": "tZbndcnh3U3Y",
    "outputId": "dbfc9d13-7585-4e74-9260-0b11c5f5effd"
   },
   "outputs": [
    {
     "data": {
      "text/plain": [
       "array([[[ 4.33812244e-02,  3.15262543e-03, -2.76251236e-03, ...,\n",
       "          5.39202593e-03, -3.96864800e-03, -3.81808902e-03],\n",
       "        [ 3.15262543e-03,  2.31830259e-02, -2.34432828e-03, ...,\n",
       "         -1.73622969e-03,  8.00828641e-03,  4.84281604e-04],\n",
       "        [-2.76251236e-03, -2.34432828e-03,  7.98215542e-02, ...,\n",
       "          1.08165142e-03, -3.13024028e-03, -3.89475158e-02],\n",
       "        ...,\n",
       "        [ 5.39202593e-03, -1.73622969e-03,  1.08165142e-03, ...,\n",
       "          5.60656730e-02, -5.06987109e-03, -9.74864788e-03],\n",
       "        [-3.96864800e-03,  8.00828641e-03, -3.13024028e-03, ...,\n",
       "         -5.06987109e-03,  5.61554192e-02,  4.96599290e-03],\n",
       "        [-3.81808902e-03,  4.84281604e-04, -3.89475158e-02, ...,\n",
       "         -9.74864788e-03,  4.96599290e-03,  2.44062683e-01]],\n",
       "\n",
       "       [[ 1.06072758e+00,  2.31940824e-02, -1.80452023e-01, ...,\n",
       "         -2.41884320e-03,  1.28087625e-02,  3.16364106e-02],\n",
       "        [ 2.31940824e-02,  3.43774294e-02, -1.63760948e-03, ...,\n",
       "          8.64461477e-04,  7.78198632e-03,  2.35011458e-03],\n",
       "        [-1.80452023e-01, -1.63760948e-03,  1.10804952e+00, ...,\n",
       "          1.61486005e-02,  6.83943584e-04, -8.42802910e-03],\n",
       "        ...,\n",
       "        [-2.41884320e-03,  8.64461477e-04,  1.61486005e-02, ...,\n",
       "          8.92076769e-02, -3.02135312e-03, -3.43388236e-04],\n",
       "        [ 1.28087625e-02,  7.78198632e-03,  6.83943584e-04, ...,\n",
       "         -3.02135312e-03,  2.17028998e-01,  6.70168926e-03],\n",
       "        [ 3.16364106e-02,  2.35011458e-03, -8.42802910e-03, ...,\n",
       "         -3.43388236e-04,  6.70168926e-03,  8.07392076e-02]]])"
      ]
     },
     "execution_count": 27,
     "metadata": {},
     "output_type": "execute_result"
    }
   ],
   "source": [
    "model_comb.state_covars"
   ]
  },
  {
   "cell_type": "code",
   "execution_count": 28,
   "metadata": {
    "colab": {
     "base_uri": "https://localhost:8080/"
    },
    "executionInfo": {
     "elapsed": 26,
     "status": "ok",
     "timestamp": 1658175895419,
     "user": {
      "displayName": "Keith Bourne",
      "userId": "06063145071346277193"
     },
     "user_tz": 240
    },
    "id": "iaCLWGl-3U55",
    "outputId": "cb2c4613-f727-4243-947b-8dbcec8a033e"
   },
   "outputs": [
    {
     "data": {
      "text/plain": [
       "array([[ 4.  ,  0.  ,  1.  ,  0.  ,  0.  ,  0.  ,  0.  ,  0.  ,  2.  ,\n",
       "         0.  ,  2.  ,  1.  ,  2.  ,  2.  ,  0.  ,  0.  ,  0.  ,  1.  ,\n",
       "         1.  , 15.25,  1.  ,  0.  ,  1.  ,  2.  ,  1.  ,  1.  ,  1.  ,\n",
       "         2.  ,  3.  ,  0.  ,  0.  ,  1.  ,  0.  ,  2.  ,  0.  ,  1.  ,\n",
       "         1.  ,  0.  , 47.  ,  0.  ,  1.  ,  0.  ],\n",
       "       [ 4.  ,  0.  ,  1.  ,  0.  ,  0.  ,  0.  ,  0.  ,  0.  ,  2.  ,\n",
       "         0.  ,  2.  ,  1.  ,  2.  ,  2.  ,  0.  ,  0.  ,  0.  ,  1.  ,\n",
       "         1.  , 15.25,  1.  ,  0.  ,  1.  ,  2.  ,  1.  ,  1.  ,  1.  ,\n",
       "         2.  ,  3.  ,  0.  ,  0.  ,  1.  ,  0.  ,  2.  ,  0.  ,  1.  ,\n",
       "         1.  ,  1.  , 47.  ,  0.  ,  1.  ,  0.  ],\n",
       "       [ 4.  ,  0.  ,  1.  ,  0.  ,  0.  ,  0.  ,  0.  ,  0.  ,  2.  ,\n",
       "         0.  ,  2.  ,  1.  ,  2.  ,  2.  ,  0.  ,  0.  ,  0.  ,  1.  ,\n",
       "         1.  , 15.25,  1.  ,  0.  ,  1.  ,  2.  ,  1.  ,  1.  ,  1.  ,\n",
       "         2.  ,  3.  ,  0.  ,  0.  ,  1.  ,  0.  ,  2.  ,  0.  ,  1.  ,\n",
       "         1.  ,  0.  , 47.  ,  0.  ,  1.  ,  0.  ],\n",
       "       [ 4.  ,  0.  ,  1.  ,  0.  ,  0.  ,  0.  ,  0.  ,  0.  ,  2.  ,\n",
       "         0.  ,  2.  ,  1.  ,  2.  ,  2.  ,  0.  ,  0.  ,  0.  ,  1.  ,\n",
       "         1.  , 15.25,  1.  ,  0.  ,  1.  ,  2.  ,  1.  ,  1.  ,  1.  ,\n",
       "         2.  ,  3.  ,  0.  ,  0.  ,  1.  ,  0.  ,  2.  ,  0.  ,  1.  ,\n",
       "         1.  ,  0.  , 47.  ,  0.  ,  1.  ,  0.  ],\n",
       "       [ 4.  ,  0.  ,  1.  ,  0.  ,  0.  ,  0.  ,  0.  ,  0.  ,  2.  ,\n",
       "         0.  ,  2.  ,  1.  ,  2.  ,  2.  ,  0.  ,  0.  ,  0.  ,  1.  ,\n",
       "         1.  , 15.25,  1.  ,  0.  ,  1.  ,  2.  ,  1.  ,  1.  ,  1.  ,\n",
       "         2.  ,  3.  ,  0.  ,  0.  ,  1.  ,  0.  ,  2.  ,  0.  ,  1.  ,\n",
       "         1.  ,  1.  , 47.  ,  0.  ,  1.  ,  0.  ]])"
      ]
     },
     "execution_count": 28,
     "metadata": {},
     "output_type": "execute_result"
    }
   ],
   "source": [
    "X_observations_comb[3]"
   ]
  },
  {
   "cell_type": "code",
   "execution_count": 29,
   "metadata": {
    "colab": {
     "base_uri": "https://localhost:8080/"
    },
    "executionInfo": {
     "elapsed": 2189,
     "status": "ok",
     "timestamp": 1658175897587,
     "user": {
      "displayName": "Keith Bourne",
      "userId": "06063145071346277193"
     },
     "user_tz": 240
    },
    "id": "FFAMqOQS3bNu",
    "outputId": "b3d53d9f-0c47-4cff-e0f6-8612c86b85d3"
   },
   "outputs": [
    {
     "name": "stdout",
     "output_type": "stream",
     "text": [
      "WARNING:tensorflow:From /home/jupyter/.local/lib/python3.7/site-packages/tensorflow/python/training/saver.py:1266: checkpoint_exists (from tensorflow.python.training.checkpoint_management) is deprecated and will be removed in a future version.\n",
      "Instructions for updating:\n",
      "Use standard file APIs to check for files with this prefix.\n",
      "INFO:tensorflow:Restoring parameters from ./mlaimRNN_model\n"
     ]
    }
   ],
   "source": [
    "predict_idx_comb = 0\n",
    "state_inference_comb, expected_observations_comb, attention_comb = model_comb.predict([X_observations_comb[predict_idx_comb]])"
   ]
  },
  {
   "cell_type": "code",
   "execution_count": 30,
   "metadata": {
    "colab": {
     "base_uri": "https://localhost:8080/"
    },
    "executionInfo": {
     "elapsed": 8,
     "status": "ok",
     "timestamp": 1658175897587,
     "user": {
      "displayName": "Keith Bourne",
      "userId": "06063145071346277193"
     },
     "user_tz": 240
    },
    "id": "hjZLcI1_3bQp",
    "outputId": "d3b97baa-fd18-4636-d0a8-654d3e725bc2"
   },
   "outputs": [
    {
     "data": {
      "text/plain": [
       "array([1, 1, 1, 1, 1])"
      ]
     },
     "execution_count": 30,
     "metadata": {},
     "output_type": "execute_result"
    }
   ],
   "source": [
    "np.argmax(state_inference_comb[predict_idx_comb], axis=1)"
   ]
  },
  {
   "cell_type": "code",
   "execution_count": 31,
   "metadata": {
    "colab": {
     "base_uri": "https://localhost:8080/",
     "height": 297
    },
    "executionInfo": {
     "elapsed": 348,
     "status": "ok",
     "timestamp": 1658175897929,
     "user": {
      "displayName": "Keith Bourne",
      "userId": "06063145071346277193"
     },
     "user_tz": 240
    },
    "id": "6VQ_Qj7Y3bTV",
    "outputId": "739a9176-4895-4d95-a1e6-f9f438209eee"
   },
   "outputs": [
    {
     "data": {
      "image/png": "[encoded data removed]",
      "text/plain": [
       "<Figure size 432x288 with 2 Axes>"
      ]
     },
     "metadata": {
      "needs_background": "light"
     },
     "output_type": "display_data"
    }
   ],
   "source": [
    "fig, ax1 = plt.subplots()\n",
    "trajectory_index_comb = 0\n",
    "t_comb = list(range(len(true_states_comb[trajectory_index_comb])))\n",
    "color = 'tab:red'\n",
    "ax1.set_xlabel('time (s)')\n",
    "ax1.set_ylabel('MAP state estimate', color=color)\n",
    "ax1.plot(t_comb, np.argmax(state_inference_comb[trajectory_index_comb], axis=1), color=color, linewidth=5)\n",
    "ax1.tick_params(axis='y', labelcolor=color)\n",
    "ax1.set_yticks([0, 1, 2])\n",
    "ax2 = ax1.twinx()  \n",
    "color = 'tab:blue'\n",
    "ax2.set_ylabel('True states', color=color)  \n",
    "ax2.step(t_comb, true_states_comb[trajectory_index_comb], color=color, linewidth=5)\n",
    "ax2.tick_params(axis='y', labelcolor=color)\n",
    "ax2.set_yticks([0, 1, 2])\n",
    "fig.tight_layout()  \n",
    "plt.show()"
   ]
  },
  {
   "cell_type": "code",
   "execution_count": 32,
   "metadata": {
    "colab": {
     "base_uri": "https://localhost:8080/",
     "height": 297
    },
    "executionInfo": {
     "elapsed": 340,
     "status": "ok",
     "timestamp": 1658175898262,
     "user": {
      "displayName": "Keith Bourne",
      "userId": "06063145071346277193"
     },
     "user_tz": 240
    },
    "id": "uHhJLCuG3f4z",
    "outputId": "36ad15ae-7541-41c9-f6b6-c4f04f6b11e7"
   },
   "outputs": [
    {
     "data": {
      "image/png": "[encoded data removed]",
      "text/plain": [
       "<Figure size 432x288 with 2 Axes>"
      ]
     },
     "metadata": {
      "needs_background": "light"
     },
     "output_type": "display_data"
    }
   ],
   "source": [
    "fig, ax1 = plt.subplots()\n",
    "t_comb = list(range(len(true_states_comb[trajectory_index_comb])))\n",
    "color = 'tab:red'\n",
    "ax1.set_xlabel('Time step')\n",
    "ax1.set_ylabel('True observations', color=color)\n",
    "ax1.plot(t_comb, X_observations_comb[trajectory_index_comb], color=color, linewidth=5, alpha=0.2)\n",
    "ax1.tick_params(axis='y', labelcolor=color)\n",
    "ax2 = ax1.twinx()  \n",
    "color = 'tab:blue'\n",
    "ax2.set_ylabel('Predicted average observations', color=color)  \n",
    "ax2.plot(t_comb, expected_observations_comb[trajectory_index_comb], color=color, linewidth=5, alpha=0.1)\n",
    "ax2.tick_params(axis='y', labelcolor=color)\n",
    "ax2.set_yticks([0, 1, 2])\n",
    "fig.tight_layout()  \n",
    "plt.show()"
   ]
  },
  {
   "cell_type": "code",
   "execution_count": 33,
   "metadata": {
    "colab": {
     "base_uri": "https://localhost:8080/",
     "height": 283
    },
    "executionInfo": {
     "elapsed": 304,
     "status": "ok",
     "timestamp": 1658175898553,
     "user": {
      "displayName": "Keith Bourne",
      "userId": "06063145071346277193"
     },
     "user_tz": 240
    },
    "id": "0GLtAEVt3f8f",
    "outputId": "e31b9461-622e-41a3-bb4b-440257009cbf"
   },
   "outputs": [
    {
     "data": {
      "image/png": "[encoded data removed]",
      "text/plain": [
       "<Figure size 432x288 with 2 Axes>"
      ]
     },
     "metadata": {},
     "output_type": "display_data"
    }
   ],
   "source": [
    "# Visualize the attention weights over time\n",
    "import seaborn as sns\n",
    "Attention_weights_comb = []\n",
    "for w in range(len(attention_comb[0])):\n",
    "    Attention_weights_comb.append(np.vstack((attention_comb[0][w], np.zeros((len(attention_comb[0][-1]) - len(attention_comb[0][w]),1)))))\n",
    "Attention_weights_comb = np.array(Attention_weights_comb).reshape((len(attention_comb[0][-1]), len(attention_comb[0][-1])))[:state_inference_comb[0].shape[0], :state_inference_comb[0].shape[0]]\n",
    "mask_comb = np.zeros_like(Attention_weights_comb)\n",
    "mask_comb[np.triu_indices_from(mask_comb)] = True\n",
    "with sns.axes_style(\"white\"):\n",
    "    ax = sns.heatmap(Attention_weights_comb, mask=mask_comb, vmax=.3, square=True)\n",
    "    ax.set_ylabel('Chronological time')\n",
    "    ax.set_xlabel('Previous time steps')"
   ]
  },
  {
   "cell_type": "markdown",
   "metadata": {
    "executionInfo": {
     "elapsed": 19,
     "status": "ok",
     "timestamp": 1658175898555,
     "user": {
      "displayName": "Keith Bourne",
      "userId": "06063145071346277193"
     },
     "user_tz": 240
    },
    "id": "4H9M5H2Q3gAj",
    "jp-MarkdownHeadingCollapsed": true,
    "tags": []
   },
   "source": [
    "# HIDDEN MARKOV MODEL (HMM)"
   ]
  },
  {
   "cell_type": "code",
   "execution_count": 36,
   "metadata": {},
   "outputs": [
    {
     "name": "stdout",
     "output_type": "stream",
     "text": [
      "Elapsed time to run HMM model: 8.325 seconds\n",
      "Elapsed time to predict with HMM model: 0.463 seconds\n"
     ]
    },
    {
     "data": {
      "text/plain": [
       "array([[2.35552666e+00, 1.73877461e-66, 2.15986129e+00, ...,\n",
       "        3.71425544e-56, 1.12735154e+00, 8.66926745e-02],\n",
       "       [2.35552666e+00, 1.73877461e-66, 2.15986129e+00, ...,\n",
       "        3.71425544e-56, 1.12735154e+00, 8.66926745e-02],\n",
       "       [2.35552666e+00, 1.73877461e-66, 2.15986129e+00, ...,\n",
       "        3.71425544e-56, 1.12735154e+00, 8.66926745e-02],\n",
       "       ...,\n",
       "       [2.35552666e+00, 1.73877461e-66, 2.15986129e+00, ...,\n",
       "        3.71425544e-56, 1.12735154e+00, 8.66926745e-02],\n",
       "       [2.35552666e+00, 1.73877461e-66, 2.15986129e+00, ...,\n",
       "        3.71425544e-56, 1.12735154e+00, 8.66926745e-02],\n",
       "       [2.35552666e+00, 1.73877461e-66, 2.15986129e+00, ...,\n",
       "        3.71425544e-56, 1.12735154e+00, 8.66926745e-02]])"
      ]
     },
     "execution_count": 36,
     "metadata": {},
     "output_type": "execute_result"
    }
   ],
   "source": [
    "hmm_model = HMM(num_states = 4)\n",
    "X_new_observations, new_true_states = generate_doggo_trajectory(assm_df[17000:24000], feats=assm_feat_list)\n",
    "len(X_new_observations)\n",
    "\n",
    "start_time = time.time()\n",
    "\n",
    "hmm_model.fit(X_observations)\n",
    "\n",
    "elapsed_time = time.time() - start_time\n",
    "print(f\"Elapsed time to run HMM model: {elapsed_time:.3f} seconds\")\n",
    "\n",
    "start_time = time.time()\n",
    "\n",
    "z2 = hmm_model.predict(X_new_observations)\n",
    "\n",
    "elapsed_time = time.time() - start_time\n",
    "print(f\"Elapsed time to predict with HMM model: {elapsed_time:.3f} seconds\")\n",
    "\n",
    "z2"
   ]
  },
  {
   "cell_type": "code",
   "execution_count": 37,
   "metadata": {},
   "outputs": [
    {
     "data": {
      "text/plain": [
       "(array([[ 3.66055651e+00,  1.06967783e-03,  3.57067713e+00,\n",
       "          2.47108834e+00,  4.77794947e-01,  1.43825379e+00,\n",
       "          1.57823874e+00,  1.30441812e+00,  1.08132050e+00,\n",
       "          2.37633324e+00,  1.40502384e+00,  2.45511005e+00,\n",
       "          4.36499444e+00,  3.25745147e+00,  2.52655165e+00,\n",
       "          6.56450711e-01,  1.92918829e+00,  4.53280829e-01,\n",
       "          1.36354895e+00,  1.13564873e+01,  9.99174940e-01,\n",
       "         -1.77009093e-01,  8.83829550e-01,  5.19305274e+00,\n",
       "          7.00051859e-01,  1.24758910e+00,  7.81605891e-01,\n",
       "         -4.38607639e-01,  1.89655935e+00,  1.47651064e-01,\n",
       "          1.71775318e-01,  4.46629169e-01, -3.12376871e-01,\n",
       "          1.43959696e+00,  9.59499318e-01,  1.16810105e+00,\n",
       "          1.13660747e+00,  4.05069991e-01,  8.39619220e+01,\n",
       "          3.63712129e-01,  1.23938758e+00,  4.22470141e-02]]),\n",
       " array([1]))"
      ]
     },
     "execution_count": 37,
     "metadata": {},
     "output_type": "execute_result"
    }
   ],
   "source": [
    "sample = hmm_model.hmm_model.sample()\n",
    "sample"
   ]
  },
  {
   "cell_type": "code",
   "execution_count": 38,
   "metadata": {},
   "outputs": [
    {
     "data": {
      "text/plain": [
       "-71697.22300218203"
      ]
     },
     "execution_count": 38,
     "metadata": {},
     "output_type": "execute_result"
    }
   ],
   "source": [
    "score = hmm_model.hmm_model.score(z2)\n",
    "score"
   ]
  },
  {
   "cell_type": "code",
   "execution_count": 41,
   "metadata": {},
   "outputs": [
    {
     "data": {
      "text/plain": [
       "array([[2.35552666e+00, 1.73877461e-66, 2.15986129e+00, ...,\n",
       "        3.71425544e-56, 1.12735154e+00, 8.66926745e-02],\n",
       "       [2.35552666e+00, 1.73877461e-66, 2.15986129e+00, ...,\n",
       "        3.71425544e-56, 1.12735154e+00, 8.66926745e-02],\n",
       "       [2.35552666e+00, 1.73877461e-66, 2.15986129e+00, ...,\n",
       "        3.71425544e-56, 1.12735154e+00, 8.66926745e-02],\n",
       "       ...,\n",
       "       [2.35552666e+00, 1.73877461e-66, 2.15986129e+00, ...,\n",
       "        3.71425544e-56, 1.12735154e+00, 8.66926745e-02],\n",
       "       [2.35552666e+00, 1.73877461e-66, 2.15986129e+00, ...,\n",
       "        3.71425544e-56, 1.12735154e+00, 8.66926745e-02],\n",
       "       [2.35552666e+00, 1.73877461e-66, 2.15986129e+00, ...,\n",
       "        3.71425544e-56, 1.12735154e+00, 8.66926745e-02]])"
      ]
     },
     "execution_count": 41,
     "metadata": {},
     "output_type": "execute_result"
    }
   ],
   "source": [
    "# 2nd test\n",
    "X_new_observations2, new_true_states2 = generate_doggo_trajectory(assm_df[24000:31000], feats=assm_feat_list)\n",
    "\n",
    "# inferred optimal hidden state can be obtained by calling predict()\n",
    "z3 = hmm_model.predict(X_new_observations2)\n",
    "\n",
    "z3"
   ]
  },
  {
   "cell_type": "code",
   "execution_count": 42,
   "metadata": {},
   "outputs": [
    {
     "data": {
      "text/plain": [
       "-55529.288612287884"
      ]
     },
     "execution_count": 42,
     "metadata": {},
     "output_type": "execute_result"
    }
   ],
   "source": [
    "# the score of the model can be calucated by the score() method\n",
    "score3 = hmm_model.hmm_model.score(z3)\n",
    "score3"
   ]
  },
  {
   "cell_type": "code",
   "execution_count": null,
   "metadata": {},
   "outputs": [],
   "source": []
  }
 ],
 "metadata": {
  "colab": {
   "authorship_tag": "ABX9TyMlbuJdCu4SdiVcI5HaZlHA",
   "collapsed_sections": [],
   "name": "DogCancerTrajectoryPredictions.ipynb",
   "provenance": []
  },
  "kernelspec": {
   "display_name": "TensorFlow 2 (Local)",
   "language": "python",
   "name": "local-tf2"
  },
  "language_info": {
   "codemirror_mode": {
    "name": "ipython",
    "version": 3
   },
   "file_extension": ".py",
   "mimetype": "text/x-python",
   "name": "python",
   "nbconvert_exporter": "python",
   "pygments_lexer": "ipython3",
   "version": "3.7.12"
  }
 },
 "nbformat": 4,
 "nbformat_minor": 4
}
